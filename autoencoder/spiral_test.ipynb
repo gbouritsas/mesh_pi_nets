{
 "cells": [
  {
   "cell_type": "code",
   "execution_count": 1,
   "metadata": {},
   "outputs": [
    {
     "data": {
      "text/plain": [
       "'GeForce RTX 2080 Ti'"
      ]
     },
     "execution_count": 1,
     "metadata": {},
     "output_type": "execute_result"
    }
   ],
   "source": [
    "import sys\n",
    "sys.path.append('../')\n",
    "from lib import mesh_sampling\n",
    "import numpy as np\n",
    "import json\n",
    "import os\n",
    "import copy\n",
    "from facemesh import FaceData\n",
    "import time\n",
    "import pickle\n",
    "import trimesh\n",
    "\n",
    "try:\n",
    "    import psbody.mesh\n",
    "    found = True\n",
    "except ImportError:\n",
    "    found = False\n",
    "if found:\n",
    "    from psbody.mesh import Mesh, MeshViewer, MeshViewers\n",
    "\n",
    "from autoencoder_dataset import autoencoder_dataset\n",
    "from torch.utils.data import DataLoader\n",
    "\n",
    "from spiral_utils import get_adj_trigs, generate_spirals\n",
    "from models import SpiralAutoencoder, SpiralAutoencoder_extra_conv\n",
    "\n",
    "from test_funcs import test_autoencoder_dataloader\n",
    "\n",
    "\n",
    "import torch\n",
    "from tensorboardX import SummaryWriter\n",
    "\n",
    "from sklearn.metrics.pairwise import euclidean_distances\n",
    "meshpackage = 'trimesh'\n",
    "root_dir = '/data/gb318/datasets/'\n",
    "\n",
    "name = 'sliced'\n",
    "dataset = 'COMA'    \n",
    "\n",
    "GPU = True\n",
    "device_idx = 9\n",
    "torch.cuda.get_device_name(device_idx)"
   ]
  },
  {
   "cell_type": "code",
   "execution_count": 2,
   "metadata": {},
   "outputs": [],
   "source": [
    "args = {}\n",
    "\n",
    "generative_model = 'autoencoder'\n",
    "dilation_flag = False\n",
    "hardcode_down_ref = False\n",
    "downsample_method = 'COMA_downsample' # choose'COMA_downsample' or 'meshlab_downsample'\n",
    "downsample_config = ''\n",
    "\n",
    "if dataset == 'COMA':\n",
    "    reference_mesh_file = os.path.join(root_dir, dataset,'preprocessed/templates/template.obj')\n",
    "    downsample_directory = os.path.join(root_dir, dataset,'preprocessed/templates',downsample_method,downsample_config)\n",
    "    ds_factors = [4, 4, 4, 4]\n",
    "    step_sizes = [1, 1, 1, 1, 1]\n",
    "    filter_sizes_enc = [[3, 16, 16, 16, 32],[[],[],[],[],[]]]\n",
    "    filter_sizes_dec = [[32, 32, 16, 16, 3],[[],[],[],[],[]]]\n",
    "    if dilation_flag:\n",
    "        dilation=[2, 2, 2, 1, 1] \n",
    "    else:\n",
    "        dilation = None\n",
    "\n",
    "args = {'generative_model': generative_model,\n",
    "        'name': name, 'data': os.path.join(root_dir, dataset, 'preprocessed',name),\n",
    "        'results_folder':  os.path.join(root_dir, dataset,'results/higher_order_'+ generative_model,\\\n",
    "                                        downsample_method, downsample_config,'injection_1st_order_reimpl'),\n",
    "        'reference_mesh_file':reference_mesh_file, 'downsample_directory': downsample_directory,\n",
    "        'checkpoint_file': 'checkpoint',\n",
    "        'seed':2, 'loss':'l1',\n",
    "        'batch_size':16, 'num_epochs':300, 'eval_frequency':200, 'num_workers': 4,\n",
    "        'filter_sizes_enc': filter_sizes_enc, 'filter_sizes_dec': filter_sizes_dec,\n",
    "        'nz':16, \n",
    "        'ds_factors': ds_factors, 'step_sizes' : step_sizes, 'dilation': dilation,\n",
    "        'injection': False, 'residual': False, \n",
    "        \n",
    "        'lr':1e-3, \n",
    "        'regularization': 5e-5,         \n",
    "        'scheduler': True, 'decay_rate': 0.99,'decay_steps':1,  \n",
    "        'resume': False,\n",
    "        \n",
    "        'mode':'test', 'shuffle': True, 'nVal': 100, 'normalization': True}\n",
    "\n",
    "if generative_model == 'autoencoder':\n",
    "    args['results_folder'] = os.path.join(args['results_folder'],\\\n",
    "                                          'latent_'+str(args['nz']))\n",
    "    \n",
    "if not os.path.exists(os.path.join(args['results_folder'])):\n",
    "    os.makedirs(os.path.join(args['results_folder']))\n",
    "\n",
    "summary_path = os.path.join(args['results_folder'],'summaries',args['name'])\n",
    "if not os.path.exists(summary_path):\n",
    "    os.makedirs(summary_path)  \n",
    "    \n",
    "checkpoint_path = os.path.join(args['results_folder'],'checkpoints', args['name'])\n",
    "if not os.path.exists(checkpoint_path):\n",
    "    os.makedirs(checkpoint_path)\n",
    "    \n",
    "samples_path = os.path.join(args['results_folder'],'samples', args['name'])\n",
    "if not os.path.exists(samples_path):\n",
    "    os.makedirs(samples_path)\n",
    "    \n",
    "prediction_path = os.path.join(args['results_folder'],'predictions', args['name'])\n",
    "if not os.path.exists(prediction_path):\n",
    "    os.makedirs(prediction_path)\n",
    "\n",
    "if not os.path.exists(downsample_directory):\n",
    "    os.makedirs(downsample_directory)\n",
    "\n",
    "if hardcode_down_ref:\n",
    "    if dataset == 'COMA' and downsample_method == 'COMA_downsample':\n",
    "        reference_points = [[3567,4051,4597],\n",
    "                            [1010,1081,1170],\n",
    "                            [256, 276, 295],\n",
    "                            [11, 69, 74],\n",
    "                            [17, 17, 17]]\n",
    "    elif dataset == 'COMA' and downsample_method == 'meshlab_downsample' and downsample_config == 'preserve_topology=True_preserve_boundary=False':\n",
    "        reference_points = [[3567, 4051, 4597],\n",
    "                             [1105, 1214, 1241],\n",
    "                             [289, 310, 318],\n",
    "                             [70, 80, 85],\n",
    "                             [2, 19, 24]]\n",
    "    else:\n",
    "        raise NotImplementedError\n",
    "else:\n",
    "    if dataset == 'COMA':\n",
    "        reference_points = [[3567,4051,4597]]\n",
    "        "
   ]
  },
  {
   "cell_type": "code",
   "execution_count": 3,
   "metadata": {},
   "outputs": [
    {
     "name": "stdout",
     "output_type": "stream",
     "text": [
      "Loading data .. \n",
      "Loading Transform Matrices ..\n",
      "Calculating reference points for downsampled versions..\n"
     ]
    }
   ],
   "source": [
    "np.random.seed(args['seed'])\n",
    "print(\"Loading data .. \")\n",
    "if not os.path.exists(args['data']+'/mean.npy') or not os.path.exists(args['data']+'/std.npy'):\n",
    "    facedata = FaceData(nVal=args['nVal'], train_file=args['data']+'/train.npy',\n",
    "                             test_file=args['data']+'/test.npy', reference_mesh_file=args['reference_mesh_file'],\n",
    "                             pca_n_comp=args['nz'], normalization = args['normalization'],\\\n",
    "                             meshpackage = meshpackage, load_flag = True)\n",
    "    np.save(args['data']+'/mean.npy', facedata.mean)\n",
    "    np.save(args['data']+'/std.npy', facedata.std)\n",
    "else:\n",
    "    facedata = FaceData(nVal=args['nVal'], train_file=args['data']+'/train.npy',\\\n",
    "                        test_file=args['data']+'/test.npy', reference_mesh_file=args['reference_mesh_file'],\\\n",
    "                        pca_n_comp=args['nz'], normalization = args['normalization'],\\\n",
    "                        meshpackage = meshpackage, load_flag = False)\n",
    "    facedata.mean = np.load(args['data']+'/mean.npy')\n",
    "    facedata.std = np.load(args['data']+'/std.npy')\n",
    "    facedata.n_vertex = facedata.mean.shape[0]\n",
    "    facedata.n_features = facedata.mean.shape[1]\n",
    "\n",
    "if not os.path.exists(os.path.join(args['downsample_directory'],'downsampling_matrices.pkl')):\n",
    "    if facedata.meshpackage == 'trimesh':\n",
    "        raise NotImplementedError\n",
    "    print(\"Generating Transform Matrices ..\")\n",
    "\n",
    "\n",
    "    if downsample_method == 'COMA_downsample':\n",
    "        M,A,D,U,F = mesh_sampling.generate_transform_matrices(facedata.reference_mesh, args['ds_factors'])\n",
    "    elif downsample_method == 'meshlab_downsample':\n",
    "        M,A,D,U,F = mesh_sampling.generate_transform_matrices_given_downsamples(facedata.reference_mesh,                                                                                args['downsample_directory'],                                                                                len(args['ds_factors']))\n",
    "    else:\n",
    "        raise NotImplementedError(downsample_method)\n",
    "        \n",
    "    with open(os.path.join(args['downsample_directory'],'downsampling_matrices.pkl'), 'wb') as fp:\n",
    "        M_verts_faces = [(M[i].v, M[i].f) for i in range(len(M))]\n",
    "        pickle.dump({'M_verts_faces':M_verts_faces,'A':A,'D':D,'U':U,'F':F}, fp)\n",
    "else:\n",
    "    print(\"Loading Transform Matrices ..\")\n",
    "    with open(os.path.join(args['downsample_directory'],'downsampling_matrices.pkl'), 'rb') as fp:\n",
    "        downsampling_matrices = pickle.load(fp,encoding = 'latin1')\n",
    "            \n",
    "    M_verts_faces = downsampling_matrices['M_verts_faces']\n",
    "    if facedata.meshpackage == 'mpi-mesh':\n",
    "        M = [Mesh(v=M_verts_faces[i][0], f=M_verts_faces[i][1]) for i in range(len(M_verts_faces))]\n",
    "    elif facedata.meshpackage == 'trimesh':\n",
    "        M = [trimesh.base.Trimesh(vertices=M_verts_faces[i][0], faces=M_verts_faces[i][1], process = False)             for i in range(len(M_verts_faces))]\n",
    "    A = downsampling_matrices['A']\n",
    "    D = downsampling_matrices['D']\n",
    "    U = downsampling_matrices['U']\n",
    "    F = downsampling_matrices['F']\n",
    "        \n",
    "\n",
    "if not hardcode_down_ref:\n",
    "    print(\"Calculating reference points for downsampled versions..\")\n",
    "    for i in range(len(args['ds_factors'])):\n",
    "        if facedata.meshpackage == 'mpi-mesh':\n",
    "            dist = euclidean_distances(M[i+1].v, M[0].v[reference_points[0]])\n",
    "        elif facedata.meshpackage == 'trimesh':\n",
    "            dist = euclidean_distances(M[i+1].vertices, M[0].vertices[reference_points[0]])\n",
    "        reference_points.append(np.argmin(dist,axis=0).tolist())\n",
    "\n"
   ]
  },
  {
   "cell_type": "code",
   "execution_count": 4,
   "metadata": {
    "scrolled": true
   },
   "outputs": [
    {
     "name": "stdout",
     "output_type": "stream",
     "text": [
      "spiral generation for hierarchy 0 (5023 vertices) finished\n",
      "spiral generation for hierarchy 1 (1256 vertices) finished\n",
      "spiral generation for hierarchy 2 (314 vertices) finished\n",
      "spiral generation for hierarchy 3 (79 vertices) finished\n",
      "spiral generation for hierarchy 4 (20 vertices) finished\n",
      "spiral sizes for hierarchy 0:  9\n",
      "spiral sizes for hierarchy 1:  9\n",
      "spiral sizes for hierarchy 2:  9\n",
      "spiral sizes for hierarchy 3:  9\n",
      "spiral sizes for hierarchy 4:  8\n"
     ]
    }
   ],
   "source": [
    "if facedata.meshpackage == 'mpi-mesh':\n",
    "    sizes = [x.v.shape[0] for x in M]\n",
    "elif facedata.meshpackage == 'trimesh':\n",
    "    sizes = [x.vertices.shape[0] for x in M]\n",
    "Adj, Trigs = get_adj_trigs(A, F, facedata.reference_mesh, meshpackage = facedata.meshpackage)\n",
    "\n",
    "spirals_np, spiral_sizes,spirals = generate_spirals(args['step_sizes'], M, Adj, Trigs, \\\n",
    "                                                    reference_points = reference_points, \\\n",
    "                                                    dilation = args['dilation'], random = False, \\\n",
    "                                                    meshpackage = facedata.meshpackage, counter_clockwise = True)\n",
    "\n",
    "bU = []\n",
    "bD = []\n",
    "for i in range(len(D)):\n",
    "    d = np.zeros((1,D[i].shape[0]+1,D[i].shape[1]+1))\n",
    "    u = np.zeros((1,U[i].shape[0]+1,U[i].shape[1]+1))\n",
    "    d[0,:-1,:-1] = D[i].todense()\n",
    "    u[0,:-1,:-1] = U[i].todense()\n",
    "    d[0,-1,-1] = 1\n",
    "    u[0,-1,-1] = 1\n",
    "    bD.append(d)\n",
    "    bU.append(u)\n"
   ]
  },
  {
   "cell_type": "code",
   "execution_count": 5,
   "metadata": {},
   "outputs": [
    {
     "name": "stdout",
     "output_type": "stream",
     "text": [
      "cuda:9\n"
     ]
    }
   ],
   "source": [
    "# pytorch stuff\n",
    "\n",
    "torch.manual_seed(args['seed'])\n",
    "\n",
    "if GPU:\n",
    "    device = torch.device(\"cuda:\"+str(device_idx) if torch.cuda.is_available() else \"cpu\")\n",
    "else:\n",
    "    device = torch.device(\"cpu\")\n",
    "print(device)\n",
    "\n",
    "tspirals = [torch.from_numpy(s).long().to(device) for s in spirals_np]\n",
    "tD = [torch.from_numpy(s).float().to(device) for s in bD]\n",
    "tU = [torch.from_numpy(s).float().to(device) for s in bU]"
   ]
  },
  {
   "cell_type": "code",
   "execution_count": 87,
   "metadata": {
    "scrolled": true
   },
   "outputs": [],
   "source": [
    "# Building model, optimizer, and loss function\n",
    "\n",
    "\n",
    "dataset_test = autoencoder_dataset(root_dir = args['data'], points_dataset = 'test',\n",
    "                                          facedata = facedata,\n",
    "                                          normalization = args['normalization'])\n",
    "\n",
    "dataloader_test = DataLoader(dataset_test, batch_size=16,\\\n",
    "                                     shuffle = False, num_workers = args['num_workers'])\n",
    "\n",
    "\n",
    "\n",
    "if 'autoencoder' in args['generative_model']:\n",
    "        model = SpiralAutoencoder_extra_conv(filters_enc = args['filter_sizes_enc'],   \n",
    "                                             filters_dec = args['filter_sizes_dec'],\n",
    "                                             latent_size=args['nz'],\n",
    "                                             sizes=sizes,\n",
    "                                             spiral_sizes=spiral_sizes,\n",
    "                                             spirals=tspirals,\n",
    "                                             D=tD, U=tU,device=device,\n",
    "                                             injection = args['injection'],\n",
    "                                             residual = args['residual']).to(device)\n",
    "\n"
   ]
  },
  {
   "cell_type": "code",
   "execution_count": 88,
   "metadata": {},
   "outputs": [
    {
     "name": "stdout",
     "output_type": "stream",
     "text": [
      "Total number of parameters is: 48547\n",
      "SpiralAutoencoder_extra_conv(\n",
      "  (conv): ModuleList(\n",
      "    (0): SpiralConv(\n",
      "      (conv): Linear(in_features=27, out_features=16, bias=False)\n",
      "      (activation): ELU(alpha=1.0)\n",
      "    )\n",
      "    (1): SpiralConv(\n",
      "      (conv): Linear(in_features=144, out_features=16, bias=False)\n",
      "      (activation): ELU(alpha=1.0)\n",
      "    )\n",
      "    (2): SpiralConv(\n",
      "      (conv): Linear(in_features=144, out_features=16, bias=False)\n",
      "      (activation): ELU(alpha=1.0)\n",
      "    )\n",
      "    (3): SpiralConv(\n",
      "      (conv): Linear(in_features=144, out_features=32, bias=False)\n",
      "      (activation): ELU(alpha=1.0)\n",
      "    )\n",
      "  )\n",
      "  (fc_latent_enc): Linear(in_features=672, out_features=16, bias=True)\n",
      "  (fc_latent_dec): Linear(in_features=16, out_features=672, bias=True)\n",
      "  (dconv): ModuleList(\n",
      "    (0): SpiralConv(\n",
      "      (conv): Linear(in_features=288, out_features=32, bias=False)\n",
      "      (activation): ELU(alpha=1.0)\n",
      "    )\n",
      "    (1): SpiralConv(\n",
      "      (conv): Linear(in_features=288, out_features=16, bias=False)\n",
      "      (activation): ELU(alpha=1.0)\n",
      "    )\n",
      "    (2): SpiralConv(\n",
      "      (conv): Linear(in_features=144, out_features=16, bias=False)\n",
      "      (activation): ELU(alpha=1.0)\n",
      "    )\n",
      "    (3): SpiralConv(\n",
      "      (conv): Linear(in_features=144, out_features=3, bias=False)\n",
      "    )\n",
      "  )\n",
      ")\n"
     ]
    }
   ],
   "source": [
    "params = sum(p.numel() for p in model.parameters() if p.requires_grad)\n",
    "print(\"Total number of parameters is: {}\".format(params)) \n",
    "print(model)\n"
   ]
  },
  {
   "cell_type": "code",
   "execution_count": 89,
   "metadata": {},
   "outputs": [
    {
     "name": "stderr",
     "output_type": "stream",
     "text": [
      "\r",
      "  0%|          | 0/129 [00:00<?, ?it/s]"
     ]
    },
    {
     "name": "stdout",
     "output_type": "stream",
     "text": [
      "loading checkpoint from file /data/gb318/datasets/COMA/results/higher_order_autoencoder/COMA_downsample/injection_1st_order_reimpl/latent_16/checkpoints/sliced/checkpoint.pth.tar\n"
     ]
    },
    {
     "name": "stderr",
     "output_type": "stream",
     "text": [
      "100%|██████████| 129/129 [00:03<00:00, 37.79it/s]\n"
     ]
    },
    {
     "name": "stdout",
     "output_type": "stream",
     "text": [
      "autoencoder: normalized loss 0.11883243918418884\n",
      "autoencoder: euclidean distance in mm= 0.6359777450561523\n"
     ]
    }
   ],
   "source": [
    "if args['mode'] == 'test':\n",
    "    print('loading checkpoint from file %s'%(os.path.join(checkpoint_path,args['checkpoint_file']+'.pth.tar')))\n",
    "    checkpoint_dict = torch.load(os.path.join(checkpoint_path,args['checkpoint_file']+'.pth.tar'),map_location=device)\n",
    "    model.load_state_dict(checkpoint_dict['autoencoder_state_dict'])\n",
    "        \n",
    "    predictions, norm_l1_loss, l2_loss = test_autoencoder_dataloader(device, model, dataloader_test, \n",
    "                                                                     facedata, mm_constant = 1000)    \n",
    "    np.save(os.path.join(prediction_path,'predictions'), predictions)   \n",
    "        \n",
    "    print('autoencoder: normalized loss', norm_l1_loss)\n",
    "    \n",
    "    print('autoencoder: euclidean distance in mm=', l2_loss)"
   ]
  },
  {
   "cell_type": "code",
   "execution_count": 97,
   "metadata": {},
   "outputs": [],
   "source": [
    "with torch.no_grad():\n",
    "    mm_constant = 1000\n",
    "    shapedata_mean = torch.Tensor(facedata.mean).to(device)\n",
    "    shapedata_std = torch.Tensor(facedata.std).to(device)\n",
    "    x = dataset_test.__getitem__(500)['points'].to(device).unsqueeze(0)\n",
    "    x_recon = model(x)  \n",
    "    if dataset_test.dummy_node:\n",
    "        x_recon = x_recon[:,:-1]\n",
    "        x = x[:,:-1]\n",
    "    else:\n",
    "        pass\n",
    "    x_recon = ((x_recon * shapedata_std + shapedata_mean) * mm_constant).cpu().numpy()\n",
    "    x = ((x * shapedata_std + shapedata_mean) * mm_constant).cpu().numpy()\n",
    "    error_norm = np.sqrt(np.sum((x_recon - x)**2,axis=2))\n",
    "    template = trimesh.load(args['reference_mesh_file'], process = False)\n",
    "    template.vertices = x.squeeze()\n",
    "#     clr = trimesh.visual.color.interpolate(error_norm,color_map='jet')\n",
    "#     template.visual = trimesh.visual.create_visual(vertex_colors = clr)\n",
    "#     template.show()\n",
    "    trimesh.exchange.export.export_mesh(template, os.path.join('/homes/gb318/Downloads/temp_texture.ply'));\n",
    "\n"
   ]
  },
  {
   "cell_type": "code",
   "execution_count": null,
   "metadata": {},
   "outputs": [],
   "source": [
    "3/(195.73+216.55+213.72) # simple linear"
   ]
  },
  {
   "cell_type": "code",
   "execution_count": null,
   "metadata": {},
   "outputs": [],
   "source": [
    "3/(187.59+207.07+207.52) # simple"
   ]
  },
  {
   "cell_type": "code",
   "execution_count": null,
   "metadata": {
    "scrolled": true
   },
   "outputs": [],
   "source": [
    "3/(175 + 193.38 + 197.76) # full linear"
   ]
  },
  {
   "cell_type": "code",
   "execution_count": null,
   "metadata": {},
   "outputs": [],
   "source": [
    "3/(179.23 + 196.16 + 207.55) # full"
   ]
  },
  {
   "cell_type": "code",
   "execution_count": null,
   "metadata": {},
   "outputs": [],
   "source": [
    "3/(167.01+173.61+180.88)"
   ]
  },
  {
   "cell_type": "code",
   "execution_count": null,
   "metadata": {},
   "outputs": [],
   "source": [
    "3/(178.59+194.72+200.05)"
   ]
  },
  {
   "cell_type": "code",
   "execution_count": null,
   "metadata": {},
   "outputs": [],
   "source": [
    "3/(176.45+178.29+176.06)"
   ]
  },
  {
   "cell_type": "code",
   "execution_count": null,
   "metadata": {},
   "outputs": [],
   "source": [
    "5/(81.94+83.07+83.52+82.79+84.39)"
   ]
  }
 ],
 "metadata": {
  "kernelspec": {
   "display_name": "Python 3",
   "language": "python",
   "name": "python3"
  },
  "language_info": {
   "codemirror_mode": {
    "name": "ipython",
    "version": 3
   },
   "file_extension": ".py",
   "mimetype": "text/x-python",
   "name": "python",
   "nbconvert_exporter": "python",
   "pygments_lexer": "ipython3",
   "version": "3.7.4"
  }
 },
 "nbformat": 4,
 "nbformat_minor": 2
}
