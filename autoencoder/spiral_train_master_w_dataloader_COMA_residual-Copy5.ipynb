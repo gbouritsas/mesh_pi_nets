{
 "cells": [
  {
   "cell_type": "code",
   "execution_count": 1,
   "metadata": {},
   "outputs": [
    {
     "data": {
      "text/plain": [
       "'Tesla V100-PCIE-32GB'"
      ]
     },
     "execution_count": 1,
     "metadata": {},
     "output_type": "execute_result"
    }
   ],
   "source": [
    "import sys\n",
    "sys.path.append('../')\n",
    "from lib import mesh_sampling\n",
    "import numpy as np\n",
    "import json\n",
    "import os\n",
    "import copy\n",
    "from facemesh import FaceData\n",
    "import time\n",
    "import pickle\n",
    "import trimesh\n",
    "\n",
    "try:\n",
    "    import psbody.mesh\n",
    "    found = True\n",
    "except ImportError:\n",
    "    found = False\n",
    "if found:\n",
    "    from psbody.mesh import Mesh, MeshViewer, MeshViewers\n",
    "\n",
    "from autoencoder_dataset import autoencoder_dataset\n",
    "from torch.utils.data import DataLoader\n",
    "\n",
    "from spiral_utils import get_adj_trigs, generate_spirals\n",
    "from models import SpiralAutoencoder, SpiralAutoencoder_extra_conv\n",
    "\n",
    "from train_funcs import train_autoencoder, train_autoencoder_dataloader\n",
    "\n",
    "\n",
    "import torch\n",
    "from tensorboardX import SummaryWriter\n",
    "\n",
    "from sklearn.metrics.pairwise import euclidean_distances\n",
    "meshpackage = 'trimesh'\n",
    "root_dir = '/data/gb318/datasets/'\n",
    "\n",
    "name = 'sliced'\n",
    "dataset = 'COMA'    \n",
    "\n",
    "GPU = True\n",
    "device_idx = 0\n",
    "torch.cuda.get_device_name(device_idx)"
   ]
  },
  {
   "cell_type": "code",
   "execution_count": 2,
   "metadata": {},
   "outputs": [],
   "source": [
    "args = {}\n",
    "\n",
    "generative_model = 'autoencoder'\n",
    "dilation_flag = False\n",
    "hardcode_down_ref = False\n",
    "downsample_method = 'COMA_downsample' # choose'COMA_downsample' or 'meshlab_downsample'\n",
    "downsample_config = ''\n",
    "\n",
    "if dataset == 'COMA':\n",
    "    reference_mesh_file = os.path.join(root_dir, dataset,'preprocessed/templates/template.obj')\n",
    "    downsample_directory = os.path.join(root_dir, dataset,'preprocessed/templates',downsample_method,downsample_config)\n",
    "    ds_factors = [4, 4, 4, 4]\n",
    "    step_sizes = [1, 1, 1, 1, 1]\n",
    "    filter_sizes_enc = [[3, 16, 16, 16, 32],[[],[],[],[],[]]]\n",
    "    filter_sizes_dec = [[32, 32, 16, 16, 3],[[],[],[],[],[]]]\n",
    "    if dilation_flag:\n",
    "        dilation=[2, 2, 2, 1, 1] \n",
    "    else:\n",
    "        dilation = None\n",
    "\n",
    "args = {'generative_model': generative_model,\n",
    "        'name': name, 'data': os.path.join(root_dir, dataset, 'preprocessed',name),\n",
    "        'results_folder':  os.path.join(root_dir, dataset,'results/higher_order_'+ generative_model,\\\n",
    "                                        downsample_method, downsample_config,'2nd_order_full/1'),\n",
    "        'reference_mesh_file':reference_mesh_file, 'downsample_directory': downsample_directory,\n",
    "        'checkpoint_file': 'checkpoint',\n",
    "        'seed':2, 'loss':'l1',\n",
    "        'batch_size':16, 'num_epochs':300, 'eval_frequency':200, 'num_workers': 4,\n",
    "        'filter_sizes_enc': filter_sizes_enc, 'filter_sizes_dec': filter_sizes_dec,\n",
    "        'nz':16, \n",
    "        'ds_factors': ds_factors, 'step_sizes' : step_sizes, 'dilation': dilation,\n",
    "        'injection': True, 'residual': True, \n",
    "        \n",
    "        'lr':1e-3, \n",
    "        'regularization': 5e-5,         \n",
    "        'scheduler': True, 'decay_rate': 0.99,'decay_steps':1,  \n",
    "        'resume': False,\n",
    "        \n",
    "        'mode':'train', 'shuffle': True, 'nVal': 100, 'normalization': True}\n",
    "\n",
    "if generative_model == 'autoencoder':\n",
    "    args['results_folder'] = os.path.join(args['results_folder'],\\\n",
    "                                          'latent_'+str(args['nz']))\n",
    "    \n",
    "if not os.path.exists(os.path.join(args['results_folder'])):\n",
    "    os.makedirs(os.path.join(args['results_folder']))\n",
    "\n",
    "summary_path = os.path.join(args['results_folder'],'summaries',args['name'])\n",
    "if not os.path.exists(summary_path):\n",
    "    os.makedirs(summary_path)  \n",
    "    \n",
    "checkpoint_path = os.path.join(args['results_folder'],'checkpoints', args['name'])\n",
    "if not os.path.exists(checkpoint_path):\n",
    "    os.makedirs(checkpoint_path)\n",
    "    \n",
    "samples_path = os.path.join(args['results_folder'],'samples', args['name'])\n",
    "if not os.path.exists(samples_path):\n",
    "    os.makedirs(samples_path)\n",
    "    \n",
    "prediction_path = os.path.join(args['results_folder'],'predictions', args['name'])\n",
    "if not os.path.exists(prediction_path):\n",
    "    os.makedirs(prediction_path)\n",
    "\n",
    "if not os.path.exists(downsample_directory):\n",
    "    os.makedirs(downsample_directory)\n",
    "\n",
    "if hardcode_down_ref:\n",
    "    if dataset == 'COMA' and downsample_method == 'COMA_downsample':\n",
    "        reference_points = [[3567,4051,4597],\n",
    "                            [1010,1081,1170],\n",
    "                            [256, 276, 295],\n",
    "                            [11, 69, 74],\n",
    "                            [17, 17, 17]]\n",
    "    elif dataset == 'COMA' and downsample_method == 'meshlab_downsample' and downsample_config == 'preserve_topology=True_preserve_boundary=False':\n",
    "        reference_points = [[3567, 4051, 4597],\n",
    "                             [1105, 1214, 1241],\n",
    "                             [289, 310, 318],\n",
    "                             [70, 80, 85],\n",
    "                             [2, 19, 24]]\n",
    "    else:\n",
    "        raise NotImplementedError\n",
    "else:\n",
    "    if dataset == 'COMA':\n",
    "        reference_points = [[3567,4051,4597]]\n",
    "        "
   ]
  },
  {
   "cell_type": "code",
   "execution_count": 3,
   "metadata": {},
   "outputs": [
    {
     "name": "stdout",
     "output_type": "stream",
     "text": [
      "Loading data .. \n",
      "Loading Transform Matrices ..\n",
      "Calculating reference points for downsampled versions..\n"
     ]
    }
   ],
   "source": [
    "np.random.seed(args['seed'])\n",
    "print(\"Loading data .. \")\n",
    "if not os.path.exists(args['data']+'/mean.npy') or not os.path.exists(args['data']+'/std.npy'):\n",
    "    facedata = FaceData(nVal=args['nVal'], train_file=args['data']+'/train.npy',\n",
    "                             test_file=args['data']+'/test.npy', reference_mesh_file=args['reference_mesh_file'],\n",
    "                             pca_n_comp=args['nz'], normalization = args['normalization'],\\\n",
    "                             meshpackage = meshpackage, load_flag = True)\n",
    "    np.save(args['data']+'/mean.npy', facedata.mean)\n",
    "    np.save(args['data']+'/std.npy', facedata.std)\n",
    "else:\n",
    "    facedata = FaceData(nVal=args['nVal'], train_file=args['data']+'/train.npy',\\\n",
    "                        test_file=args['data']+'/test.npy', reference_mesh_file=args['reference_mesh_file'],\\\n",
    "                        pca_n_comp=args['nz'], normalization = args['normalization'],\\\n",
    "                        meshpackage = meshpackage, load_flag = False)\n",
    "    facedata.mean = np.load(args['data']+'/mean.npy')\n",
    "    facedata.std = np.load(args['data']+'/std.npy')\n",
    "    facedata.n_vertex = facedata.mean.shape[0]\n",
    "    facedata.n_features = facedata.mean.shape[1]\n",
    "\n",
    "if not os.path.exists(os.path.join(args['downsample_directory'],'downsampling_matrices.pkl')):\n",
    "    if facedata.meshpackage == 'trimesh':\n",
    "        raise NotImplementedError\n",
    "    print(\"Generating Transform Matrices ..\")\n",
    "\n",
    "\n",
    "    if downsample_method == 'COMA_downsample':\n",
    "        M,A,D,U,F = mesh_sampling.generate_transform_matrices(facedata.reference_mesh, args['ds_factors'])\n",
    "    elif downsample_method == 'meshlab_downsample':\n",
    "        M,A,D,U,F = mesh_sampling.generate_transform_matrices_given_downsamples(facedata.reference_mesh,                                                                                args['downsample_directory'],                                                                                len(args['ds_factors']))\n",
    "    else:\n",
    "        raise NotImplementedError(downsample_method)\n",
    "        \n",
    "    with open(os.path.join(args['downsample_directory'],'downsampling_matrices.pkl'), 'wb') as fp:\n",
    "        M_verts_faces = [(M[i].v, M[i].f) for i in range(len(M))]\n",
    "        pickle.dump({'M_verts_faces':M_verts_faces,'A':A,'D':D,'U':U,'F':F}, fp)\n",
    "else:\n",
    "    print(\"Loading Transform Matrices ..\")\n",
    "    with open(os.path.join(args['downsample_directory'],'downsampling_matrices.pkl'), 'rb') as fp:\n",
    "        downsampling_matrices = pickle.load(fp,encoding = 'latin1')\n",
    "            \n",
    "    M_verts_faces = downsampling_matrices['M_verts_faces']\n",
    "    if facedata.meshpackage == 'mpi-mesh':\n",
    "        M = [Mesh(v=M_verts_faces[i][0], f=M_verts_faces[i][1]) for i in range(len(M_verts_faces))]\n",
    "    elif facedata.meshpackage == 'trimesh':\n",
    "        M = [trimesh.base.Trimesh(vertices=M_verts_faces[i][0], faces=M_verts_faces[i][1], process = False)             for i in range(len(M_verts_faces))]\n",
    "    A = downsampling_matrices['A']\n",
    "    D = downsampling_matrices['D']\n",
    "    U = downsampling_matrices['U']\n",
    "    F = downsampling_matrices['F']\n",
    "        \n",
    "\n",
    "if not hardcode_down_ref:\n",
    "    print(\"Calculating reference points for downsampled versions..\")\n",
    "    for i in range(len(args['ds_factors'])):\n",
    "        if facedata.meshpackage == 'mpi-mesh':\n",
    "            dist = euclidean_distances(M[i+1].v, M[0].v[reference_points[0]])\n",
    "        elif facedata.meshpackage == 'trimesh':\n",
    "            dist = euclidean_distances(M[i+1].vertices, M[0].vertices[reference_points[0]])\n",
    "        reference_points.append(np.argmin(dist,axis=0).tolist())\n",
    "\n"
   ]
  },
  {
   "cell_type": "code",
   "execution_count": 4,
   "metadata": {
    "scrolled": true
   },
   "outputs": [
    {
     "name": "stdout",
     "output_type": "stream",
     "text": [
      "spiral generation for hierarchy 0 (5023 vertices) finished\n",
      "spiral generation for hierarchy 1 (1256 vertices) finished\n",
      "spiral generation for hierarchy 2 (314 vertices) finished\n",
      "spiral generation for hierarchy 3 (79 vertices) finished\n",
      "spiral generation for hierarchy 4 (20 vertices) finished\n",
      "spiral sizes for hierarchy 0:  9\n",
      "spiral sizes for hierarchy 1:  9\n",
      "spiral sizes for hierarchy 2:  9\n",
      "spiral sizes for hierarchy 3:  9\n",
      "spiral sizes for hierarchy 4:  8\n"
     ]
    }
   ],
   "source": [
    "if facedata.meshpackage == 'mpi-mesh':\n",
    "    sizes = [x.v.shape[0] for x in M]\n",
    "elif facedata.meshpackage == 'trimesh':\n",
    "    sizes = [x.vertices.shape[0] for x in M]\n",
    "Adj, Trigs = get_adj_trigs(A, F, facedata.reference_mesh, meshpackage = facedata.meshpackage)\n",
    "\n",
    "spirals_np, spiral_sizes,spirals = generate_spirals(args['step_sizes'], M, Adj, Trigs, \\\n",
    "                                                    reference_points = reference_points, \\\n",
    "                                                    dilation = args['dilation'], random = False, \\\n",
    "                                                    meshpackage = facedata.meshpackage, counter_clockwise = True)\n",
    "\n",
    "bU = []\n",
    "bD = []\n",
    "for i in range(len(D)):\n",
    "    d = np.zeros((1,D[i].shape[0]+1,D[i].shape[1]+1))\n",
    "    u = np.zeros((1,U[i].shape[0]+1,U[i].shape[1]+1))\n",
    "    d[0,:-1,:-1] = D[i].todense()\n",
    "    u[0,:-1,:-1] = U[i].todense()\n",
    "    d[0,-1,-1] = 1\n",
    "    u[0,-1,-1] = 1\n",
    "    bD.append(d)\n",
    "    bU.append(u)\n"
   ]
  },
  {
   "cell_type": "code",
   "execution_count": 5,
   "metadata": {},
   "outputs": [
    {
     "name": "stdout",
     "output_type": "stream",
     "text": [
      "cuda:0\n"
     ]
    }
   ],
   "source": [
    "# pytorch stuff\n",
    "\n",
    "torch.manual_seed(args['seed'])\n",
    "\n",
    "if GPU:\n",
    "    device = torch.device(\"cuda:\"+str(device_idx) if torch.cuda.is_available() else \"cpu\")\n",
    "else:\n",
    "    device = torch.device(\"cpu\")\n",
    "print(device)\n",
    "\n",
    "tspirals = [torch.from_numpy(s).long().to(device) for s in spirals_np]\n",
    "tD = [torch.from_numpy(s).float().to(device) for s in bD]\n",
    "tU = [torch.from_numpy(s).float().to(device) for s in bU]"
   ]
  },
  {
   "cell_type": "code",
   "execution_count": 6,
   "metadata": {},
   "outputs": [],
   "source": [
    "# Building model, optimizer, and loss function\n",
    "\n",
    "dataset_train = autoencoder_dataset(root_dir = args['data'], points_dataset = 'train',\n",
    "                                           facedata = facedata,\n",
    "                                           normalization = args['normalization'])\n",
    "\n",
    "dataloader_train = DataLoader(dataset_train, batch_size=args['batch_size'],\\\n",
    "                                     shuffle = args['shuffle'], num_workers = args['num_workers'])\n",
    "\n",
    "dataset_val = autoencoder_dataset(root_dir = args['data'], points_dataset = 'val', \n",
    "                                         facedata = facedata,\n",
    "                                         normalization = args['normalization'])\n",
    "\n",
    "dataloader_val = DataLoader(dataset_val, batch_size=args['batch_size'],\\\n",
    "                                     shuffle = False, num_workers = args['num_workers'])\n",
    "\n",
    "\n",
    "dataset_test = autoencoder_dataset(root_dir = args['data'], points_dataset = 'test',\n",
    "                                          facedata = facedata,\n",
    "                                          normalization = args['normalization'])\n",
    "\n",
    "dataloader_test = DataLoader(dataset_test, batch_size=args['batch_size'],\\\n",
    "                                     shuffle = False, num_workers = args['num_workers'])\n",
    "\n",
    "\n",
    "\n",
    "if 'autoencoder' in args['generative_model']:\n",
    "        model = SpiralAutoencoder_extra_conv(filters_enc = args['filter_sizes_enc'],   \n",
    "                                             filters_dec = args['filter_sizes_dec'],\n",
    "                                             latent_size=args['nz'],\n",
    "                                             sizes=sizes,\n",
    "                                             spiral_sizes=spiral_sizes,\n",
    "                                             spirals=tspirals,\n",
    "                                             D=tD, U=tU,device=device,\n",
    "                                             injection = args['injection'],\n",
    "                                             residual = args['residual']).to(device)\n",
    " \n",
    "    \n",
    "optim = torch.optim.Adam(model.parameters(),lr=args['lr'],weight_decay=args['regularization'])\n",
    "if args['scheduler']:\n",
    "    scheduler=torch.optim.lr_scheduler.StepLR(optim, args['decay_steps'],gamma=args['decay_rate'])\n",
    "else:\n",
    "    scheduler = None\n",
    "\n",
    "def loss_l1(outputs, targets):\n",
    "    L = torch.abs(outputs - targets).mean()\n",
    "    return L \n",
    "if args['loss']=='l1':\n",
    "    loss_fn = loss_l1\n"
   ]
  },
  {
   "cell_type": "code",
   "execution_count": 7,
   "metadata": {},
   "outputs": [
    {
     "name": "stdout",
     "output_type": "stream",
     "text": [
      "Total number of parameters is: 353219\n",
      "SpiralAutoencoder_extra_conv(\n",
      "  (conv): ModuleList(\n",
      "    (0): SpiralConv(\n",
      "      (conv): Linear(in_features=27, out_features=16, bias=False)\n",
      "      (proj): Linear(in_features=3, out_features=16, bias=False)\n",
      "      (normalizer2): BatchNorm1d(80384, eps=1e-05, momentum=0.1, affine=True, track_running_stats=True)\n",
      "      (activation): ELU(alpha=1.0)\n",
      "    )\n",
      "    (1): SpiralConv(\n",
      "      (conv): Linear(in_features=144, out_features=16, bias=False)\n",
      "      (proj): Linear(in_features=16, out_features=16, bias=False)\n",
      "      (normalizer2): BatchNorm1d(20112, eps=1e-05, momentum=0.1, affine=True, track_running_stats=True)\n",
      "      (activation): ELU(alpha=1.0)\n",
      "    )\n",
      "    (2): SpiralConv(\n",
      "      (conv): Linear(in_features=144, out_features=16, bias=False)\n",
      "      (proj): Linear(in_features=16, out_features=16, bias=False)\n",
      "      (normalizer2): BatchNorm1d(5040, eps=1e-05, momentum=0.1, affine=True, track_running_stats=True)\n",
      "      (activation): ELU(alpha=1.0)\n",
      "    )\n",
      "    (3): SpiralConv(\n",
      "      (conv): Linear(in_features=144, out_features=32, bias=False)\n",
      "      (proj): Linear(in_features=16, out_features=32, bias=False)\n",
      "      (normalizer2): BatchNorm1d(2560, eps=1e-05, momentum=0.1, affine=True, track_running_stats=True)\n",
      "      (activation): ELU(alpha=1.0)\n",
      "    )\n",
      "  )\n",
      "  (fc_latent_enc): Linear(in_features=672, out_features=16, bias=True)\n",
      "  (fc_latent_dec): Linear(in_features=16, out_features=672, bias=True)\n",
      "  (dconv): ModuleList(\n",
      "    (0): SpiralConv(\n",
      "      (conv): Linear(in_features=288, out_features=32, bias=False)\n",
      "      (proj): Linear(in_features=32, out_features=32, bias=False)\n",
      "      (normalizer2): BatchNorm1d(2560, eps=1e-05, momentum=0.1, affine=True, track_running_stats=True)\n",
      "      (activation): ELU(alpha=1.0)\n",
      "    )\n",
      "    (1): SpiralConv(\n",
      "      (conv): Linear(in_features=288, out_features=16, bias=False)\n",
      "      (proj): Linear(in_features=32, out_features=16, bias=False)\n",
      "      (normalizer2): BatchNorm1d(5040, eps=1e-05, momentum=0.1, affine=True, track_running_stats=True)\n",
      "      (activation): ELU(alpha=1.0)\n",
      "    )\n",
      "    (2): SpiralConv(\n",
      "      (conv): Linear(in_features=144, out_features=16, bias=False)\n",
      "      (proj): Linear(in_features=16, out_features=16, bias=False)\n",
      "      (normalizer2): BatchNorm1d(20112, eps=1e-05, momentum=0.1, affine=True, track_running_stats=True)\n",
      "      (activation): ELU(alpha=1.0)\n",
      "    )\n",
      "    (3): SpiralConv(\n",
      "      (conv): Linear(in_features=144, out_features=3, bias=False)\n",
      "      (proj): Linear(in_features=16, out_features=3, bias=False)\n",
      "      (normalizer2): BatchNorm1d(15072, eps=1e-05, momentum=0.1, affine=True, track_running_stats=True)\n",
      "    )\n",
      "  )\n",
      ")\n"
     ]
    }
   ],
   "source": [
    "params = sum(p.numel() for p in model.parameters() if p.requires_grad)\n",
    "print(\"Total number of parameters is: {}\".format(params)) \n",
    "print(model)\n",
    "# print(M[4].v.shape)"
   ]
  },
  {
   "cell_type": "code",
   "execution_count": null,
   "metadata": {},
   "outputs": [
    {
     "name": "stderr",
     "output_type": "stream",
     "text": [
      "100%|██████████| 1145/1145 [00:47<00:00, 23.89it/s]\n",
      "100%|██████████| 7/7 [00:00<00:00, 18.27it/s]\n",
      "  0%|          | 0/1145 [00:00<?, ?it/s]"
     ]
    },
    {
     "name": "stdout",
     "output_type": "stream",
     "text": [
      "epoch 0 | tr 0.4460139294107397 | val 0.28783122658729554\n"
     ]
    },
    {
     "name": "stderr",
     "output_type": "stream",
     "text": [
      "100%|██████████| 1145/1145 [00:46<00:00, 24.49it/s]\n",
      "100%|██████████| 7/7 [00:00<00:00, 19.38it/s]\n",
      "  0%|          | 0/1145 [00:00<?, ?it/s]"
     ]
    },
    {
     "name": "stdout",
     "output_type": "stream",
     "text": [
      "epoch 1 | tr 0.2409637315503372 | val 0.21869474411010742\n"
     ]
    },
    {
     "name": "stderr",
     "output_type": "stream",
     "text": [
      "100%|██████████| 1145/1145 [00:44<00:00, 25.71it/s]\n",
      "100%|██████████| 7/7 [00:00<00:00, 19.20it/s]\n",
      "  0%|          | 0/1145 [00:00<?, ?it/s]"
     ]
    },
    {
     "name": "stdout",
     "output_type": "stream",
     "text": [
      "epoch 2 | tr 0.1965739974770883 | val 0.18530676901340484\n"
     ]
    },
    {
     "name": "stderr",
     "output_type": "stream",
     "text": [
      "100%|██████████| 1145/1145 [00:45<00:00, 25.28it/s]\n",
      "100%|██████████| 7/7 [00:00<00:00, 20.05it/s]\n",
      "  0%|          | 0/1145 [00:00<?, ?it/s]"
     ]
    },
    {
     "name": "stdout",
     "output_type": "stream",
     "text": [
      "epoch 3 | tr 0.1769482009289794 | val 0.17580708205699921\n"
     ]
    },
    {
     "name": "stderr",
     "output_type": "stream",
     "text": [
      "100%|██████████| 1145/1145 [00:45<00:00, 25.37it/s]\n",
      "100%|██████████| 7/7 [00:00<00:00, 18.19it/s]\n",
      "  0%|          | 0/1145 [00:00<?, ?it/s]"
     ]
    },
    {
     "name": "stdout",
     "output_type": "stream",
     "text": [
      "epoch 4 | tr 0.16499894881570662 | val 0.1658267307281494\n"
     ]
    },
    {
     "name": "stderr",
     "output_type": "stream",
     "text": [
      "100%|██████████| 1145/1145 [00:45<00:00, 25.41it/s]\n",
      "100%|██████████| 7/7 [00:00<00:00, 16.68it/s]\n",
      "  0%|          | 0/1145 [00:00<?, ?it/s]"
     ]
    },
    {
     "name": "stdout",
     "output_type": "stream",
     "text": [
      "epoch 5 | tr 0.1584647297257125 | val 0.15263968706130981\n"
     ]
    },
    {
     "name": "stderr",
     "output_type": "stream",
     "text": [
      "100%|██████████| 1145/1145 [00:44<00:00, 25.54it/s]\n",
      "100%|██████████| 7/7 [00:00<00:00, 18.82it/s]\n",
      "  0%|          | 0/1145 [00:00<?, ?it/s]"
     ]
    },
    {
     "name": "stdout",
     "output_type": "stream",
     "text": [
      "epoch 6 | tr 0.15298468178570873 | val 0.15468547284603118\n"
     ]
    },
    {
     "name": "stderr",
     "output_type": "stream",
     "text": [
      "100%|██████████| 1145/1145 [00:47<00:00, 24.22it/s]\n",
      "100%|██████████| 7/7 [00:00<00:00, 17.98it/s]\n",
      "  0%|          | 0/1145 [00:00<?, ?it/s]"
     ]
    },
    {
     "name": "stdout",
     "output_type": "stream",
     "text": [
      "epoch 7 | tr 0.14884868129872247 | val 0.1404965901374817\n"
     ]
    },
    {
     "name": "stderr",
     "output_type": "stream",
     "text": [
      "100%|██████████| 1145/1145 [00:45<00:00, 25.00it/s]\n",
      "100%|██████████| 7/7 [00:00<00:00, 19.98it/s]\n",
      "  0%|          | 0/1145 [00:00<?, ?it/s]"
     ]
    },
    {
     "name": "stdout",
     "output_type": "stream",
     "text": [
      "epoch 8 | tr 0.1460066689556165 | val 0.1510714614391327\n"
     ]
    },
    {
     "name": "stderr",
     "output_type": "stream",
     "text": [
      "100%|██████████| 1145/1145 [00:45<00:00, 25.21it/s]\n",
      "100%|██████████| 7/7 [00:00<00:00, 19.00it/s]\n",
      "  0%|          | 0/1145 [00:00<?, ?it/s]"
     ]
    },
    {
     "name": "stdout",
     "output_type": "stream",
     "text": [
      "epoch 9 | tr 0.14320237432270144 | val 0.14463992416858673\n"
     ]
    },
    {
     "name": "stderr",
     "output_type": "stream",
     "text": [
      "100%|██████████| 1145/1145 [00:45<00:00, 25.22it/s]\n",
      "100%|██████████| 7/7 [00:00<00:00, 18.92it/s]\n",
      "  0%|          | 0/1145 [00:00<?, ?it/s]"
     ]
    },
    {
     "name": "stdout",
     "output_type": "stream",
     "text": [
      "epoch 10 | tr 0.14110375863425953 | val 0.14621847569942475\n"
     ]
    },
    {
     "name": "stderr",
     "output_type": "stream",
     "text": [
      "100%|██████████| 1145/1145 [00:46<00:00, 24.89it/s]\n",
      "100%|██████████| 7/7 [00:00<00:00, 18.86it/s]\n",
      "  0%|          | 0/1145 [00:00<?, ?it/s]"
     ]
    },
    {
     "name": "stdout",
     "output_type": "stream",
     "text": [
      "epoch 11 | tr 0.13945236078481546 | val 0.13889778077602385\n"
     ]
    },
    {
     "name": "stderr",
     "output_type": "stream",
     "text": [
      "100%|██████████| 1145/1145 [00:44<00:00, 25.83it/s]\n",
      "100%|██████████| 7/7 [00:00<00:00, 20.38it/s]\n",
      "  0%|          | 0/1145 [00:00<?, ?it/s]"
     ]
    },
    {
     "name": "stdout",
     "output_type": "stream",
     "text": [
      "epoch 12 | tr 0.13783655505573492 | val 0.13687528491020204\n"
     ]
    },
    {
     "name": "stderr",
     "output_type": "stream",
     "text": [
      "100%|██████████| 1145/1145 [00:44<00:00, 25.74it/s]\n",
      "100%|██████████| 7/7 [00:00<00:00, 19.55it/s]\n",
      "  0%|          | 0/1145 [00:00<?, ?it/s]"
     ]
    },
    {
     "name": "stdout",
     "output_type": "stream",
     "text": [
      "epoch 13 | tr 0.13680866017730192 | val 0.137545685172081\n"
     ]
    },
    {
     "name": "stderr",
     "output_type": "stream",
     "text": [
      "100%|██████████| 1145/1145 [00:46<00:00, 24.45it/s]\n",
      "100%|██████████| 7/7 [00:00<00:00, 16.39it/s]\n",
      "  0%|          | 0/1145 [00:00<?, ?it/s]"
     ]
    },
    {
     "name": "stdout",
     "output_type": "stream",
     "text": [
      "epoch 14 | tr 0.13551374042405154 | val 0.15534127593040467\n"
     ]
    },
    {
     "name": "stderr",
     "output_type": "stream",
     "text": [
      "100%|██████████| 1145/1145 [00:46<00:00, 24.83it/s]\n",
      "100%|██████████| 7/7 [00:00<00:00, 17.57it/s]\n",
      "  0%|          | 0/1145 [00:00<?, ?it/s]"
     ]
    },
    {
     "name": "stdout",
     "output_type": "stream",
     "text": [
      "epoch 15 | tr 0.13426015733159244 | val 0.13371534943580626\n"
     ]
    },
    {
     "name": "stderr",
     "output_type": "stream",
     "text": [
      "100%|██████████| 1145/1145 [00:45<00:00, 25.33it/s]\n",
      "100%|██████████| 7/7 [00:00<00:00, 19.55it/s]\n",
      "  0%|          | 0/1145 [00:00<?, ?it/s]"
     ]
    },
    {
     "name": "stdout",
     "output_type": "stream",
     "text": [
      "epoch 16 | tr 0.13364757883184242 | val 0.13124616146087648\n"
     ]
    },
    {
     "name": "stderr",
     "output_type": "stream",
     "text": [
      "100%|██████████| 1145/1145 [00:45<00:00, 25.01it/s]\n",
      "100%|██████████| 7/7 [00:00<00:00, 19.83it/s]\n",
      "  0%|          | 0/1145 [00:00<?, ?it/s]"
     ]
    },
    {
     "name": "stdout",
     "output_type": "stream",
     "text": [
      "epoch 17 | tr 0.13179207401476759 | val 0.1325911021232605\n"
     ]
    },
    {
     "name": "stderr",
     "output_type": "stream",
     "text": [
      "100%|██████████| 1145/1145 [00:45<00:00, 25.10it/s]\n",
      "100%|██████████| 7/7 [00:00<00:00, 20.38it/s]\n",
      "  0%|          | 0/1145 [00:00<?, ?it/s]"
     ]
    },
    {
     "name": "stdout",
     "output_type": "stream",
     "text": [
      "epoch 18 | tr 0.13108087274714503 | val 0.13291459739208222\n"
     ]
    },
    {
     "name": "stderr",
     "output_type": "stream",
     "text": [
      "100%|██████████| 1145/1145 [00:45<00:00, 25.26it/s]\n",
      "100%|██████████| 7/7 [00:00<00:00, 19.60it/s]\n",
      "  0%|          | 0/1145 [00:00<?, ?it/s]"
     ]
    },
    {
     "name": "stdout",
     "output_type": "stream",
     "text": [
      "epoch 19 | tr 0.13076649305519758 | val 0.12913243412971498\n"
     ]
    },
    {
     "name": "stderr",
     "output_type": "stream",
     "text": [
      "100%|██████████| 1145/1145 [00:45<00:00, 25.12it/s]\n",
      "100%|██████████| 7/7 [00:00<00:00, 18.09it/s]\n",
      "  0%|          | 0/1145 [00:00<?, ?it/s]"
     ]
    },
    {
     "name": "stdout",
     "output_type": "stream",
     "text": [
      "epoch 20 | tr 0.12996325699188915 | val 0.13134839594364167\n"
     ]
    },
    {
     "name": "stderr",
     "output_type": "stream",
     "text": [
      "100%|██████████| 1145/1145 [00:45<00:00, 25.08it/s]\n",
      "100%|██████████| 7/7 [00:00<00:00, 18.94it/s]\n",
      "  0%|          | 0/1145 [00:00<?, ?it/s]"
     ]
    },
    {
     "name": "stdout",
     "output_type": "stream",
     "text": [
      "epoch 21 | tr 0.12925077088781306 | val 0.13718940436840057\n"
     ]
    },
    {
     "name": "stderr",
     "output_type": "stream",
     "text": [
      "100%|██████████| 1145/1145 [00:46<00:00, 24.70it/s]\n",
      "100%|██████████| 7/7 [00:00<00:00, 18.46it/s]\n",
      "  0%|          | 0/1145 [00:00<?, ?it/s]"
     ]
    },
    {
     "name": "stdout",
     "output_type": "stream",
     "text": [
      "epoch 22 | tr 0.12883554589885068 | val 0.13123154282569885\n"
     ]
    },
    {
     "name": "stderr",
     "output_type": "stream",
     "text": [
      "100%|██████████| 1145/1145 [00:46<00:00, 24.81it/s]\n",
      "100%|██████████| 7/7 [00:00<00:00, 18.23it/s]\n",
      "  0%|          | 0/1145 [00:00<?, ?it/s]"
     ]
    },
    {
     "name": "stdout",
     "output_type": "stream",
     "text": [
      "epoch 23 | tr 0.12803992892089452 | val 0.1335873693227768\n"
     ]
    },
    {
     "name": "stderr",
     "output_type": "stream",
     "text": [
      "100%|██████████| 1145/1145 [00:46<00:00, 24.65it/s]\n",
      "100%|██████████| 7/7 [00:00<00:00, 18.94it/s]\n",
      "  0%|          | 0/1145 [00:00<?, ?it/s]"
     ]
    },
    {
     "name": "stdout",
     "output_type": "stream",
     "text": [
      "epoch 24 | tr 0.12780756561394244 | val 0.13938619673252106\n"
     ]
    },
    {
     "name": "stderr",
     "output_type": "stream",
     "text": [
      "100%|██████████| 1145/1145 [00:46<00:00, 24.46it/s]\n",
      "100%|██████████| 7/7 [00:00<00:00, 19.90it/s]\n",
      "  0%|          | 0/1145 [00:00<?, ?it/s]"
     ]
    },
    {
     "name": "stdout",
     "output_type": "stream",
     "text": [
      "epoch 25 | tr 0.1273075957995375 | val 0.12795308828353882\n"
     ]
    },
    {
     "name": "stderr",
     "output_type": "stream",
     "text": [
      "100%|██████████| 1145/1145 [00:47<00:00, 24.16it/s]\n",
      "100%|██████████| 7/7 [00:00<00:00, 21.09it/s]\n",
      "  0%|          | 0/1145 [00:00<?, ?it/s]"
     ]
    },
    {
     "name": "stdout",
     "output_type": "stream",
     "text": [
      "epoch 26 | tr 0.12673397580847662 | val 0.13408206045627594\n"
     ]
    },
    {
     "name": "stderr",
     "output_type": "stream",
     "text": [
      "100%|██████████| 1145/1145 [00:47<00:00, 24.13it/s]\n",
      "100%|██████████| 7/7 [00:00<00:00, 20.58it/s]\n",
      "  0%|          | 0/1145 [00:00<?, ?it/s]"
     ]
    },
    {
     "name": "stdout",
     "output_type": "stream",
     "text": [
      "epoch 27 | tr 0.12606877098716807 | val 0.132740535736084\n"
     ]
    },
    {
     "name": "stderr",
     "output_type": "stream",
     "text": [
      "100%|██████████| 1145/1145 [00:46<00:00, 24.44it/s]\n",
      "100%|██████████| 7/7 [00:00<00:00, 19.08it/s]\n",
      "  0%|          | 0/1145 [00:00<?, ?it/s]"
     ]
    },
    {
     "name": "stdout",
     "output_type": "stream",
     "text": [
      "epoch 28 | tr 0.12607752999955438 | val 0.1343078565597534\n"
     ]
    },
    {
     "name": "stderr",
     "output_type": "stream",
     "text": [
      "100%|██████████| 1145/1145 [00:45<00:00, 25.10it/s]\n",
      "100%|██████████| 7/7 [00:00<00:00, 19.62it/s]\n",
      "  0%|          | 0/1145 [00:00<?, ?it/s]"
     ]
    },
    {
     "name": "stdout",
     "output_type": "stream",
     "text": [
      "epoch 29 | tr 0.12507251917486012 | val 0.1311424517631531\n"
     ]
    },
    {
     "name": "stderr",
     "output_type": "stream",
     "text": [
      "100%|██████████| 1145/1145 [00:46<00:00, 24.63it/s]\n",
      "100%|██████████| 7/7 [00:00<00:00, 20.41it/s]\n",
      "  0%|          | 0/1145 [00:00<?, ?it/s]"
     ]
    },
    {
     "name": "stdout",
     "output_type": "stream",
     "text": [
      "epoch 30 | tr 0.12503105245373985 | val 0.12809086740016937\n"
     ]
    },
    {
     "name": "stderr",
     "output_type": "stream",
     "text": [
      "100%|██████████| 1145/1145 [00:46<00:00, 24.57it/s]\n",
      "100%|██████████| 7/7 [00:00<00:00, 18.13it/s]\n",
      "  0%|          | 0/1145 [00:00<?, ?it/s]"
     ]
    },
    {
     "name": "stdout",
     "output_type": "stream",
     "text": [
      "epoch 31 | tr 0.12433513547434952 | val 0.13369457721710204\n"
     ]
    },
    {
     "name": "stderr",
     "output_type": "stream",
     "text": [
      "100%|██████████| 1145/1145 [00:47<00:00, 24.29it/s]\n",
      "100%|██████████| 7/7 [00:00<00:00, 19.58it/s]\n",
      "  0%|          | 0/1145 [00:00<?, ?it/s]"
     ]
    },
    {
     "name": "stdout",
     "output_type": "stream",
     "text": [
      "epoch 32 | tr 0.12422716532399868 | val 0.12651263117790224\n"
     ]
    },
    {
     "name": "stderr",
     "output_type": "stream",
     "text": [
      "100%|██████████| 1145/1145 [00:46<00:00, 24.77it/s]\n",
      "100%|██████████| 7/7 [00:00<00:00, 18.39it/s]\n",
      "  0%|          | 0/1145 [00:00<?, ?it/s]"
     ]
    },
    {
     "name": "stdout",
     "output_type": "stream",
     "text": [
      "epoch 33 | tr 0.12370533961970527 | val 0.12981591880321502\n"
     ]
    },
    {
     "name": "stderr",
     "output_type": "stream",
     "text": [
      "100%|██████████| 1145/1145 [00:45<00:00, 25.00it/s]\n",
      "100%|██████████| 7/7 [00:00<00:00, 19.63it/s]\n",
      "  0%|          | 0/1145 [00:00<?, ?it/s]"
     ]
    },
    {
     "name": "stdout",
     "output_type": "stream",
     "text": [
      "epoch 34 | tr 0.12326736535298313 | val 0.12809362828731538\n"
     ]
    },
    {
     "name": "stderr",
     "output_type": "stream",
     "text": [
      "100%|██████████| 1145/1145 [00:45<00:00, 24.93it/s]\n",
      "100%|██████████| 7/7 [00:00<00:00, 20.01it/s]\n",
      "  0%|          | 0/1145 [00:00<?, ?it/s]"
     ]
    },
    {
     "name": "stdout",
     "output_type": "stream",
     "text": [
      "epoch 35 | tr 0.12335579336958767 | val 0.13198111951351166\n"
     ]
    },
    {
     "name": "stderr",
     "output_type": "stream",
     "text": [
      "100%|██████████| 1145/1145 [00:46<00:00, 24.66it/s]\n",
      "100%|██████████| 7/7 [00:00<00:00, 18.32it/s]\n",
      "  0%|          | 0/1145 [00:00<?, ?it/s]"
     ]
    },
    {
     "name": "stdout",
     "output_type": "stream",
     "text": [
      "epoch 36 | tr 0.1226933544918126 | val 0.12061975121498109\n"
     ]
    },
    {
     "name": "stderr",
     "output_type": "stream",
     "text": [
      "100%|██████████| 1145/1145 [00:46<00:00, 24.53it/s]\n",
      "100%|██████████| 7/7 [00:00<00:00, 20.05it/s]\n",
      "  0%|          | 0/1145 [00:00<?, ?it/s]"
     ]
    },
    {
     "name": "stdout",
     "output_type": "stream",
     "text": [
      "epoch 37 | tr 0.12268970147316292 | val 0.12206673383712768\n"
     ]
    },
    {
     "name": "stderr",
     "output_type": "stream",
     "text": [
      "100%|██████████| 1145/1145 [00:46<00:00, 24.57it/s]\n",
      "100%|██████████| 7/7 [00:00<00:00, 18.11it/s]\n",
      "  0%|          | 0/1145 [00:00<?, ?it/s]"
     ]
    },
    {
     "name": "stdout",
     "output_type": "stream",
     "text": [
      "epoch 38 | tr 0.12221240011144785 | val 0.12960988402366638\n"
     ]
    },
    {
     "name": "stderr",
     "output_type": "stream",
     "text": [
      "100%|██████████| 1145/1145 [00:45<00:00, 25.02it/s]\n",
      "100%|██████████| 7/7 [00:00<00:00, 17.50it/s]\n",
      "  0%|          | 0/1145 [00:00<?, ?it/s]"
     ]
    },
    {
     "name": "stdout",
     "output_type": "stream",
     "text": [
      "epoch 39 | tr 0.1218950072908024 | val 0.1281663519144058\n"
     ]
    },
    {
     "name": "stderr",
     "output_type": "stream",
     "text": [
      "100%|██████████| 1145/1145 [00:46<00:00, 24.80it/s]\n",
      "100%|██████████| 7/7 [00:00<00:00, 17.28it/s]\n",
      "  0%|          | 0/1145 [00:00<?, ?it/s]"
     ]
    },
    {
     "name": "stdout",
     "output_type": "stream",
     "text": [
      "epoch 40 | tr 0.12161978673176657 | val 0.13526856422424316\n"
     ]
    },
    {
     "name": "stderr",
     "output_type": "stream",
     "text": [
      "100%|██████████| 1145/1145 [00:44<00:00, 25.81it/s]\n",
      "100%|██████████| 7/7 [00:00<00:00, 20.94it/s]\n",
      "  0%|          | 0/1145 [00:00<?, ?it/s]"
     ]
    },
    {
     "name": "stdout",
     "output_type": "stream",
     "text": [
      "epoch 41 | tr 0.12143468815561789 | val 0.12809154152870178\n"
     ]
    },
    {
     "name": "stderr",
     "output_type": "stream",
     "text": [
      "100%|██████████| 1145/1145 [00:44<00:00, 25.77it/s]\n",
      "100%|██████████| 7/7 [00:00<00:00, 17.38it/s]\n",
      "  0%|          | 0/1145 [00:00<?, ?it/s]"
     ]
    },
    {
     "name": "stdout",
     "output_type": "stream",
     "text": [
      "epoch 42 | tr 0.12074114703762703 | val 0.13285716474056244\n"
     ]
    },
    {
     "name": "stderr",
     "output_type": "stream",
     "text": [
      "100%|██████████| 1145/1145 [00:46<00:00, 24.43it/s]\n",
      "100%|██████████| 7/7 [00:00<00:00, 17.56it/s]\n",
      "  0%|          | 0/1145 [00:00<?, ?it/s]"
     ]
    },
    {
     "name": "stdout",
     "output_type": "stream",
     "text": [
      "epoch 43 | tr 0.12049964128858953 | val 0.1295965152978897\n"
     ]
    },
    {
     "name": "stderr",
     "output_type": "stream",
     "text": [
      "100%|██████████| 1145/1145 [00:47<00:00, 24.31it/s]\n",
      "100%|██████████| 7/7 [00:00<00:00, 18.86it/s]\n",
      "  0%|          | 0/1145 [00:00<?, ?it/s]"
     ]
    },
    {
     "name": "stdout",
     "output_type": "stream",
     "text": [
      "epoch 44 | tr 0.12028275020837524 | val 0.13158459067344666\n"
     ]
    },
    {
     "name": "stderr",
     "output_type": "stream",
     "text": [
      "100%|██████████| 1145/1145 [00:47<00:00, 24.22it/s]\n",
      "100%|██████████| 7/7 [00:00<00:00, 17.67it/s]\n",
      "  0%|          | 0/1145 [00:00<?, ?it/s]"
     ]
    },
    {
     "name": "stdout",
     "output_type": "stream",
     "text": [
      "epoch 45 | tr 0.12054039803548423 | val 0.12078301757574081\n"
     ]
    },
    {
     "name": "stderr",
     "output_type": "stream",
     "text": [
      "100%|██████████| 1145/1145 [00:45<00:00, 24.95it/s]\n",
      "100%|██████████| 7/7 [00:00<00:00, 19.03it/s]\n",
      "  0%|          | 0/1145 [00:00<?, ?it/s]"
     ]
    },
    {
     "name": "stdout",
     "output_type": "stream",
     "text": [
      "epoch 46 | tr 0.11991069712926546 | val 0.12817143738269807\n"
     ]
    },
    {
     "name": "stderr",
     "output_type": "stream",
     "text": [
      "100%|██████████| 1145/1145 [00:47<00:00, 24.17it/s]\n",
      "100%|██████████| 7/7 [00:00<00:00, 19.40it/s]\n",
      "  0%|          | 0/1145 [00:00<?, ?it/s]"
     ]
    },
    {
     "name": "stdout",
     "output_type": "stream",
     "text": [
      "epoch 47 | tr 0.11963987643890227 | val 0.1314580738544464\n"
     ]
    },
    {
     "name": "stderr",
     "output_type": "stream",
     "text": [
      "100%|██████████| 1145/1145 [00:46<00:00, 24.86it/s]\n",
      "100%|██████████| 7/7 [00:00<00:00, 19.05it/s]\n",
      "  0%|          | 0/1145 [00:00<?, ?it/s]"
     ]
    },
    {
     "name": "stdout",
     "output_type": "stream",
     "text": [
      "epoch 48 | tr 0.11945915262197296 | val 0.1242454206943512\n"
     ]
    },
    {
     "name": "stderr",
     "output_type": "stream",
     "text": [
      "100%|██████████| 1145/1145 [00:46<00:00, 24.84it/s]\n",
      "100%|██████████| 7/7 [00:00<00:00, 19.97it/s]\n",
      "  0%|          | 0/1145 [00:00<?, ?it/s]"
     ]
    },
    {
     "name": "stdout",
     "output_type": "stream",
     "text": [
      "epoch 49 | tr 0.11889883722441788 | val 0.12501519203186034\n"
     ]
    },
    {
     "name": "stderr",
     "output_type": "stream",
     "text": [
      "100%|██████████| 1145/1145 [00:44<00:00, 25.57it/s]\n",
      "100%|██████████| 7/7 [00:00<00:00, 19.68it/s]\n",
      "  0%|          | 0/1145 [00:00<?, ?it/s]"
     ]
    },
    {
     "name": "stdout",
     "output_type": "stream",
     "text": [
      "epoch 50 | tr 0.11857966178269976 | val 0.13252823054790497\n"
     ]
    },
    {
     "name": "stderr",
     "output_type": "stream",
     "text": [
      "100%|██████████| 1145/1145 [00:46<00:00, 24.45it/s]\n",
      "100%|██████████| 7/7 [00:00<00:00, 18.62it/s]\n",
      "  0%|          | 0/1145 [00:00<?, ?it/s]"
     ]
    },
    {
     "name": "stdout",
     "output_type": "stream",
     "text": [
      "epoch 51 | tr 0.118805732893921 | val 0.12934262156486512\n"
     ]
    },
    {
     "name": "stderr",
     "output_type": "stream",
     "text": [
      "100%|██████████| 1145/1145 [00:46<00:00, 24.49it/s]\n",
      "100%|██████████| 7/7 [00:00<00:00, 14.86it/s]\n",
      "  0%|          | 0/1145 [00:00<?, ?it/s]"
     ]
    },
    {
     "name": "stdout",
     "output_type": "stream",
     "text": [
      "epoch 52 | tr 0.1183066362627471 | val 0.13178755044937135\n"
     ]
    },
    {
     "name": "stderr",
     "output_type": "stream",
     "text": [
      "100%|██████████| 1145/1145 [00:47<00:00, 24.14it/s]\n",
      "100%|██████████| 7/7 [00:00<00:00, 19.61it/s]\n",
      "  0%|          | 0/1145 [00:00<?, ?it/s]"
     ]
    },
    {
     "name": "stdout",
     "output_type": "stream",
     "text": [
      "epoch 53 | tr 0.11831685880266705 | val 0.1331545054912567\n"
     ]
    },
    {
     "name": "stderr",
     "output_type": "stream",
     "text": [
      "100%|██████████| 1145/1145 [00:45<00:00, 25.07it/s]\n",
      "100%|██████████| 7/7 [00:00<00:00, 17.96it/s]\n",
      "  0%|          | 0/1145 [00:00<?, ?it/s]"
     ]
    },
    {
     "name": "stdout",
     "output_type": "stream",
     "text": [
      "epoch 54 | tr 0.11793880797363258 | val 0.12436912357807159\n"
     ]
    },
    {
     "name": "stderr",
     "output_type": "stream",
     "text": [
      "100%|██████████| 1145/1145 [00:46<00:00, 24.86it/s]\n",
      "100%|██████████| 7/7 [00:00<00:00, 20.37it/s]\n",
      "  0%|          | 0/1145 [00:00<?, ?it/s]"
     ]
    },
    {
     "name": "stdout",
     "output_type": "stream",
     "text": [
      "epoch 55 | tr 0.11759198141975087 | val 0.12103942275047302\n"
     ]
    },
    {
     "name": "stderr",
     "output_type": "stream",
     "text": [
      "100%|██████████| 1145/1145 [00:46<00:00, 24.80it/s]\n",
      "100%|██████████| 7/7 [00:00<00:00, 19.12it/s]\n",
      "  0%|          | 0/1145 [00:00<?, ?it/s]"
     ]
    },
    {
     "name": "stdout",
     "output_type": "stream",
     "text": [
      "epoch 56 | tr 0.11772842231610092 | val 0.13309802651405334\n"
     ]
    },
    {
     "name": "stderr",
     "output_type": "stream",
     "text": [
      "100%|██████████| 1145/1145 [00:46<00:00, 24.39it/s]\n",
      "100%|██████████| 7/7 [00:00<00:00, 18.31it/s]\n",
      "  0%|          | 0/1145 [00:00<?, ?it/s]"
     ]
    },
    {
     "name": "stdout",
     "output_type": "stream",
     "text": [
      "epoch 57 | tr 0.11729941877663347 | val 0.12277127027511597\n"
     ]
    },
    {
     "name": "stderr",
     "output_type": "stream",
     "text": [
      "100%|██████████| 1145/1145 [00:46<00:00, 24.62it/s]\n",
      "100%|██████████| 7/7 [00:00<00:00, 17.67it/s]\n",
      "  0%|          | 0/1145 [00:00<?, ?it/s]"
     ]
    },
    {
     "name": "stdout",
     "output_type": "stream",
     "text": [
      "epoch 58 | tr 0.11726488545272573 | val 0.12949709892272948\n"
     ]
    },
    {
     "name": "stderr",
     "output_type": "stream",
     "text": [
      "100%|██████████| 1145/1145 [00:47<00:00, 24.22it/s]\n",
      "100%|██████████| 7/7 [00:00<00:00, 17.90it/s]\n",
      "  0%|          | 0/1145 [00:00<?, ?it/s]"
     ]
    },
    {
     "name": "stdout",
     "output_type": "stream",
     "text": [
      "epoch 59 | tr 0.11682105821450811 | val 0.1256769722700119\n"
     ]
    },
    {
     "name": "stderr",
     "output_type": "stream",
     "text": [
      "100%|██████████| 1145/1145 [00:45<00:00, 25.17it/s]\n",
      "100%|██████████| 7/7 [00:00<00:00, 19.65it/s]\n",
      "  0%|          | 0/1145 [00:00<?, ?it/s]"
     ]
    },
    {
     "name": "stdout",
     "output_type": "stream",
     "text": [
      "epoch 60 | tr 0.11672074649378214 | val 0.11984821826219559\n"
     ]
    },
    {
     "name": "stderr",
     "output_type": "stream",
     "text": [
      "100%|██████████| 1145/1145 [00:46<00:00, 24.65it/s]\n",
      "100%|██████████| 7/7 [00:00<00:00, 18.93it/s]\n",
      "  0%|          | 0/1145 [00:00<?, ?it/s]"
     ]
    },
    {
     "name": "stdout",
     "output_type": "stream",
     "text": [
      "epoch 61 | tr 0.11659210758426623 | val 0.12295254170894623\n"
     ]
    },
    {
     "name": "stderr",
     "output_type": "stream",
     "text": [
      "100%|██████████| 1145/1145 [00:46<00:00, 24.60it/s]\n",
      "100%|██████████| 7/7 [00:00<00:00, 17.30it/s]\n",
      "  0%|          | 0/1145 [00:00<?, ?it/s]"
     ]
    },
    {
     "name": "stdout",
     "output_type": "stream",
     "text": [
      "epoch 62 | tr 0.11652102132833561 | val 0.12511555194854737\n"
     ]
    },
    {
     "name": "stderr",
     "output_type": "stream",
     "text": [
      "100%|██████████| 1145/1145 [00:47<00:00, 23.95it/s]\n",
      "100%|██████████| 7/7 [00:00<00:00, 17.76it/s]\n",
      "  0%|          | 0/1145 [00:00<?, ?it/s]"
     ]
    },
    {
     "name": "stdout",
     "output_type": "stream",
     "text": [
      "epoch 63 | tr 0.1162453898763904 | val 0.12174376755952836\n"
     ]
    },
    {
     "name": "stderr",
     "output_type": "stream",
     "text": [
      "100%|██████████| 1145/1145 [00:46<00:00, 24.80it/s]\n",
      "100%|██████████| 7/7 [00:00<00:00, 17.44it/s]\n",
      "  0%|          | 0/1145 [00:00<?, ?it/s]"
     ]
    },
    {
     "name": "stdout",
     "output_type": "stream",
     "text": [
      "epoch 64 | tr 0.11598483124961952 | val 0.122904232442379\n"
     ]
    },
    {
     "name": "stderr",
     "output_type": "stream",
     "text": [
      "100%|██████████| 1145/1145 [00:46<00:00, 24.83it/s]\n",
      "100%|██████████| 7/7 [00:00<00:00, 16.25it/s]\n",
      "  0%|          | 0/1145 [00:00<?, ?it/s]"
     ]
    },
    {
     "name": "stdout",
     "output_type": "stream",
     "text": [
      "epoch 65 | tr 0.11581506659074654 | val 0.1202454137802124\n"
     ]
    },
    {
     "name": "stderr",
     "output_type": "stream",
     "text": [
      "100%|██████████| 1145/1145 [00:44<00:00, 25.76it/s]\n",
      "100%|██████████| 7/7 [00:00<00:00, 20.62it/s]\n",
      "  0%|          | 0/1145 [00:00<?, ?it/s]"
     ]
    },
    {
     "name": "stdout",
     "output_type": "stream",
     "text": [
      "epoch 66 | tr 0.11570233389055862 | val 0.11852106869220734\n"
     ]
    },
    {
     "name": "stderr",
     "output_type": "stream",
     "text": [
      "100%|██████████| 1145/1145 [00:46<00:00, 24.75it/s]\n",
      "100%|██████████| 7/7 [00:00<00:00, 20.76it/s]\n",
      "  0%|          | 0/1145 [00:00<?, ?it/s]"
     ]
    },
    {
     "name": "stdout",
     "output_type": "stream",
     "text": [
      "epoch 67 | tr 0.11545983948222346 | val 0.120825777053833\n"
     ]
    },
    {
     "name": "stderr",
     "output_type": "stream",
     "text": [
      "100%|██████████| 1145/1145 [00:45<00:00, 24.93it/s]\n",
      "100%|██████████| 7/7 [00:00<00:00, 18.79it/s]\n",
      "  0%|          | 0/1145 [00:00<?, ?it/s]"
     ]
    },
    {
     "name": "stdout",
     "output_type": "stream",
     "text": [
      "epoch 68 | tr 0.11517604017701918 | val 0.11596881330013276\n"
     ]
    },
    {
     "name": "stderr",
     "output_type": "stream",
     "text": [
      "100%|██████████| 1145/1145 [00:45<00:00, 25.18it/s]\n",
      "100%|██████████| 7/7 [00:00<00:00, 19.47it/s]\n",
      "  0%|          | 0/1145 [00:00<?, ?it/s]"
     ]
    },
    {
     "name": "stdout",
     "output_type": "stream",
     "text": [
      "epoch 69 | tr 0.11493763338989031 | val 0.11574947506189347\n"
     ]
    },
    {
     "name": "stderr",
     "output_type": "stream",
     "text": [
      "100%|██████████| 1145/1145 [00:46<00:00, 24.47it/s]\n",
      "100%|██████████| 7/7 [00:00<00:00, 17.52it/s]\n",
      "  0%|          | 0/1145 [00:00<?, ?it/s]"
     ]
    },
    {
     "name": "stdout",
     "output_type": "stream",
     "text": [
      "epoch 70 | tr 0.11496259799883596 | val 0.12004054486751556\n"
     ]
    },
    {
     "name": "stderr",
     "output_type": "stream",
     "text": [
      "100%|██████████| 1145/1145 [00:46<00:00, 24.48it/s]\n",
      "100%|██████████| 7/7 [00:00<00:00, 18.59it/s]\n",
      "  0%|          | 0/1145 [00:00<?, ?it/s]"
     ]
    },
    {
     "name": "stdout",
     "output_type": "stream",
     "text": [
      "epoch 71 | tr 0.11481553580903825 | val 0.1216706696152687\n"
     ]
    },
    {
     "name": "stderr",
     "output_type": "stream",
     "text": [
      "100%|██████████| 1145/1145 [00:47<00:00, 24.27it/s]\n",
      "100%|██████████| 7/7 [00:00<00:00, 19.66it/s]\n",
      "  0%|          | 0/1145 [00:00<?, ?it/s]"
     ]
    },
    {
     "name": "stdout",
     "output_type": "stream",
     "text": [
      "epoch 72 | tr 0.11452721815811556 | val 0.11784682720899582\n"
     ]
    },
    {
     "name": "stderr",
     "output_type": "stream",
     "text": [
      "100%|██████████| 1145/1145 [00:45<00:00, 25.02it/s]\n",
      "100%|██████████| 7/7 [00:00<00:00, 18.98it/s]\n",
      "  0%|          | 0/1145 [00:00<?, ?it/s]"
     ]
    },
    {
     "name": "stdout",
     "output_type": "stream",
     "text": [
      "epoch 73 | tr 0.11472602288131664 | val 0.12742104053497313\n"
     ]
    },
    {
     "name": "stderr",
     "output_type": "stream",
     "text": [
      "100%|██████████| 1145/1145 [00:46<00:00, 24.49it/s]\n",
      "100%|██████████| 7/7 [00:00<00:00, 18.60it/s]\n",
      "  0%|          | 0/1145 [00:00<?, ?it/s]"
     ]
    },
    {
     "name": "stdout",
     "output_type": "stream",
     "text": [
      "epoch 74 | tr 0.11408317073744371 | val 0.12853634536266326\n"
     ]
    },
    {
     "name": "stderr",
     "output_type": "stream",
     "text": [
      "100%|██████████| 1145/1145 [00:46<00:00, 24.77it/s]\n",
      "100%|██████████| 7/7 [00:00<00:00, 17.15it/s]\n",
      "  0%|          | 0/1145 [00:00<?, ?it/s]"
     ]
    },
    {
     "name": "stdout",
     "output_type": "stream",
     "text": [
      "epoch 75 | tr 0.11415192341376548 | val 0.12071143418550491\n"
     ]
    },
    {
     "name": "stderr",
     "output_type": "stream",
     "text": [
      "100%|██████████| 1145/1145 [00:47<00:00, 24.36it/s]\n",
      "100%|██████████| 7/7 [00:00<00:00, 19.16it/s]\n",
      "  0%|          | 0/1145 [00:00<?, ?it/s]"
     ]
    },
    {
     "name": "stdout",
     "output_type": "stream",
     "text": [
      "epoch 76 | tr 0.11373344607165105 | val 0.11783148378133773\n"
     ]
    },
    {
     "name": "stderr",
     "output_type": "stream",
     "text": [
      "100%|██████████| 1145/1145 [00:46<00:00, 24.39it/s]\n",
      "100%|██████████| 7/7 [00:00<00:00, 17.60it/s]\n",
      "  0%|          | 0/1145 [00:00<?, ?it/s]"
     ]
    },
    {
     "name": "stdout",
     "output_type": "stream",
     "text": [
      "epoch 77 | tr 0.11378552997589046 | val 0.11538132458925247\n"
     ]
    },
    {
     "name": "stderr",
     "output_type": "stream",
     "text": [
      "100%|██████████| 1145/1145 [00:46<00:00, 24.64it/s]\n",
      "100%|██████████| 7/7 [00:00<00:00, 18.77it/s]\n",
      "  0%|          | 0/1145 [00:00<?, ?it/s]"
     ]
    },
    {
     "name": "stdout",
     "output_type": "stream",
     "text": [
      "epoch 78 | tr 0.11351002204330313 | val 0.11940729588270188\n"
     ]
    },
    {
     "name": "stderr",
     "output_type": "stream",
     "text": [
      "100%|██████████| 1145/1145 [00:46<00:00, 24.66it/s]\n",
      "100%|██████████| 7/7 [00:00<00:00, 19.18it/s]\n",
      "  0%|          | 0/1145 [00:00<?, ?it/s]"
     ]
    },
    {
     "name": "stdout",
     "output_type": "stream",
     "text": [
      "epoch 79 | tr 0.113489649543468 | val 0.12031045317649841\n"
     ]
    },
    {
     "name": "stderr",
     "output_type": "stream",
     "text": [
      "100%|██████████| 1145/1145 [00:46<00:00, 24.85it/s]\n",
      "100%|██████████| 7/7 [00:00<00:00, 16.72it/s]\n",
      "  0%|          | 0/1145 [00:00<?, ?it/s]"
     ]
    },
    {
     "name": "stdout",
     "output_type": "stream",
     "text": [
      "epoch 80 | tr 0.11345169850582638 | val 0.12322556614875793\n"
     ]
    },
    {
     "name": "stderr",
     "output_type": "stream",
     "text": [
      "100%|██████████| 1145/1145 [00:46<00:00, 24.88it/s]\n",
      "100%|██████████| 7/7 [00:00<00:00, 16.80it/s]\n",
      "  0%|          | 0/1145 [00:00<?, ?it/s]"
     ]
    },
    {
     "name": "stdout",
     "output_type": "stream",
     "text": [
      "epoch 81 | tr 0.11307437870750132 | val 0.11760065734386443\n"
     ]
    },
    {
     "name": "stderr",
     "output_type": "stream",
     "text": [
      "100%|██████████| 1145/1145 [00:44<00:00, 25.49it/s]\n",
      "100%|██████████| 7/7 [00:00<00:00, 18.84it/s]\n",
      "  0%|          | 0/1145 [00:00<?, ?it/s]"
     ]
    },
    {
     "name": "stdout",
     "output_type": "stream",
     "text": [
      "epoch 82 | tr 0.11297769707602423 | val 0.11980736464262008\n"
     ]
    },
    {
     "name": "stderr",
     "output_type": "stream",
     "text": [
      "100%|██████████| 1145/1145 [00:46<00:00, 24.87it/s]\n",
      "100%|██████████| 7/7 [00:00<00:00, 19.77it/s]\n",
      "  0%|          | 0/1145 [00:00<?, ?it/s]"
     ]
    },
    {
     "name": "stdout",
     "output_type": "stream",
     "text": [
      "epoch 83 | tr 0.11296479244140077 | val 0.11894823759794235\n"
     ]
    },
    {
     "name": "stderr",
     "output_type": "stream",
     "text": [
      "100%|██████████| 1145/1145 [00:47<00:00, 24.34it/s]\n",
      "100%|██████████| 7/7 [00:00<00:00, 17.90it/s]\n",
      "  0%|          | 0/1145 [00:00<?, ?it/s]"
     ]
    },
    {
     "name": "stdout",
     "output_type": "stream",
     "text": [
      "epoch 84 | tr 0.11257693766693323 | val 0.11820056349039078\n"
     ]
    },
    {
     "name": "stderr",
     "output_type": "stream",
     "text": [
      "100%|██████████| 1145/1145 [00:45<00:00, 25.00it/s]\n",
      "100%|██████████| 7/7 [00:00<00:00, 18.96it/s]\n",
      "  0%|          | 0/1145 [00:00<?, ?it/s]"
     ]
    },
    {
     "name": "stdout",
     "output_type": "stream",
     "text": [
      "epoch 85 | tr 0.11246930644375816 | val 0.11778783231973648\n"
     ]
    },
    {
     "name": "stderr",
     "output_type": "stream",
     "text": [
      "100%|██████████| 1145/1145 [00:46<00:00, 24.53it/s]\n",
      "100%|██████████| 7/7 [00:00<00:00, 20.50it/s]\n",
      "  0%|          | 0/1145 [00:00<?, ?it/s]"
     ]
    },
    {
     "name": "stdout",
     "output_type": "stream",
     "text": [
      "epoch 86 | tr 0.11226332291387126 | val 0.11770900696516037\n"
     ]
    },
    {
     "name": "stderr",
     "output_type": "stream",
     "text": [
      "100%|██████████| 1145/1145 [00:46<00:00, 24.77it/s]\n",
      "100%|██████████| 7/7 [00:00<00:00, 18.84it/s]\n"
     ]
    },
    {
     "name": "stdout",
     "output_type": "stream",
     "text": [
      "epoch 87 | tr 0.11215561532743179 | val 0.11608927726745605\n"
     ]
    },
    {
     "name": "stderr",
     "output_type": "stream",
     "text": [
      "100%|██████████| 1145/1145 [00:48<00:00, 23.75it/s]\n",
      "100%|██████████| 7/7 [00:00<00:00, 19.48it/s]\n",
      "  0%|          | 0/1145 [00:00<?, ?it/s]"
     ]
    },
    {
     "name": "stdout",
     "output_type": "stream",
     "text": [
      "epoch 88 | tr 0.11259284073086732 | val 0.11794519126415252\n"
     ]
    },
    {
     "name": "stderr",
     "output_type": "stream",
     "text": [
      "100%|██████████| 1145/1145 [00:47<00:00, 23.98it/s]\n",
      "100%|██████████| 7/7 [00:00<00:00, 17.32it/s]\n",
      "  0%|          | 0/1145 [00:00<?, ?it/s]"
     ]
    },
    {
     "name": "stdout",
     "output_type": "stream",
     "text": [
      "epoch 89 | tr 0.11202222519833112 | val 0.11798886269330978\n"
     ]
    },
    {
     "name": "stderr",
     "output_type": "stream",
     "text": [
      "100%|██████████| 1145/1145 [00:46<00:00, 24.66it/s]\n",
      "100%|██████████| 7/7 [00:00<00:00, 19.24it/s]\n",
      "  0%|          | 0/1145 [00:00<?, ?it/s]"
     ]
    },
    {
     "name": "stdout",
     "output_type": "stream",
     "text": [
      "epoch 90 | tr 0.11176370690339515 | val 0.11601585268974304\n"
     ]
    },
    {
     "name": "stderr",
     "output_type": "stream",
     "text": [
      "100%|██████████| 1145/1145 [00:45<00:00, 24.91it/s]\n",
      "100%|██████████| 7/7 [00:00<00:00, 18.57it/s]\n",
      "  0%|          | 0/1145 [00:00<?, ?it/s]"
     ]
    },
    {
     "name": "stdout",
     "output_type": "stream",
     "text": [
      "epoch 91 | tr 0.11182608994391653 | val 0.12351770341396331\n"
     ]
    },
    {
     "name": "stderr",
     "output_type": "stream",
     "text": [
      "100%|██████████| 1145/1145 [00:48<00:00, 23.83it/s]\n",
      "100%|██████████| 7/7 [00:00<00:00, 18.69it/s]\n",
      "  0%|          | 0/1145 [00:00<?, ?it/s]"
     ]
    },
    {
     "name": "stdout",
     "output_type": "stream",
     "text": [
      "epoch 92 | tr 0.11158830962267659 | val 0.12064170569181443\n"
     ]
    },
    {
     "name": "stderr",
     "output_type": "stream",
     "text": [
      "100%|██████████| 1145/1145 [00:47<00:00, 24.31it/s]\n",
      "100%|██████████| 7/7 [00:00<00:00, 19.24it/s]\n",
      "  0%|          | 0/1145 [00:00<?, ?it/s]"
     ]
    },
    {
     "name": "stdout",
     "output_type": "stream",
     "text": [
      "epoch 93 | tr 0.11129356726267739 | val 0.11970319479703903\n"
     ]
    },
    {
     "name": "stderr",
     "output_type": "stream",
     "text": [
      "100%|██████████| 1145/1145 [00:45<00:00, 25.09it/s]\n",
      "100%|██████████| 7/7 [00:00<00:00, 19.53it/s]\n",
      "  0%|          | 0/1145 [00:00<?, ?it/s]"
     ]
    },
    {
     "name": "stdout",
     "output_type": "stream",
     "text": [
      "epoch 94 | tr 0.11140382334716067 | val 0.1226032766699791\n"
     ]
    },
    {
     "name": "stderr",
     "output_type": "stream",
     "text": [
      "100%|██████████| 1145/1145 [00:46<00:00, 24.52it/s]\n",
      "100%|██████████| 7/7 [00:00<00:00, 20.14it/s]\n",
      "  0%|          | 0/1145 [00:00<?, ?it/s]"
     ]
    },
    {
     "name": "stdout",
     "output_type": "stream",
     "text": [
      "epoch 95 | tr 0.11126302541514548 | val 0.11742677986621856\n"
     ]
    },
    {
     "name": "stderr",
     "output_type": "stream",
     "text": [
      "100%|██████████| 1145/1145 [00:47<00:00, 24.31it/s]\n",
      "100%|██████████| 7/7 [00:00<00:00, 17.93it/s]\n",
      "  0%|          | 0/1145 [00:00<?, ?it/s]"
     ]
    },
    {
     "name": "stdout",
     "output_type": "stream",
     "text": [
      "epoch 96 | tr 0.11120929009449668 | val 0.11748142540454865\n"
     ]
    },
    {
     "name": "stderr",
     "output_type": "stream",
     "text": [
      "100%|██████████| 1145/1145 [00:43<00:00, 26.04it/s]\n",
      "100%|██████████| 7/7 [00:00<00:00, 19.65it/s]\n",
      "  0%|          | 0/1145 [00:00<?, ?it/s]"
     ]
    },
    {
     "name": "stdout",
     "output_type": "stream",
     "text": [
      "epoch 97 | tr 0.11092955853618171 | val 0.11782884746789932\n"
     ]
    },
    {
     "name": "stderr",
     "output_type": "stream",
     "text": [
      "100%|██████████| 1145/1145 [00:45<00:00, 25.20it/s]\n",
      "100%|██████████| 7/7 [00:00<00:00, 19.75it/s]\n",
      "  0%|          | 0/1145 [00:00<?, ?it/s]"
     ]
    },
    {
     "name": "stdout",
     "output_type": "stream",
     "text": [
      "epoch 98 | tr 0.11084483476600261 | val 0.12169800847768783\n"
     ]
    },
    {
     "name": "stderr",
     "output_type": "stream",
     "text": [
      "100%|██████████| 1145/1145 [00:48<00:00, 23.70it/s]\n",
      "100%|██████████| 7/7 [00:00<00:00, 21.13it/s]\n",
      "  0%|          | 0/1145 [00:00<?, ?it/s]"
     ]
    },
    {
     "name": "stdout",
     "output_type": "stream",
     "text": [
      "epoch 99 | tr 0.11052441815722357 | val 0.11728365004062652\n"
     ]
    },
    {
     "name": "stderr",
     "output_type": "stream",
     "text": [
      "100%|██████████| 1145/1145 [00:47<00:00, 24.18it/s]\n",
      "100%|██████████| 7/7 [00:00<00:00, 19.10it/s]\n",
      "  0%|          | 0/1145 [00:00<?, ?it/s]"
     ]
    },
    {
     "name": "stdout",
     "output_type": "stream",
     "text": [
      "epoch 100 | tr 0.11058843508667872 | val 0.11778678894042968\n"
     ]
    },
    {
     "name": "stderr",
     "output_type": "stream",
     "text": [
      "100%|██████████| 1145/1145 [00:45<00:00, 25.39it/s]\n",
      "100%|██████████| 7/7 [00:00<00:00, 18.29it/s]\n",
      "  0%|          | 0/1145 [00:00<?, ?it/s]"
     ]
    },
    {
     "name": "stdout",
     "output_type": "stream",
     "text": [
      "epoch 101 | tr 0.11062905361970982 | val 0.12011830508708954\n"
     ]
    },
    {
     "name": "stderr",
     "output_type": "stream",
     "text": [
      "100%|██████████| 1145/1145 [00:48<00:00, 23.70it/s]\n",
      "100%|██████████| 7/7 [00:00<00:00, 17.94it/s]\n",
      "  0%|          | 0/1145 [00:00<?, ?it/s]"
     ]
    },
    {
     "name": "stdout",
     "output_type": "stream",
     "text": [
      "epoch 102 | tr 0.11048105190986823 | val 0.11652302891016006\n"
     ]
    },
    {
     "name": "stderr",
     "output_type": "stream",
     "text": [
      "100%|██████████| 1145/1145 [00:47<00:00, 24.16it/s]\n",
      "100%|██████████| 7/7 [00:00<00:00, 18.87it/s]\n",
      "  0%|          | 0/1145 [00:00<?, ?it/s]"
     ]
    },
    {
     "name": "stdout",
     "output_type": "stream",
     "text": [
      "epoch 103 | tr 0.1101955542697335 | val 0.1168547174334526\n"
     ]
    },
    {
     "name": "stderr",
     "output_type": "stream",
     "text": [
      "100%|██████████| 1145/1145 [00:48<00:00, 23.59it/s]\n",
      "100%|██████████| 7/7 [00:00<00:00, 18.18it/s]\n",
      "  0%|          | 0/1145 [00:00<?, ?it/s]"
     ]
    },
    {
     "name": "stdout",
     "output_type": "stream",
     "text": [
      "epoch 104 | tr 0.11014698498355799 | val 0.11441505074501038\n"
     ]
    },
    {
     "name": "stderr",
     "output_type": "stream",
     "text": [
      "100%|██████████| 1145/1145 [00:45<00:00, 24.90it/s]\n",
      "100%|██████████| 7/7 [00:00<00:00, 19.33it/s]\n",
      "  0%|          | 0/1145 [00:00<?, ?it/s]"
     ]
    },
    {
     "name": "stdout",
     "output_type": "stream",
     "text": [
      "epoch 105 | tr 0.11003525096749205 | val 0.11619365930557252\n"
     ]
    },
    {
     "name": "stderr",
     "output_type": "stream",
     "text": [
      "100%|██████████| 1145/1145 [00:48<00:00, 23.75it/s]\n",
      "100%|██████████| 7/7 [00:00<00:00, 19.01it/s]\n",
      "  0%|          | 0/1145 [00:00<?, ?it/s]"
     ]
    },
    {
     "name": "stdout",
     "output_type": "stream",
     "text": [
      "epoch 106 | tr 0.10980119651095516 | val 0.11850815802812577\n"
     ]
    },
    {
     "name": "stderr",
     "output_type": "stream",
     "text": [
      "100%|██████████| 1145/1145 [00:41<00:00, 27.92it/s]\n",
      "100%|██████████| 7/7 [00:00<00:00, 18.94it/s]\n",
      "  0%|          | 0/1145 [00:00<?, ?it/s]"
     ]
    },
    {
     "name": "stdout",
     "output_type": "stream",
     "text": [
      "epoch 107 | tr 0.10976469482786175 | val 0.11305932730436324\n"
     ]
    },
    {
     "name": "stderr",
     "output_type": "stream",
     "text": [
      "100%|██████████| 1145/1145 [00:47<00:00, 24.26it/s]\n",
      "100%|██████████| 7/7 [00:00<00:00, 20.41it/s]\n",
      "  0%|          | 0/1145 [00:00<?, ?it/s]"
     ]
    },
    {
     "name": "stdout",
     "output_type": "stream",
     "text": [
      "epoch 108 | tr 0.10963517778148554 | val 0.11399903893470764\n"
     ]
    },
    {
     "name": "stderr",
     "output_type": "stream",
     "text": [
      "100%|██████████| 1145/1145 [00:45<00:00, 25.21it/s]\n",
      "100%|██████████| 7/7 [00:00<00:00, 17.36it/s]\n",
      "  0%|          | 0/1145 [00:00<?, ?it/s]"
     ]
    },
    {
     "name": "stdout",
     "output_type": "stream",
     "text": [
      "epoch 109 | tr 0.10940790242212182 | val 0.11623897165060043\n"
     ]
    },
    {
     "name": "stderr",
     "output_type": "stream",
     "text": [
      "100%|██████████| 1145/1145 [00:45<00:00, 24.97it/s]\n",
      "100%|██████████| 7/7 [00:00<00:00, 20.00it/s]\n",
      "  0%|          | 0/1145 [00:00<?, ?it/s]"
     ]
    },
    {
     "name": "stdout",
     "output_type": "stream",
     "text": [
      "epoch 110 | tr 0.1096679511269259 | val 0.11329314023256302\n"
     ]
    },
    {
     "name": "stderr",
     "output_type": "stream",
     "text": [
      "100%|██████████| 1145/1145 [00:47<00:00, 24.34it/s]\n",
      "100%|██████████| 7/7 [00:00<00:00, 18.39it/s]\n",
      "  0%|          | 0/1145 [00:00<?, ?it/s]"
     ]
    },
    {
     "name": "stdout",
     "output_type": "stream",
     "text": [
      "epoch 111 | tr 0.10932006867098541 | val 0.1154787477850914\n"
     ]
    },
    {
     "name": "stderr",
     "output_type": "stream",
     "text": [
      "100%|██████████| 1145/1145 [00:47<00:00, 24.22it/s]\n",
      "100%|██████████| 7/7 [00:00<00:00, 17.84it/s]\n",
      "  0%|          | 0/1145 [00:00<?, ?it/s]"
     ]
    },
    {
     "name": "stdout",
     "output_type": "stream",
     "text": [
      "epoch 112 | tr 0.10909144693780655 | val 0.11476483970880508\n"
     ]
    },
    {
     "name": "stderr",
     "output_type": "stream",
     "text": [
      "100%|██████████| 1145/1145 [00:44<00:00, 25.84it/s]\n",
      "100%|██████████| 7/7 [00:00<00:00, 18.45it/s]\n",
      "  0%|          | 0/1145 [00:00<?, ?it/s]"
     ]
    },
    {
     "name": "stdout",
     "output_type": "stream",
     "text": [
      "epoch 113 | tr 0.10905337802274546 | val 0.11744187951087952\n"
     ]
    },
    {
     "name": "stderr",
     "output_type": "stream",
     "text": [
      "100%|██████████| 1145/1145 [00:47<00:00, 23.93it/s]\n",
      "100%|██████████| 7/7 [00:00<00:00, 18.84it/s]\n",
      "  0%|          | 0/1145 [00:00<?, ?it/s]"
     ]
    },
    {
     "name": "stdout",
     "output_type": "stream",
     "text": [
      "epoch 114 | tr 0.10900258348470107 | val 0.11440642565488815\n"
     ]
    },
    {
     "name": "stderr",
     "output_type": "stream",
     "text": [
      "100%|██████████| 1145/1145 [00:47<00:00, 24.12it/s]\n",
      "100%|██████████| 7/7 [00:00<00:00, 17.95it/s]\n",
      "  0%|          | 0/1145 [00:00<?, ?it/s]"
     ]
    },
    {
     "name": "stdout",
     "output_type": "stream",
     "text": [
      "epoch 115 | tr 0.10901459845531973 | val 0.11470134645700454\n"
     ]
    },
    {
     "name": "stderr",
     "output_type": "stream",
     "text": [
      "100%|██████████| 1145/1145 [00:45<00:00, 25.31it/s]\n",
      "100%|██████████| 7/7 [00:00<00:00, 19.74it/s]\n",
      "  0%|          | 0/1145 [00:00<?, ?it/s]"
     ]
    },
    {
     "name": "stdout",
     "output_type": "stream",
     "text": [
      "epoch 116 | tr 0.10917425809248595 | val 0.11804801851511001\n"
     ]
    },
    {
     "name": "stderr",
     "output_type": "stream",
     "text": [
      "100%|██████████| 1145/1145 [00:48<00:00, 23.82it/s]\n",
      "100%|██████████| 7/7 [00:00<00:00, 19.55it/s]\n",
      "  0%|          | 0/1145 [00:00<?, ?it/s]"
     ]
    },
    {
     "name": "stdout",
     "output_type": "stream",
     "text": [
      "epoch 117 | tr 0.1086054177092881 | val 0.1138971507549286\n"
     ]
    },
    {
     "name": "stderr",
     "output_type": "stream",
     "text": [
      "100%|██████████| 1145/1145 [00:46<00:00, 24.44it/s]\n",
      "100%|██████████| 7/7 [00:00<00:00, 18.74it/s]\n",
      "  0%|          | 0/1145 [00:00<?, ?it/s]"
     ]
    },
    {
     "name": "stdout",
     "output_type": "stream",
     "text": [
      "epoch 118 | tr 0.10867737752067369 | val 0.11227278828620911\n"
     ]
    },
    {
     "name": "stderr",
     "output_type": "stream",
     "text": [
      "100%|██████████| 1145/1145 [00:46<00:00, 24.59it/s]\n",
      "100%|██████████| 7/7 [00:00<00:00, 19.48it/s]\n",
      "  0%|          | 0/1145 [00:00<?, ?it/s]"
     ]
    },
    {
     "name": "stdout",
     "output_type": "stream",
     "text": [
      "epoch 119 | tr 0.10841618787020306 | val 0.11358117550611496\n"
     ]
    },
    {
     "name": "stderr",
     "output_type": "stream",
     "text": [
      "100%|██████████| 1145/1145 [00:47<00:00, 24.12it/s]\n",
      "100%|██████████| 7/7 [00:00<00:00, 19.11it/s]\n",
      "  0%|          | 0/1145 [00:00<?, ?it/s]"
     ]
    },
    {
     "name": "stdout",
     "output_type": "stream",
     "text": [
      "epoch 120 | tr 0.10857373153719133 | val 0.11695856064558029\n"
     ]
    },
    {
     "name": "stderr",
     "output_type": "stream",
     "text": [
      "100%|██████████| 1145/1145 [00:48<00:00, 23.83it/s]\n",
      "100%|██████████| 7/7 [00:00<00:00, 20.46it/s]\n",
      "  0%|          | 0/1145 [00:00<?, ?it/s]"
     ]
    },
    {
     "name": "stdout",
     "output_type": "stream",
     "text": [
      "epoch 121 | tr 0.10815483623926932 | val 0.1154433724284172\n"
     ]
    },
    {
     "name": "stderr",
     "output_type": "stream",
     "text": [
      "100%|██████████| 1145/1145 [00:47<00:00, 24.10it/s]\n",
      "100%|██████████| 7/7 [00:00<00:00, 18.50it/s]\n",
      "  0%|          | 0/1145 [00:00<?, ?it/s]"
     ]
    },
    {
     "name": "stdout",
     "output_type": "stream",
     "text": [
      "epoch 122 | tr 0.1084007199913662 | val 0.11385700702667237\n"
     ]
    },
    {
     "name": "stderr",
     "output_type": "stream",
     "text": [
      "100%|██████████| 1145/1145 [00:46<00:00, 24.43it/s]\n",
      "100%|██████████| 7/7 [00:00<00:00, 19.08it/s]\n",
      "  0%|          | 0/1145 [00:00<?, ?it/s]"
     ]
    },
    {
     "name": "stdout",
     "output_type": "stream",
     "text": [
      "epoch 123 | tr 0.10810280077743166 | val 0.11284635692834855\n"
     ]
    },
    {
     "name": "stderr",
     "output_type": "stream",
     "text": [
      "100%|██████████| 1145/1145 [00:47<00:00, 24.22it/s]\n",
      "100%|██████████| 7/7 [00:00<00:00, 19.04it/s]\n",
      "  0%|          | 0/1145 [00:00<?, ?it/s]"
     ]
    },
    {
     "name": "stdout",
     "output_type": "stream",
     "text": [
      "epoch 124 | tr 0.10813970756870848 | val 0.11369843035936356\n"
     ]
    },
    {
     "name": "stderr",
     "output_type": "stream",
     "text": [
      "100%|██████████| 1145/1145 [00:48<00:00, 23.66it/s]\n",
      "100%|██████████| 7/7 [00:00<00:00, 19.62it/s]\n",
      "  0%|          | 0/1145 [00:00<?, ?it/s]"
     ]
    },
    {
     "name": "stdout",
     "output_type": "stream",
     "text": [
      "epoch 125 | tr 0.10809997351417573 | val 0.11500484704971313\n"
     ]
    },
    {
     "name": "stderr",
     "output_type": "stream",
     "text": [
      "100%|██████████| 1145/1145 [00:43<00:00, 26.32it/s]\n",
      "100%|██████████| 7/7 [00:00<00:00, 20.87it/s]\n",
      "  0%|          | 0/1145 [00:00<?, ?it/s]"
     ]
    },
    {
     "name": "stdout",
     "output_type": "stream",
     "text": [
      "epoch 126 | tr 0.1079398428282385 | val 0.11367034435272216\n"
     ]
    },
    {
     "name": "stderr",
     "output_type": "stream",
     "text": [
      "100%|██████████| 1145/1145 [00:44<00:00, 25.54it/s]\n",
      "100%|██████████| 7/7 [00:00<00:00, 18.79it/s]\n",
      "  0%|          | 0/1145 [00:00<?, ?it/s]"
     ]
    },
    {
     "name": "stdout",
     "output_type": "stream",
     "text": [
      "epoch 127 | tr 0.10766534248751888 | val 0.11257342606782914\n"
     ]
    },
    {
     "name": "stderr",
     "output_type": "stream",
     "text": [
      "100%|██████████| 1145/1145 [00:48<00:00, 23.81it/s]\n",
      "100%|██████████| 7/7 [00:00<00:00, 17.41it/s]\n",
      "  0%|          | 0/1145 [00:00<?, ?it/s]"
     ]
    },
    {
     "name": "stdout",
     "output_type": "stream",
     "text": [
      "epoch 128 | tr 0.10775408701813029 | val 0.11293395310640335\n"
     ]
    },
    {
     "name": "stderr",
     "output_type": "stream",
     "text": [
      "100%|██████████| 1145/1145 [00:47<00:00, 24.18it/s]\n",
      "100%|██████████| 7/7 [00:00<00:00, 19.49it/s]\n",
      "  0%|          | 0/1145 [00:00<?, ?it/s]"
     ]
    },
    {
     "name": "stdout",
     "output_type": "stream",
     "text": [
      "epoch 129 | tr 0.10756099186786823 | val 0.1104994660615921\n"
     ]
    },
    {
     "name": "stderr",
     "output_type": "stream",
     "text": [
      "100%|██████████| 1145/1145 [00:48<00:00, 23.70it/s]\n",
      "100%|██████████| 7/7 [00:00<00:00, 20.56it/s]\n",
      "  0%|          | 0/1145 [00:00<?, ?it/s]"
     ]
    },
    {
     "name": "stdout",
     "output_type": "stream",
     "text": [
      "epoch 130 | tr 0.10752614135506894 | val 0.1151526141166687\n"
     ]
    },
    {
     "name": "stderr",
     "output_type": "stream",
     "text": [
      "100%|██████████| 1145/1145 [00:46<00:00, 24.43it/s]\n",
      "100%|██████████| 7/7 [00:00<00:00, 18.32it/s]\n",
      "  0%|          | 0/1145 [00:00<?, ?it/s]"
     ]
    },
    {
     "name": "stdout",
     "output_type": "stream",
     "text": [
      "epoch 131 | tr 0.10747559433291917 | val 0.1143586727976799\n"
     ]
    },
    {
     "name": "stderr",
     "output_type": "stream",
     "text": [
      "100%|██████████| 1145/1145 [00:45<00:00, 25.08it/s]\n",
      "100%|██████████| 7/7 [00:00<00:00, 19.30it/s]\n",
      "  0%|          | 0/1145 [00:00<?, ?it/s]"
     ]
    },
    {
     "name": "stdout",
     "output_type": "stream",
     "text": [
      "epoch 132 | tr 0.10716009951706894 | val 0.1130520161986351\n"
     ]
    },
    {
     "name": "stderr",
     "output_type": "stream",
     "text": [
      "100%|██████████| 1145/1145 [00:47<00:00, 24.31it/s]\n",
      "100%|██████████| 7/7 [00:00<00:00, 20.16it/s]\n",
      "  0%|          | 0/1145 [00:00<?, ?it/s]"
     ]
    },
    {
     "name": "stdout",
     "output_type": "stream",
     "text": [
      "epoch 133 | tr 0.10739870817486198 | val 0.1144358593225479\n"
     ]
    },
    {
     "name": "stderr",
     "output_type": "stream",
     "text": [
      "100%|██████████| 1145/1145 [00:46<00:00, 24.44it/s]\n",
      "100%|██████████| 7/7 [00:00<00:00, 19.38it/s]\n",
      "  0%|          | 0/1145 [00:00<?, ?it/s]"
     ]
    },
    {
     "name": "stdout",
     "output_type": "stream",
     "text": [
      "epoch 134 | tr 0.10712217690391096 | val 0.11597559601068497\n"
     ]
    },
    {
     "name": "stderr",
     "output_type": "stream",
     "text": [
      "100%|██████████| 1145/1145 [00:46<00:00, 24.42it/s]\n",
      "100%|██████████| 7/7 [00:00<00:00, 20.01it/s]\n",
      "  0%|          | 0/1145 [00:00<?, ?it/s]"
     ]
    },
    {
     "name": "stdout",
     "output_type": "stream",
     "text": [
      "epoch 135 | tr 0.10706280744445151 | val 0.11039575517177581\n"
     ]
    },
    {
     "name": "stderr",
     "output_type": "stream",
     "text": [
      "100%|██████████| 1145/1145 [00:48<00:00, 23.69it/s]\n",
      "100%|██████████| 7/7 [00:00<00:00, 20.25it/s]\n",
      "  0%|          | 0/1145 [00:00<?, ?it/s]"
     ]
    },
    {
     "name": "stdout",
     "output_type": "stream",
     "text": [
      "epoch 136 | tr 0.10697159492600136 | val 0.11258957535028458\n"
     ]
    },
    {
     "name": "stderr",
     "output_type": "stream",
     "text": [
      "100%|██████████| 1145/1145 [00:46<00:00, 24.76it/s]\n",
      "100%|██████████| 7/7 [00:00<00:00, 19.84it/s]\n",
      "  0%|          | 0/1145 [00:00<?, ?it/s]"
     ]
    },
    {
     "name": "stdout",
     "output_type": "stream",
     "text": [
      "epoch 137 | tr 0.10685988545149296 | val 0.11115115940570831\n"
     ]
    },
    {
     "name": "stderr",
     "output_type": "stream",
     "text": [
      "100%|██████████| 1145/1145 [00:46<00:00, 24.64it/s]\n",
      "100%|██████████| 7/7 [00:00<00:00, 18.74it/s]\n",
      "  0%|          | 0/1145 [00:00<?, ?it/s]"
     ]
    },
    {
     "name": "stdout",
     "output_type": "stream",
     "text": [
      "epoch 138 | tr 0.10689460753849417 | val 0.11141291856765748\n"
     ]
    },
    {
     "name": "stderr",
     "output_type": "stream",
     "text": [
      "100%|██████████| 1145/1145 [00:45<00:00, 25.25it/s]\n",
      "100%|██████████| 7/7 [00:00<00:00, 19.11it/s]\n",
      "  0%|          | 0/1145 [00:00<?, ?it/s]"
     ]
    },
    {
     "name": "stdout",
     "output_type": "stream",
     "text": [
      "epoch 139 | tr 0.10673363562688586 | val 0.10971217095851898\n"
     ]
    },
    {
     "name": "stderr",
     "output_type": "stream",
     "text": [
      "100%|██████████| 1145/1145 [00:46<00:00, 24.88it/s]\n",
      "100%|██████████| 7/7 [00:00<00:00, 18.11it/s]\n",
      "  0%|          | 0/1145 [00:00<?, ?it/s]"
     ]
    },
    {
     "name": "stdout",
     "output_type": "stream",
     "text": [
      "epoch 140 | tr 0.10663595217606295 | val 0.11048729956150055\n"
     ]
    },
    {
     "name": "stderr",
     "output_type": "stream",
     "text": [
      "100%|██████████| 1145/1145 [00:47<00:00, 24.01it/s]\n",
      "100%|██████████| 7/7 [00:00<00:00, 18.80it/s]\n",
      "  0%|          | 0/1145 [00:00<?, ?it/s]"
     ]
    },
    {
     "name": "stdout",
     "output_type": "stream",
     "text": [
      "epoch 141 | tr 0.106711195884036 | val 0.11177275121212006\n"
     ]
    },
    {
     "name": "stderr",
     "output_type": "stream",
     "text": [
      "100%|██████████| 1145/1145 [00:46<00:00, 24.44it/s]\n",
      "100%|██████████| 7/7 [00:00<00:00, 17.95it/s]\n",
      "  0%|          | 0/1145 [00:00<?, ?it/s]"
     ]
    },
    {
     "name": "stdout",
     "output_type": "stream",
     "text": [
      "epoch 142 | tr 0.10642783853881124 | val 0.111047323346138\n"
     ]
    },
    {
     "name": "stderr",
     "output_type": "stream",
     "text": [
      "100%|██████████| 1145/1145 [00:48<00:00, 23.58it/s]\n",
      "100%|██████████| 7/7 [00:00<00:00, 18.75it/s]\n",
      "  0%|          | 0/1145 [00:00<?, ?it/s]"
     ]
    },
    {
     "name": "stdout",
     "output_type": "stream",
     "text": [
      "epoch 143 | tr 0.10645197396912341 | val 0.11320434123277665\n"
     ]
    },
    {
     "name": "stderr",
     "output_type": "stream",
     "text": [
      "100%|██████████| 1145/1145 [00:46<00:00, 24.78it/s]\n",
      "100%|██████████| 7/7 [00:00<00:00, 19.21it/s]\n",
      "  0%|          | 0/1145 [00:00<?, ?it/s]"
     ]
    },
    {
     "name": "stdout",
     "output_type": "stream",
     "text": [
      "epoch 144 | tr 0.10637770555415116 | val 0.11296587944030761\n"
     ]
    },
    {
     "name": "stderr",
     "output_type": "stream",
     "text": [
      "100%|██████████| 1145/1145 [00:46<00:00, 24.48it/s]\n",
      "100%|██████████| 7/7 [00:00<00:00, 19.76it/s]\n",
      "  0%|          | 0/1145 [00:00<?, ?it/s]"
     ]
    },
    {
     "name": "stdout",
     "output_type": "stream",
     "text": [
      "epoch 145 | tr 0.10625882222536578 | val 0.11255808144807816\n"
     ]
    },
    {
     "name": "stderr",
     "output_type": "stream",
     "text": [
      "100%|██████████| 1145/1145 [00:45<00:00, 24.94it/s]\n",
      "100%|██████████| 7/7 [00:00<00:00, 17.22it/s]\n",
      "  0%|          | 0/1145 [00:00<?, ?it/s]"
     ]
    },
    {
     "name": "stdout",
     "output_type": "stream",
     "text": [
      "epoch 146 | tr 0.10618352251945543 | val 0.1089819386601448\n"
     ]
    },
    {
     "name": "stderr",
     "output_type": "stream",
     "text": [
      "100%|██████████| 1145/1145 [00:47<00:00, 23.99it/s]\n",
      "100%|██████████| 7/7 [00:00<00:00, 19.20it/s]\n",
      "  0%|          | 0/1145 [00:00<?, ?it/s]"
     ]
    },
    {
     "name": "stdout",
     "output_type": "stream",
     "text": [
      "epoch 147 | tr 0.10613311177641845 | val 0.11543025821447372\n"
     ]
    },
    {
     "name": "stderr",
     "output_type": "stream",
     "text": [
      "100%|██████████| 1145/1145 [00:46<00:00, 24.45it/s]\n",
      "100%|██████████| 7/7 [00:00<00:00, 18.94it/s]\n",
      "  0%|          | 0/1145 [00:00<?, ?it/s]"
     ]
    },
    {
     "name": "stdout",
     "output_type": "stream",
     "text": [
      "epoch 148 | tr 0.10610321209774361 | val 0.11280308246612548\n"
     ]
    },
    {
     "name": "stderr",
     "output_type": "stream",
     "text": [
      "100%|██████████| 1145/1145 [00:47<00:00, 24.09it/s]\n",
      "100%|██████████| 7/7 [00:00<00:00, 19.29it/s]\n",
      "  0%|          | 0/1145 [00:00<?, ?it/s]"
     ]
    },
    {
     "name": "stdout",
     "output_type": "stream",
     "text": [
      "epoch 149 | tr 0.1060161573425395 | val 0.10923249185085297\n"
     ]
    },
    {
     "name": "stderr",
     "output_type": "stream",
     "text": [
      "100%|██████████| 1145/1145 [00:47<00:00, 24.00it/s]\n",
      "100%|██████████| 7/7 [00:00<00:00, 19.43it/s]\n",
      "  0%|          | 0/1145 [00:00<?, ?it/s]"
     ]
    },
    {
     "name": "stdout",
     "output_type": "stream",
     "text": [
      "epoch 150 | tr 0.10579518356586524 | val 0.11117839246988297\n"
     ]
    },
    {
     "name": "stderr",
     "output_type": "stream",
     "text": [
      "100%|██████████| 1145/1145 [00:45<00:00, 24.90it/s]\n",
      "100%|██████████| 7/7 [00:00<00:00, 17.94it/s]\n",
      "  0%|          | 0/1145 [00:00<?, ?it/s]"
     ]
    },
    {
     "name": "stdout",
     "output_type": "stream",
     "text": [
      "epoch 151 | tr 0.10595507498056615 | val 0.1092024153470993\n"
     ]
    },
    {
     "name": "stderr",
     "output_type": "stream",
     "text": [
      "100%|██████████| 1145/1145 [00:47<00:00, 24.30it/s]\n",
      "100%|██████████| 7/7 [00:00<00:00, 19.57it/s]\n",
      "  0%|          | 0/1145 [00:00<?, ?it/s]"
     ]
    },
    {
     "name": "stdout",
     "output_type": "stream",
     "text": [
      "epoch 152 | tr 0.10581504490258034 | val 0.1109950602054596\n"
     ]
    },
    {
     "name": "stderr",
     "output_type": "stream",
     "text": [
      "100%|██████████| 1145/1145 [00:46<00:00, 24.43it/s]\n",
      "100%|██████████| 7/7 [00:00<00:00, 18.93it/s]\n",
      "  0%|          | 0/1145 [00:00<?, ?it/s]"
     ]
    },
    {
     "name": "stdout",
     "output_type": "stream",
     "text": [
      "epoch 153 | tr 0.10577088922197103 | val 0.11358938038349152\n"
     ]
    },
    {
     "name": "stderr",
     "output_type": "stream",
     "text": [
      "100%|██████████| 1145/1145 [00:46<00:00, 24.86it/s]\n",
      "100%|██████████| 7/7 [00:00<00:00, 18.62it/s]\n",
      "  0%|          | 0/1145 [00:00<?, ?it/s]"
     ]
    },
    {
     "name": "stdout",
     "output_type": "stream",
     "text": [
      "epoch 154 | tr 0.10562270243791749 | val 0.10961395114660263\n"
     ]
    },
    {
     "name": "stderr",
     "output_type": "stream",
     "text": [
      "100%|██████████| 1145/1145 [00:47<00:00, 23.98it/s]\n",
      "100%|██████████| 7/7 [00:00<00:00, 18.62it/s]\n",
      "  0%|          | 0/1145 [00:00<?, ?it/s]"
     ]
    },
    {
     "name": "stdout",
     "output_type": "stream",
     "text": [
      "epoch 155 | tr 0.10550824989883294 | val 0.10982704132795335\n"
     ]
    },
    {
     "name": "stderr",
     "output_type": "stream",
     "text": [
      "100%|██████████| 1145/1145 [00:47<00:00, 24.02it/s]\n",
      "100%|██████████| 7/7 [00:00<00:00, 15.78it/s]\n",
      "  0%|          | 0/1145 [00:00<?, ?it/s]"
     ]
    },
    {
     "name": "stdout",
     "output_type": "stream",
     "text": [
      "epoch 156 | tr 0.10543067051947459 | val 0.11222295850515365\n"
     ]
    },
    {
     "name": "stderr",
     "output_type": "stream",
     "text": [
      "100%|██████████| 1145/1145 [00:45<00:00, 25.37it/s]\n",
      "100%|██████████| 7/7 [00:00<00:00, 17.81it/s]\n",
      "  0%|          | 0/1145 [00:00<?, ?it/s]"
     ]
    },
    {
     "name": "stdout",
     "output_type": "stream",
     "text": [
      "epoch 157 | tr 0.10542611734905498 | val 0.10859641164541245\n"
     ]
    },
    {
     "name": "stderr",
     "output_type": "stream",
     "text": [
      "100%|██████████| 1145/1145 [00:47<00:00, 24.16it/s]\n",
      "100%|██████████| 7/7 [00:00<00:00, 17.64it/s]\n",
      "  0%|          | 0/1145 [00:00<?, ?it/s]"
     ]
    },
    {
     "name": "stdout",
     "output_type": "stream",
     "text": [
      "epoch 158 | tr 0.10539216977421326 | val 0.11127673238515853\n"
     ]
    },
    {
     "name": "stderr",
     "output_type": "stream",
     "text": [
      "100%|██████████| 1145/1145 [00:48<00:00, 23.78it/s]\n",
      "100%|██████████| 7/7 [00:00<00:00, 18.93it/s]\n",
      "  0%|          | 0/1145 [00:00<?, ?it/s]"
     ]
    },
    {
     "name": "stdout",
     "output_type": "stream",
     "text": [
      "epoch 159 | tr 0.10523900862904217 | val 0.1110930722951889\n"
     ]
    },
    {
     "name": "stderr",
     "output_type": "stream",
     "text": [
      "100%|██████████| 1145/1145 [00:45<00:00, 25.04it/s]\n",
      "100%|██████████| 7/7 [00:00<00:00, 19.91it/s]\n",
      "  0%|          | 0/1145 [00:00<?, ?it/s]"
     ]
    },
    {
     "name": "stdout",
     "output_type": "stream",
     "text": [
      "epoch 160 | tr 0.1052286327397794 | val 0.10947762787342072\n"
     ]
    },
    {
     "name": "stderr",
     "output_type": "stream",
     "text": [
      "100%|██████████| 1145/1145 [00:47<00:00, 23.92it/s]\n",
      "100%|██████████| 7/7 [00:00<00:00, 18.61it/s]\n",
      "  0%|          | 0/1145 [00:00<?, ?it/s]"
     ]
    },
    {
     "name": "stdout",
     "output_type": "stream",
     "text": [
      "epoch 161 | tr 0.10513402587715602 | val 0.11322610944509506\n"
     ]
    },
    {
     "name": "stderr",
     "output_type": "stream",
     "text": [
      "100%|██████████| 1145/1145 [00:46<00:00, 24.79it/s]\n",
      "100%|██████████| 7/7 [00:00<00:00, 19.37it/s]\n",
      "  0%|          | 0/1145 [00:00<?, ?it/s]"
     ]
    },
    {
     "name": "stdout",
     "output_type": "stream",
     "text": [
      "epoch 162 | tr 0.10511395407323462 | val 0.10983128249645233\n"
     ]
    },
    {
     "name": "stderr",
     "output_type": "stream",
     "text": [
      "100%|██████████| 1145/1145 [00:47<00:00, 24.23it/s]\n",
      "100%|██████████| 7/7 [00:00<00:00, 17.46it/s]\n",
      "  0%|          | 0/1145 [00:00<?, ?it/s]"
     ]
    },
    {
     "name": "stdout",
     "output_type": "stream",
     "text": [
      "epoch 163 | tr 0.10500239108694469 | val 0.10869568318128586\n"
     ]
    },
    {
     "name": "stderr",
     "output_type": "stream",
     "text": [
      "100%|██████████| 1145/1145 [00:46<00:00, 24.88it/s]\n",
      "100%|██████████| 7/7 [00:00<00:00, 19.17it/s]\n",
      "  0%|          | 0/1145 [00:00<?, ?it/s]"
     ]
    },
    {
     "name": "stdout",
     "output_type": "stream",
     "text": [
      "epoch 164 | tr 0.1049107335542448 | val 0.10968677699565887\n"
     ]
    },
    {
     "name": "stderr",
     "output_type": "stream",
     "text": [
      "100%|██████████| 1145/1145 [00:47<00:00, 24.24it/s]\n",
      "100%|██████████| 7/7 [00:00<00:00, 17.36it/s]\n",
      "  0%|          | 0/1145 [00:00<?, ?it/s]"
     ]
    },
    {
     "name": "stdout",
     "output_type": "stream",
     "text": [
      "epoch 165 | tr 0.10485454264508548 | val 0.11029855757951737\n"
     ]
    },
    {
     "name": "stderr",
     "output_type": "stream",
     "text": [
      "100%|██████████| 1145/1145 [00:46<00:00, 24.79it/s]\n",
      "100%|██████████| 7/7 [00:00<00:00, 20.23it/s]\n",
      "  0%|          | 0/1145 [00:00<?, ?it/s]"
     ]
    },
    {
     "name": "stdout",
     "output_type": "stream",
     "text": [
      "epoch 166 | tr 0.10486883775941537 | val 0.11067860215902328\n"
     ]
    },
    {
     "name": "stderr",
     "output_type": "stream",
     "text": [
      "100%|██████████| 1145/1145 [00:47<00:00, 24.26it/s]\n",
      "100%|██████████| 7/7 [00:00<00:00, 18.89it/s]\n",
      "  0%|          | 0/1145 [00:00<?, ?it/s]"
     ]
    },
    {
     "name": "stdout",
     "output_type": "stream",
     "text": [
      "epoch 167 | tr 0.10481624059621147 | val 0.10987603694200515\n"
     ]
    },
    {
     "name": "stderr",
     "output_type": "stream",
     "text": [
      "100%|██████████| 1145/1145 [00:47<00:00, 24.30it/s]\n",
      "100%|██████████| 7/7 [00:00<00:00, 20.62it/s]\n",
      "  0%|          | 0/1145 [00:00<?, ?it/s]"
     ]
    },
    {
     "name": "stdout",
     "output_type": "stream",
     "text": [
      "epoch 168 | tr 0.10464303255317121 | val 0.1066670098900795\n"
     ]
    },
    {
     "name": "stderr",
     "output_type": "stream",
     "text": [
      "100%|██████████| 1145/1145 [00:45<00:00, 24.98it/s]\n",
      "100%|██████████| 7/7 [00:00<00:00, 17.56it/s]\n",
      "  0%|          | 0/1145 [00:00<?, ?it/s]"
     ]
    },
    {
     "name": "stdout",
     "output_type": "stream",
     "text": [
      "epoch 169 | tr 0.10453825726832583 | val 0.11168117761611938\n"
     ]
    },
    {
     "name": "stderr",
     "output_type": "stream",
     "text": [
      "100%|██████████| 1145/1145 [00:47<00:00, 23.93it/s]\n",
      "100%|██████████| 7/7 [00:00<00:00, 18.53it/s]\n",
      "  0%|          | 0/1145 [00:00<?, ?it/s]"
     ]
    },
    {
     "name": "stdout",
     "output_type": "stream",
     "text": [
      "epoch 170 | tr 0.10456715333528477 | val 0.11009879440069198\n"
     ]
    },
    {
     "name": "stderr",
     "output_type": "stream",
     "text": [
      "100%|██████████| 1145/1145 [00:47<00:00, 24.19it/s]\n",
      "100%|██████████| 7/7 [00:00<00:00, 17.97it/s]\n",
      "  0%|          | 0/1145 [00:00<?, ?it/s]"
     ]
    },
    {
     "name": "stdout",
     "output_type": "stream",
     "text": [
      "epoch 171 | tr 0.10444181463430724 | val 0.10749527305364609\n"
     ]
    },
    {
     "name": "stderr",
     "output_type": "stream",
     "text": [
      "100%|██████████| 1145/1145 [00:46<00:00, 24.56it/s]\n",
      "100%|██████████| 7/7 [00:00<00:00, 19.58it/s]\n",
      "  0%|          | 0/1145 [00:00<?, ?it/s]"
     ]
    },
    {
     "name": "stdout",
     "output_type": "stream",
     "text": [
      "epoch 172 | tr 0.104528070774327 | val 0.11118891507387162\n"
     ]
    },
    {
     "name": "stderr",
     "output_type": "stream",
     "text": [
      "100%|██████████| 1145/1145 [00:44<00:00, 25.77it/s]\n",
      "100%|██████████| 7/7 [00:00<00:00, 16.37it/s]\n",
      "  0%|          | 0/1145 [00:00<?, ?it/s]"
     ]
    },
    {
     "name": "stdout",
     "output_type": "stream",
     "text": [
      "epoch 173 | tr 0.10423979662600807 | val 0.10934774905443191\n"
     ]
    },
    {
     "name": "stderr",
     "output_type": "stream",
     "text": [
      "100%|██████████| 1145/1145 [00:46<00:00, 24.55it/s]\n",
      "100%|██████████| 7/7 [00:00<00:00, 18.86it/s]\n",
      "  0%|          | 0/1145 [00:00<?, ?it/s]"
     ]
    },
    {
     "name": "stdout",
     "output_type": "stream",
     "text": [
      "epoch 174 | tr 0.10436970977030782 | val 0.10812528878450393\n"
     ]
    },
    {
     "name": "stderr",
     "output_type": "stream",
     "text": [
      "100%|██████████| 1145/1145 [00:46<00:00, 24.60it/s]\n",
      "100%|██████████| 7/7 [00:00<00:00, 18.18it/s]\n",
      "  0%|          | 0/1145 [00:00<?, ?it/s]"
     ]
    },
    {
     "name": "stdout",
     "output_type": "stream",
     "text": [
      "epoch 175 | tr 0.10436179088075208 | val 0.1123486840724945\n"
     ]
    },
    {
     "name": "stderr",
     "output_type": "stream",
     "text": [
      "100%|██████████| 1145/1145 [00:45<00:00, 24.92it/s]\n",
      "100%|██████████| 7/7 [00:00<00:00, 18.35it/s]\n",
      "  0%|          | 0/1145 [00:00<?, ?it/s]"
     ]
    },
    {
     "name": "stdout",
     "output_type": "stream",
     "text": [
      "epoch 176 | tr 0.10410404920683772 | val 0.1089284634590149\n"
     ]
    },
    {
     "name": "stderr",
     "output_type": "stream",
     "text": [
      "100%|██████████| 1145/1145 [00:46<00:00, 24.37it/s]\n",
      "100%|██████████| 7/7 [00:00<00:00, 17.89it/s]\n",
      "  0%|          | 0/1145 [00:00<?, ?it/s]"
     ]
    },
    {
     "name": "stdout",
     "output_type": "stream",
     "text": [
      "epoch 177 | tr 0.10414918677267597 | val 0.10873465180397034\n"
     ]
    },
    {
     "name": "stderr",
     "output_type": "stream",
     "text": [
      "100%|██████████| 1145/1145 [00:47<00:00, 24.21it/s]\n",
      "100%|██████████| 7/7 [00:00<00:00, 19.38it/s]\n",
      "  0%|          | 0/1145 [00:00<?, ?it/s]"
     ]
    },
    {
     "name": "stdout",
     "output_type": "stream",
     "text": [
      "epoch 178 | tr 0.10409397068259302 | val 0.11013727039098739\n"
     ]
    },
    {
     "name": "stderr",
     "output_type": "stream",
     "text": [
      "100%|██████████| 1145/1145 [00:47<00:00, 23.88it/s]\n",
      "100%|██████████| 7/7 [00:00<00:00, 19.33it/s]\n",
      "  0%|          | 0/1145 [00:00<?, ?it/s]"
     ]
    },
    {
     "name": "stdout",
     "output_type": "stream",
     "text": [
      "epoch 179 | tr 0.10406668699449963 | val 0.10869941055774689\n"
     ]
    },
    {
     "name": "stderr",
     "output_type": "stream",
     "text": [
      "100%|██████████| 1145/1145 [00:47<00:00, 24.13it/s]\n",
      "100%|██████████| 7/7 [00:00<00:00, 20.78it/s]\n",
      "  0%|          | 0/1145 [00:00<?, ?it/s]"
     ]
    },
    {
     "name": "stdout",
     "output_type": "stream",
     "text": [
      "epoch 180 | tr 0.1040621937781678 | val 0.10905679643154144\n"
     ]
    },
    {
     "name": "stderr",
     "output_type": "stream",
     "text": [
      "100%|██████████| 1145/1145 [00:47<00:00, 24.07it/s]\n",
      "100%|██████████| 7/7 [00:00<00:00, 19.20it/s]\n",
      "  0%|          | 0/1145 [00:00<?, ?it/s]"
     ]
    },
    {
     "name": "stdout",
     "output_type": "stream",
     "text": [
      "epoch 181 | tr 0.10400677261995611 | val 0.11129239320755005\n"
     ]
    },
    {
     "name": "stderr",
     "output_type": "stream",
     "text": [
      "100%|██████████| 1145/1145 [00:45<00:00, 24.97it/s]\n",
      "100%|██████████| 7/7 [00:00<00:00, 19.83it/s]\n",
      "  0%|          | 0/1145 [00:00<?, ?it/s]"
     ]
    },
    {
     "name": "stdout",
     "output_type": "stream",
     "text": [
      "epoch 182 | tr 0.10389351000917306 | val 0.11077701956033707\n"
     ]
    },
    {
     "name": "stderr",
     "output_type": "stream",
     "text": [
      "100%|██████████| 1145/1145 [00:45<00:00, 25.17it/s]\n",
      "100%|██████████| 7/7 [00:00<00:00, 19.20it/s]\n",
      "  0%|          | 0/1145 [00:00<?, ?it/s]"
     ]
    },
    {
     "name": "stdout",
     "output_type": "stream",
     "text": [
      "epoch 183 | tr 0.10381169337336886 | val 0.1092794132232666\n"
     ]
    },
    {
     "name": "stderr",
     "output_type": "stream",
     "text": [
      "100%|██████████| 1145/1145 [00:47<00:00, 24.05it/s]\n",
      "100%|██████████| 7/7 [00:00<00:00, 18.86it/s]\n",
      "  0%|          | 0/1145 [00:00<?, ?it/s]"
     ]
    },
    {
     "name": "stdout",
     "output_type": "stream",
     "text": [
      "epoch 184 | tr 0.10382020846721159 | val 0.10908782929182052\n"
     ]
    },
    {
     "name": "stderr",
     "output_type": "stream",
     "text": [
      "100%|██████████| 1145/1145 [00:47<00:00, 23.96it/s]\n",
      "100%|██████████| 7/7 [00:00<00:00, 19.67it/s]\n",
      "  0%|          | 0/1145 [00:00<?, ?it/s]"
     ]
    },
    {
     "name": "stdout",
     "output_type": "stream",
     "text": [
      "epoch 185 | tr 0.10360460428390351 | val 0.10913889348506928\n"
     ]
    },
    {
     "name": "stderr",
     "output_type": "stream",
     "text": [
      "100%|██████████| 1145/1145 [00:48<00:00, 23.83it/s]\n",
      "100%|██████████| 7/7 [00:00<00:00, 17.81it/s]\n",
      "  0%|          | 0/1145 [00:00<?, ?it/s]"
     ]
    },
    {
     "name": "stdout",
     "output_type": "stream",
     "text": [
      "epoch 186 | tr 0.10369661233397803 | val 0.10882943868637085\n"
     ]
    },
    {
     "name": "stderr",
     "output_type": "stream",
     "text": [
      "100%|██████████| 1145/1145 [00:47<00:00, 23.97it/s]\n",
      "100%|██████████| 7/7 [00:00<00:00, 19.52it/s]\n",
      "  0%|          | 0/1145 [00:00<?, ?it/s]"
     ]
    },
    {
     "name": "stdout",
     "output_type": "stream",
     "text": [
      "epoch 187 | tr 0.10361918169692863 | val 0.10956246346235275\n"
     ]
    },
    {
     "name": "stderr",
     "output_type": "stream",
     "text": [
      "100%|██████████| 1145/1145 [00:44<00:00, 25.89it/s]\n",
      "100%|██████████| 7/7 [00:00<00:00, 20.12it/s]\n",
      "  0%|          | 0/1145 [00:00<?, ?it/s]"
     ]
    },
    {
     "name": "stdout",
     "output_type": "stream",
     "text": [
      "epoch 188 | tr 0.10359127976360329 | val 0.1099233466386795\n"
     ]
    },
    {
     "name": "stderr",
     "output_type": "stream",
     "text": [
      "100%|██████████| 1145/1145 [00:46<00:00, 24.80it/s]\n",
      "100%|██████████| 7/7 [00:00<00:00, 20.06it/s]\n",
      "  0%|          | 0/1145 [00:00<?, ?it/s]"
     ]
    },
    {
     "name": "stdout",
     "output_type": "stream",
     "text": [
      "epoch 189 | tr 0.10354547805752612 | val 0.10822622865438461\n"
     ]
    },
    {
     "name": "stderr",
     "output_type": "stream",
     "text": [
      "100%|██████████| 1145/1145 [00:46<00:00, 24.81it/s]\n",
      "100%|██████████| 7/7 [00:00<00:00, 18.74it/s]\n",
      "  0%|          | 0/1145 [00:00<?, ?it/s]"
     ]
    },
    {
     "name": "stdout",
     "output_type": "stream",
     "text": [
      "epoch 190 | tr 0.10348576828898415 | val 0.10813718497753143\n"
     ]
    },
    {
     "name": "stderr",
     "output_type": "stream",
     "text": [
      "100%|██████████| 1145/1145 [00:44<00:00, 25.64it/s]\n",
      "100%|██████████| 7/7 [00:00<00:00, 18.45it/s]\n",
      "  0%|          | 0/1145 [00:00<?, ?it/s]"
     ]
    },
    {
     "name": "stdout",
     "output_type": "stream",
     "text": [
      "epoch 191 | tr 0.1034284337301447 | val 0.10787945777177811\n"
     ]
    },
    {
     "name": "stderr",
     "output_type": "stream",
     "text": [
      "100%|██████████| 1145/1145 [00:48<00:00, 23.79it/s]\n",
      "100%|██████████| 7/7 [00:00<00:00, 18.06it/s]\n",
      "  0%|          | 0/1145 [00:00<?, ?it/s]"
     ]
    },
    {
     "name": "stdout",
     "output_type": "stream",
     "text": [
      "epoch 192 | tr 0.10334587415083815 | val 0.10764570623636245\n"
     ]
    },
    {
     "name": "stderr",
     "output_type": "stream",
     "text": [
      "100%|██████████| 1145/1145 [00:47<00:00, 24.13it/s]\n",
      "100%|██████████| 7/7 [00:00<00:00, 17.74it/s]\n",
      "  0%|          | 0/1145 [00:00<?, ?it/s]"
     ]
    },
    {
     "name": "stdout",
     "output_type": "stream",
     "text": [
      "epoch 193 | tr 0.10329562708991752 | val 0.10795525908470154\n"
     ]
    },
    {
     "name": "stderr",
     "output_type": "stream",
     "text": [
      "100%|██████████| 1145/1145 [00:47<00:00, 24.12it/s]\n",
      "100%|██████████| 7/7 [00:00<00:00, 18.55it/s]\n",
      "  0%|          | 0/1145 [00:00<?, ?it/s]"
     ]
    },
    {
     "name": "stdout",
     "output_type": "stream",
     "text": [
      "epoch 194 | tr 0.1032614195363918 | val 0.1094745609164238\n"
     ]
    },
    {
     "name": "stderr",
     "output_type": "stream",
     "text": [
      "100%|██████████| 1145/1145 [00:44<00:00, 25.46it/s]\n",
      "100%|██████████| 7/7 [00:00<00:00, 18.42it/s]\n",
      "  0%|          | 0/1145 [00:00<?, ?it/s]"
     ]
    },
    {
     "name": "stdout",
     "output_type": "stream",
     "text": [
      "epoch 195 | tr 0.10311573653876245 | val 0.10777012079954147\n"
     ]
    },
    {
     "name": "stderr",
     "output_type": "stream",
     "text": [
      "100%|██████████| 1145/1145 [00:46<00:00, 24.54it/s]\n",
      "100%|██████████| 7/7 [00:00<00:00, 19.66it/s]\n",
      "  0%|          | 0/1145 [00:00<?, ?it/s]"
     ]
    },
    {
     "name": "stdout",
     "output_type": "stream",
     "text": [
      "epoch 196 | tr 0.10321768383990537 | val 0.10813445687294006\n"
     ]
    },
    {
     "name": "stderr",
     "output_type": "stream",
     "text": [
      "100%|██████████| 1145/1145 [00:47<00:00, 24.26it/s]\n",
      "100%|██████████| 7/7 [00:00<00:00, 19.99it/s]\n",
      "  0%|          | 0/1145 [00:00<?, ?it/s]"
     ]
    },
    {
     "name": "stdout",
     "output_type": "stream",
     "text": [
      "epoch 197 | tr 0.10313698563001665 | val 0.10886228770017624\n"
     ]
    },
    {
     "name": "stderr",
     "output_type": "stream",
     "text": [
      "100%|██████████| 1145/1145 [00:46<00:00, 24.37it/s]\n",
      "100%|██████████| 7/7 [00:00<00:00, 18.47it/s]\n",
      "  0%|          | 0/1145 [00:00<?, ?it/s]"
     ]
    },
    {
     "name": "stdout",
     "output_type": "stream",
     "text": [
      "epoch 198 | tr 0.10322310300454916 | val 0.10957826346158982\n"
     ]
    },
    {
     "name": "stderr",
     "output_type": "stream",
     "text": [
      "100%|██████████| 1145/1145 [00:47<00:00, 24.23it/s]\n",
      "100%|██████████| 7/7 [00:00<00:00, 18.25it/s]\n"
     ]
    },
    {
     "name": "stdout",
     "output_type": "stream",
     "text": [
      "epoch 199 | tr 0.10301688063422937 | val 0.10769847512245179\n"
     ]
    },
    {
     "name": "stderr",
     "output_type": "stream",
     "text": [
      "100%|██████████| 1145/1145 [00:46<00:00, 24.53it/s]\n",
      "100%|██████████| 7/7 [00:00<00:00, 19.84it/s]\n",
      "  0%|          | 0/1145 [00:00<?, ?it/s]"
     ]
    },
    {
     "name": "stdout",
     "output_type": "stream",
     "text": [
      "epoch 200 | tr 0.103008440043345 | val 0.11009456396102905\n"
     ]
    },
    {
     "name": "stderr",
     "output_type": "stream",
     "text": [
      "100%|██████████| 1145/1145 [00:46<00:00, 24.71it/s]\n",
      "100%|██████████| 7/7 [00:00<00:00, 18.37it/s]\n",
      "  0%|          | 0/1145 [00:00<?, ?it/s]"
     ]
    },
    {
     "name": "stdout",
     "output_type": "stream",
     "text": [
      "epoch 201 | tr 0.10292923355156237 | val 0.10771948456764222\n"
     ]
    },
    {
     "name": "stderr",
     "output_type": "stream",
     "text": [
      "100%|██████████| 1145/1145 [00:45<00:00, 25.10it/s]\n",
      "100%|██████████| 7/7 [00:00<00:00, 17.65it/s]\n",
      "  0%|          | 0/1145 [00:00<?, ?it/s]"
     ]
    },
    {
     "name": "stdout",
     "output_type": "stream",
     "text": [
      "epoch 202 | tr 0.102889012195294 | val 0.1087689957022667\n"
     ]
    },
    {
     "name": "stderr",
     "output_type": "stream",
     "text": [
      "100%|██████████| 1145/1145 [00:46<00:00, 24.60it/s]\n",
      "100%|██████████| 7/7 [00:00<00:00, 19.49it/s]\n",
      "  0%|          | 0/1145 [00:00<?, ?it/s]"
     ]
    },
    {
     "name": "stdout",
     "output_type": "stream",
     "text": [
      "epoch 203 | tr 0.10287162549193687 | val 0.10720204442739487\n"
     ]
    },
    {
     "name": "stderr",
     "output_type": "stream",
     "text": [
      "100%|██████████| 1145/1145 [00:44<00:00, 25.86it/s]\n",
      "100%|██████████| 7/7 [00:00<00:00, 19.44it/s]\n",
      "  0%|          | 0/1145 [00:00<?, ?it/s]"
     ]
    },
    {
     "name": "stdout",
     "output_type": "stream",
     "text": [
      "epoch 204 | tr 0.10274172100397917 | val 0.10830989360809326\n"
     ]
    },
    {
     "name": "stderr",
     "output_type": "stream",
     "text": [
      "100%|██████████| 1145/1145 [00:47<00:00, 24.26it/s]\n",
      "100%|██████████| 7/7 [00:00<00:00, 19.63it/s]\n",
      "  0%|          | 0/1145 [00:00<?, ?it/s]"
     ]
    },
    {
     "name": "stdout",
     "output_type": "stream",
     "text": [
      "epoch 205 | tr 0.10269775677949329 | val 0.1092041003704071\n"
     ]
    },
    {
     "name": "stderr",
     "output_type": "stream",
     "text": [
      "100%|██████████| 1145/1145 [00:48<00:00, 23.78it/s]\n",
      "100%|██████████| 7/7 [00:00<00:00, 19.04it/s]\n",
      "  0%|          | 0/1145 [00:00<?, ?it/s]"
     ]
    },
    {
     "name": "stdout",
     "output_type": "stream",
     "text": [
      "epoch 206 | tr 0.10264869493447852 | val 0.1099745950102806\n"
     ]
    },
    {
     "name": "stderr",
     "output_type": "stream",
     "text": [
      "100%|██████████| 1145/1145 [00:47<00:00, 23.87it/s]\n",
      "100%|██████████| 7/7 [00:00<00:00, 20.56it/s]\n",
      "  0%|          | 0/1145 [00:00<?, ?it/s]"
     ]
    },
    {
     "name": "stdout",
     "output_type": "stream",
     "text": [
      "epoch 207 | tr 0.10274986336986582 | val 0.1076337718963623\n"
     ]
    },
    {
     "name": "stderr",
     "output_type": "stream",
     "text": [
      "100%|██████████| 1145/1145 [00:47<00:00, 24.18it/s]\n",
      "100%|██████████| 7/7 [00:00<00:00, 19.13it/s]\n",
      "  0%|          | 0/1145 [00:00<?, ?it/s]"
     ]
    },
    {
     "name": "stdout",
     "output_type": "stream",
     "text": [
      "epoch 208 | tr 0.10261524009665537 | val 0.10875924944877624\n"
     ]
    },
    {
     "name": "stderr",
     "output_type": "stream",
     "text": [
      "100%|██████████| 1145/1145 [00:47<00:00, 23.93it/s]\n",
      "100%|██████████| 7/7 [00:00<00:00, 19.57it/s]\n",
      "  0%|          | 0/1145 [00:00<?, ?it/s]"
     ]
    },
    {
     "name": "stdout",
     "output_type": "stream",
     "text": [
      "epoch 209 | tr 0.10262901905274216 | val 0.10943468749523162\n"
     ]
    },
    {
     "name": "stderr",
     "output_type": "stream",
     "text": [
      "100%|██████████| 1145/1145 [00:47<00:00, 23.97it/s]\n",
      "100%|██████████| 7/7 [00:00<00:00, 20.44it/s]\n",
      "  0%|          | 0/1145 [00:00<?, ?it/s]"
     ]
    },
    {
     "name": "stdout",
     "output_type": "stream",
     "text": [
      "epoch 210 | tr 0.10263931583486031 | val 0.10726438999176026\n"
     ]
    },
    {
     "name": "stderr",
     "output_type": "stream",
     "text": [
      "100%|██████████| 1145/1145 [00:48<00:00, 23.71it/s]\n",
      "100%|██████████| 7/7 [00:00<00:00, 19.66it/s]\n",
      "  0%|          | 0/1145 [00:00<?, ?it/s]"
     ]
    },
    {
     "name": "stdout",
     "output_type": "stream",
     "text": [
      "epoch 211 | tr 0.10251402736702742 | val 0.10652091830968857\n"
     ]
    },
    {
     "name": "stderr",
     "output_type": "stream",
     "text": [
      "100%|██████████| 1145/1145 [00:45<00:00, 25.14it/s]\n",
      "100%|██████████| 7/7 [00:00<00:00, 19.53it/s]\n",
      "  0%|          | 0/1145 [00:00<?, ?it/s]"
     ]
    },
    {
     "name": "stdout",
     "output_type": "stream",
     "text": [
      "epoch 212 | tr 0.10251399832827258 | val 0.10666374564170837\n"
     ]
    },
    {
     "name": "stderr",
     "output_type": "stream",
     "text": [
      "100%|██████████| 1145/1145 [00:48<00:00, 23.63it/s]\n",
      "100%|██████████| 7/7 [00:00<00:00, 18.53it/s]\n",
      "  0%|          | 0/1145 [00:00<?, ?it/s]"
     ]
    },
    {
     "name": "stdout",
     "output_type": "stream",
     "text": [
      "epoch 213 | tr 0.10244939696819705 | val 0.10945657700300217\n"
     ]
    },
    {
     "name": "stderr",
     "output_type": "stream",
     "text": [
      "100%|██████████| 1145/1145 [00:44<00:00, 25.67it/s]\n",
      "100%|██████████| 7/7 [00:00<00:00, 19.64it/s]\n",
      "  0%|          | 0/1145 [00:00<?, ?it/s]"
     ]
    },
    {
     "name": "stdout",
     "output_type": "stream",
     "text": [
      "epoch 214 | tr 0.10241088712968821 | val 0.10612367987632751\n"
     ]
    },
    {
     "name": "stderr",
     "output_type": "stream",
     "text": [
      "100%|██████████| 1145/1145 [00:47<00:00, 24.20it/s]\n",
      "100%|██████████| 7/7 [00:00<00:00, 20.54it/s]\n",
      "  0%|          | 0/1145 [00:00<?, ?it/s]"
     ]
    },
    {
     "name": "stdout",
     "output_type": "stream",
     "text": [
      "epoch 215 | tr 0.10232108082767721 | val 0.10752360671758651\n"
     ]
    },
    {
     "name": "stderr",
     "output_type": "stream",
     "text": [
      "100%|██████████| 1145/1145 [00:48<00:00, 23.65it/s]\n",
      "100%|██████████| 7/7 [00:00<00:00, 19.10it/s]\n",
      "  0%|          | 0/1145 [00:00<?, ?it/s]"
     ]
    },
    {
     "name": "stdout",
     "output_type": "stream",
     "text": [
      "epoch 216 | tr 0.1022900725123728 | val 0.10768994599580765\n"
     ]
    },
    {
     "name": "stderr",
     "output_type": "stream",
     "text": [
      "100%|██████████| 1145/1145 [00:47<00:00, 23.99it/s]\n",
      "100%|██████████| 7/7 [00:00<00:00, 17.94it/s]\n",
      "  0%|          | 0/1145 [00:00<?, ?it/s]"
     ]
    },
    {
     "name": "stdout",
     "output_type": "stream",
     "text": [
      "epoch 217 | tr 0.10217931772674527 | val 0.10779304027557374\n"
     ]
    },
    {
     "name": "stderr",
     "output_type": "stream",
     "text": [
      "100%|██████████| 1145/1145 [00:45<00:00, 25.00it/s]\n",
      "100%|██████████| 7/7 [00:00<00:00, 19.13it/s]\n",
      "  0%|          | 0/1145 [00:00<?, ?it/s]"
     ]
    },
    {
     "name": "stdout",
     "output_type": "stream",
     "text": [
      "epoch 218 | tr 0.10222281593744982 | val 0.1065788859128952\n"
     ]
    },
    {
     "name": "stderr",
     "output_type": "stream",
     "text": [
      "100%|██████████| 1145/1145 [00:47<00:00, 23.91it/s]\n",
      "100%|██████████| 7/7 [00:00<00:00, 20.01it/s]\n",
      "  0%|          | 0/1145 [00:00<?, ?it/s]"
     ]
    },
    {
     "name": "stdout",
     "output_type": "stream",
     "text": [
      "epoch 219 | tr 0.1021863346949419 | val 0.10750459760427475\n"
     ]
    },
    {
     "name": "stderr",
     "output_type": "stream",
     "text": [
      "100%|██████████| 1145/1145 [00:48<00:00, 23.77it/s]\n",
      "100%|██████████| 7/7 [00:00<00:00, 18.57it/s]\n",
      "  0%|          | 0/1145 [00:00<?, ?it/s]"
     ]
    },
    {
     "name": "stdout",
     "output_type": "stream",
     "text": [
      "epoch 220 | tr 0.10200760224389145 | val 0.10740113079547882\n"
     ]
    },
    {
     "name": "stderr",
     "output_type": "stream",
     "text": [
      "100%|██████████| 1145/1145 [00:46<00:00, 24.46it/s]\n",
      "100%|██████████| 7/7 [00:00<00:00, 18.15it/s]\n",
      "  0%|          | 0/1145 [00:00<?, ?it/s]"
     ]
    },
    {
     "name": "stdout",
     "output_type": "stream",
     "text": [
      "epoch 221 | tr 0.10218412062524936 | val 0.10826903402805328\n"
     ]
    },
    {
     "name": "stderr",
     "output_type": "stream",
     "text": [
      "100%|██████████| 1145/1145 [00:46<00:00, 24.66it/s]\n",
      "100%|██████████| 7/7 [00:00<00:00, 18.56it/s]\n",
      "  0%|          | 0/1145 [00:00<?, ?it/s]"
     ]
    },
    {
     "name": "stdout",
     "output_type": "stream",
     "text": [
      "epoch 222 | tr 0.10208522101674547 | val 0.10718164443969727\n"
     ]
    },
    {
     "name": "stderr",
     "output_type": "stream",
     "text": [
      "100%|██████████| 1145/1145 [00:47<00:00, 23.89it/s]\n",
      "100%|██████████| 7/7 [00:00<00:00, 16.02it/s]\n",
      "  0%|          | 0/1145 [00:00<?, ?it/s]"
     ]
    },
    {
     "name": "stdout",
     "output_type": "stream",
     "text": [
      "epoch 223 | tr 0.10206715511862385 | val 0.10865690499544144\n"
     ]
    },
    {
     "name": "stderr",
     "output_type": "stream",
     "text": [
      "100%|██████████| 1145/1145 [00:46<00:00, 24.63it/s]\n",
      "100%|██████████| 7/7 [00:00<00:00, 18.71it/s]\n",
      "  0%|          | 0/1145 [00:00<?, ?it/s]"
     ]
    },
    {
     "name": "stdout",
     "output_type": "stream",
     "text": [
      "epoch 224 | tr 0.10197518897282762 | val 0.1061942958831787\n"
     ]
    },
    {
     "name": "stderr",
     "output_type": "stream",
     "text": [
      "100%|██████████| 1145/1145 [00:42<00:00, 26.71it/s]\n",
      "100%|██████████| 7/7 [00:00<00:00, 18.58it/s]\n",
      "  0%|          | 0/1145 [00:00<?, ?it/s]"
     ]
    },
    {
     "name": "stdout",
     "output_type": "stream",
     "text": [
      "epoch 225 | tr 0.10196975140445648 | val 0.10770383596420288\n"
     ]
    },
    {
     "name": "stderr",
     "output_type": "stream",
     "text": [
      "100%|██████████| 1145/1145 [00:46<00:00, 24.70it/s]\n",
      "100%|██████████| 7/7 [00:00<00:00, 19.18it/s]\n",
      "  0%|          | 0/1145 [00:00<?, ?it/s]"
     ]
    },
    {
     "name": "stdout",
     "output_type": "stream",
     "text": [
      "epoch 226 | tr 0.1019830145757445 | val 0.10766292929649353\n"
     ]
    },
    {
     "name": "stderr",
     "output_type": "stream",
     "text": [
      "100%|██████████| 1145/1145 [00:46<00:00, 24.53it/s]\n",
      "100%|██████████| 7/7 [00:00<00:00, 19.79it/s]\n",
      "  0%|          | 0/1145 [00:00<?, ?it/s]"
     ]
    },
    {
     "name": "stdout",
     "output_type": "stream",
     "text": [
      "epoch 227 | tr 0.10185106340333018 | val 0.10689872711896896\n"
     ]
    },
    {
     "name": "stderr",
     "output_type": "stream",
     "text": [
      "100%|██████████| 1145/1145 [00:46<00:00, 24.54it/s]\n",
      "100%|██████████| 7/7 [00:00<00:00, 18.57it/s]\n",
      "  0%|          | 0/1145 [00:00<?, ?it/s]"
     ]
    },
    {
     "name": "stdout",
     "output_type": "stream",
     "text": [
      "epoch 228 | tr 0.10182081596377181 | val 0.11004074335098267\n"
     ]
    },
    {
     "name": "stderr",
     "output_type": "stream",
     "text": [
      "100%|██████████| 1145/1145 [00:46<00:00, 24.83it/s]\n",
      "100%|██████████| 7/7 [00:00<00:00, 20.12it/s]\n",
      "  0%|          | 0/1145 [00:00<?, ?it/s]"
     ]
    },
    {
     "name": "stdout",
     "output_type": "stream",
     "text": [
      "epoch 229 | tr 0.101753609152137 | val 0.1069665002822876\n"
     ]
    },
    {
     "name": "stderr",
     "output_type": "stream",
     "text": [
      "100%|██████████| 1145/1145 [00:45<00:00, 25.33it/s]\n",
      "100%|██████████| 7/7 [00:00<00:00, 20.15it/s]\n",
      "  0%|          | 0/1145 [00:00<?, ?it/s]"
     ]
    },
    {
     "name": "stdout",
     "output_type": "stream",
     "text": [
      "epoch 230 | tr 0.101755629190242 | val 0.10756410419940948\n"
     ]
    },
    {
     "name": "stderr",
     "output_type": "stream",
     "text": [
      "100%|██████████| 1145/1145 [00:46<00:00, 24.75it/s]\n",
      "100%|██████████| 7/7 [00:00<00:00, 18.87it/s]\n",
      "  0%|          | 0/1145 [00:00<?, ?it/s]"
     ]
    },
    {
     "name": "stdout",
     "output_type": "stream",
     "text": [
      "epoch 231 | tr 0.10174606344290128 | val 0.10601172536611557\n"
     ]
    },
    {
     "name": "stderr",
     "output_type": "stream",
     "text": [
      "100%|██████████| 1145/1145 [00:46<00:00, 24.83it/s]\n",
      "100%|██████████| 7/7 [00:00<00:00, 19.32it/s]\n",
      "  0%|          | 0/1145 [00:00<?, ?it/s]"
     ]
    },
    {
     "name": "stdout",
     "output_type": "stream",
     "text": [
      "epoch 232 | tr 0.10172779087873225 | val 0.10615519404411317\n"
     ]
    },
    {
     "name": "stderr",
     "output_type": "stream",
     "text": [
      "100%|██████████| 1145/1145 [00:45<00:00, 25.15it/s]\n",
      "100%|██████████| 7/7 [00:00<00:00, 20.80it/s]\n",
      "  0%|          | 0/1145 [00:00<?, ?it/s]"
     ]
    },
    {
     "name": "stdout",
     "output_type": "stream",
     "text": [
      "epoch 233 | tr 0.10166344629540132 | val 0.10632870614528656\n"
     ]
    },
    {
     "name": "stderr",
     "output_type": "stream",
     "text": [
      "100%|██████████| 1145/1145 [00:47<00:00, 23.93it/s]\n",
      "100%|██████████| 7/7 [00:00<00:00, 17.72it/s]\n",
      "  0%|          | 0/1145 [00:00<?, ?it/s]"
     ]
    },
    {
     "name": "stdout",
     "output_type": "stream",
     "text": [
      "epoch 234 | tr 0.10164960805807743 | val 0.10628527909517288\n"
     ]
    },
    {
     "name": "stderr",
     "output_type": "stream",
     "text": [
      "100%|██████████| 1145/1145 [00:45<00:00, 24.97it/s]\n",
      "100%|██████████| 7/7 [00:00<00:00, 20.18it/s]\n",
      "  0%|          | 0/1145 [00:00<?, ?it/s]"
     ]
    },
    {
     "name": "stdout",
     "output_type": "stream",
     "text": [
      "epoch 235 | tr 0.10155347879551943 | val 0.10728540301322936\n"
     ]
    },
    {
     "name": "stderr",
     "output_type": "stream",
     "text": [
      "100%|██████████| 1145/1145 [00:44<00:00, 25.57it/s]\n",
      "100%|██████████| 7/7 [00:00<00:00, 19.78it/s]\n",
      "  0%|          | 0/1145 [00:00<?, ?it/s]"
     ]
    },
    {
     "name": "stdout",
     "output_type": "stream",
     "text": [
      "epoch 236 | tr 0.10148502260389596 | val 0.10681054830551147\n"
     ]
    },
    {
     "name": "stderr",
     "output_type": "stream",
     "text": [
      "100%|██████████| 1145/1145 [00:47<00:00, 24.14it/s]\n",
      "100%|██████████| 7/7 [00:00<00:00, 19.26it/s]\n",
      "  0%|          | 0/1145 [00:00<?, ?it/s]"
     ]
    },
    {
     "name": "stdout",
     "output_type": "stream",
     "text": [
      "epoch 237 | tr 0.10152588295393097 | val 0.10620763599872589\n"
     ]
    },
    {
     "name": "stderr",
     "output_type": "stream",
     "text": [
      "100%|██████████| 1145/1145 [00:46<00:00, 24.79it/s]\n",
      "100%|██████████| 7/7 [00:00<00:00, 17.99it/s]\n",
      "  0%|          | 0/1145 [00:00<?, ?it/s]"
     ]
    },
    {
     "name": "stdout",
     "output_type": "stream",
     "text": [
      "epoch 238 | tr 0.10156158872178563 | val 0.10635853677988052\n"
     ]
    },
    {
     "name": "stderr",
     "output_type": "stream",
     "text": [
      "100%|██████████| 1145/1145 [00:47<00:00, 24.16it/s]\n",
      "100%|██████████| 7/7 [00:00<00:00, 18.41it/s]\n",
      "  0%|          | 0/1145 [00:00<?, ?it/s]"
     ]
    },
    {
     "name": "stdout",
     "output_type": "stream",
     "text": [
      "epoch 239 | tr 0.10139905439800101 | val 0.10790838778018952\n"
     ]
    },
    {
     "name": "stderr",
     "output_type": "stream",
     "text": [
      "100%|██████████| 1145/1145 [00:47<00:00, 24.00it/s]\n",
      "100%|██████████| 7/7 [00:00<00:00, 18.52it/s]\n",
      "  0%|          | 0/1145 [00:00<?, ?it/s]"
     ]
    },
    {
     "name": "stdout",
     "output_type": "stream",
     "text": [
      "epoch 240 | tr 0.10134029771147157 | val 0.10725040525197983\n"
     ]
    },
    {
     "name": "stderr",
     "output_type": "stream",
     "text": [
      "100%|██████████| 1145/1145 [00:47<00:00, 24.07it/s]\n",
      "100%|██████████| 7/7 [00:00<00:00, 19.25it/s]\n",
      "  0%|          | 0/1145 [00:00<?, ?it/s]"
     ]
    },
    {
     "name": "stdout",
     "output_type": "stream",
     "text": [
      "epoch 241 | tr 0.10135121370334949 | val 0.10686195135116577\n"
     ]
    },
    {
     "name": "stderr",
     "output_type": "stream",
     "text": [
      "100%|██████████| 1145/1145 [00:47<00:00, 24.18it/s]\n",
      "100%|██████████| 7/7 [00:00<00:00, 19.68it/s]\n",
      "  0%|          | 0/1145 [00:00<?, ?it/s]"
     ]
    },
    {
     "name": "stdout",
     "output_type": "stream",
     "text": [
      "epoch 242 | tr 0.10137542104447698 | val 0.10703961879014968\n"
     ]
    },
    {
     "name": "stderr",
     "output_type": "stream",
     "text": [
      "100%|██████████| 1145/1145 [00:47<00:00, 24.06it/s]\n",
      "100%|██████████| 7/7 [00:00<00:00, 19.97it/s]\n",
      "  0%|          | 0/1145 [00:00<?, ?it/s]"
     ]
    },
    {
     "name": "stdout",
     "output_type": "stream",
     "text": [
      "epoch 243 | tr 0.10133951325381417 | val 0.10645530074834823\n"
     ]
    },
    {
     "name": "stderr",
     "output_type": "stream",
     "text": [
      "100%|██████████| 1145/1145 [00:46<00:00, 24.50it/s]\n",
      "100%|██████████| 7/7 [00:00<00:00, 19.42it/s]\n",
      "  0%|          | 0/1145 [00:00<?, ?it/s]"
     ]
    },
    {
     "name": "stdout",
     "output_type": "stream",
     "text": [
      "epoch 244 | tr 0.10133428458605442 | val 0.10698676407337189\n"
     ]
    },
    {
     "name": "stderr",
     "output_type": "stream",
     "text": [
      "100%|██████████| 1145/1145 [00:46<00:00, 24.66it/s]\n",
      "100%|██████████| 7/7 [00:00<00:00, 17.88it/s]\n",
      "  0%|          | 0/1145 [00:00<?, ?it/s]"
     ]
    },
    {
     "name": "stdout",
     "output_type": "stream",
     "text": [
      "epoch 245 | tr 0.10129777992354239 | val 0.10666867405176163\n"
     ]
    },
    {
     "name": "stderr",
     "output_type": "stream",
     "text": [
      "100%|██████████| 1145/1145 [00:42<00:00, 26.67it/s]\n",
      "100%|██████████| 7/7 [00:00<00:00, 18.61it/s]\n",
      "  0%|          | 0/1145 [00:00<?, ?it/s]"
     ]
    },
    {
     "name": "stdout",
     "output_type": "stream",
     "text": [
      "epoch 246 | tr 0.10125328913196788 | val 0.10723355233669281\n"
     ]
    },
    {
     "name": "stderr",
     "output_type": "stream",
     "text": [
      "100%|██████████| 1145/1145 [00:45<00:00, 25.10it/s]\n",
      "100%|██████████| 7/7 [00:00<00:00, 19.81it/s]\n",
      "  0%|          | 0/1145 [00:00<?, ?it/s]"
     ]
    },
    {
     "name": "stdout",
     "output_type": "stream",
     "text": [
      "epoch 247 | tr 0.10122505112843797 | val 0.10690434217453003\n"
     ]
    },
    {
     "name": "stderr",
     "output_type": "stream",
     "text": [
      "100%|██████████| 1145/1145 [00:46<00:00, 24.42it/s]\n",
      "100%|██████████| 7/7 [00:00<00:00, 19.70it/s]\n",
      "  0%|          | 0/1145 [00:00<?, ?it/s]"
     ]
    },
    {
     "name": "stdout",
     "output_type": "stream",
     "text": [
      "epoch 248 | tr 0.10115971147013335 | val 0.10635445952415466\n"
     ]
    },
    {
     "name": "stderr",
     "output_type": "stream",
     "text": [
      "100%|██████████| 1145/1145 [00:47<00:00, 24.13it/s]\n",
      "100%|██████████| 7/7 [00:00<00:00, 20.07it/s]\n",
      "  0%|          | 0/1145 [00:00<?, ?it/s]"
     ]
    },
    {
     "name": "stdout",
     "output_type": "stream",
     "text": [
      "epoch 249 | tr 0.10116069036536682 | val 0.10583559453487396\n"
     ]
    },
    {
     "name": "stderr",
     "output_type": "stream",
     "text": [
      "100%|██████████| 1145/1145 [00:48<00:00, 23.84it/s]\n",
      "100%|██████████| 7/7 [00:00<00:00, 19.70it/s]\n",
      "  0%|          | 0/1145 [00:00<?, ?it/s]"
     ]
    },
    {
     "name": "stdout",
     "output_type": "stream",
     "text": [
      "epoch 250 | tr 0.10110914116669899 | val 0.10576844215393066\n"
     ]
    },
    {
     "name": "stderr",
     "output_type": "stream",
     "text": [
      "100%|██████████| 1145/1145 [00:47<00:00, 23.92it/s]\n",
      "100%|██████████| 7/7 [00:00<00:00, 17.80it/s]\n",
      "  0%|          | 0/1145 [00:00<?, ?it/s]"
     ]
    },
    {
     "name": "stdout",
     "output_type": "stream",
     "text": [
      "epoch 251 | tr 0.10108830265715055 | val 0.10664754539728165\n"
     ]
    },
    {
     "name": "stderr",
     "output_type": "stream",
     "text": [
      "100%|██████████| 1145/1145 [00:44<00:00, 25.76it/s]\n",
      "100%|██████████| 7/7 [00:00<00:00, 19.97it/s]\n",
      "  0%|          | 0/1145 [00:00<?, ?it/s]"
     ]
    },
    {
     "name": "stdout",
     "output_type": "stream",
     "text": [
      "epoch 252 | tr 0.10107844428932475 | val 0.10608487695455551\n"
     ]
    },
    {
     "name": "stderr",
     "output_type": "stream",
     "text": [
      "100%|██████████| 1145/1145 [00:46<00:00, 24.65it/s]\n",
      "100%|██████████| 7/7 [00:00<00:00, 18.00it/s]\n",
      "  0%|          | 0/1145 [00:00<?, ?it/s]"
     ]
    },
    {
     "name": "stdout",
     "output_type": "stream",
     "text": [
      "epoch 253 | tr 0.10098336609154167 | val 0.1083002308011055\n"
     ]
    },
    {
     "name": "stderr",
     "output_type": "stream",
     "text": [
      " 52%|█████▏    | 592/1145 [00:25<00:22, 24.87it/s]"
     ]
    }
   ],
   "source": [
    "if args['mode'] == 'train':\n",
    "    writer = SummaryWriter(summary_path)\n",
    "    with open(os.path.join(args['results_folder'],'checkpoints', args['name'] +'_params.json'),'w') as fp:\n",
    "        saveparams = copy.deepcopy(args)\n",
    "        json.dump(saveparams, fp)\n",
    "        \n",
    "    if args['resume']:\n",
    "            print('loading checkpoint from file %s'%(os.path.join(checkpoint_path,args['checkpoint_file'])))\n",
    "            checkpoint_dict = torch.load(os.path.join(checkpoint_path,args['checkpoint_file']+'.pth.tar'),map_location=device)\n",
    "            start_epoch = checkpoint_dict['epoch'] + 1\n",
    "            model.load_state_dict(checkpoint_dict['autoencoder_state_dict'])\n",
    "            optim.load_state_dict(checkpoint_dict['optimizer_state_dict'])\n",
    "            scheduler.load_state_dict(checkpoint_dict['scheduler_state_dict'])\n",
    "            print('Resuming from epoch %s'%(str(start_epoch)))     \n",
    "    else:\n",
    "        start_epoch = 0\n",
    "        \n",
    "    if args['generative_model'] == 'autoencoder':\n",
    "        train_autoencoder_dataloader(dataloader_train, dataloader_val,\n",
    "                          device, model, optim, loss_fn,\n",
    "                          bsize = args['batch_size'],\n",
    "                          start_epoch = start_epoch,\n",
    "                          n_epochs = args['num_epochs'],\n",
    "                          eval_freq = args['eval_frequency'],\n",
    "                          scheduler = scheduler,\n",
    "                          writer = writer,\n",
    "                          save_recons=True,\n",
    "                          facedata=facedata,\n",
    "                          metadata_dir=checkpoint_path, samples_dir=samples_path,\n",
    "                          checkpoint_path = args['checkpoint_file'])"
   ]
  },
  {
   "cell_type": "code",
   "execution_count": null,
   "metadata": {},
   "outputs": [],
   "source": []
  }
 ],
 "metadata": {
  "kernelspec": {
   "display_name": "Python 3",
   "language": "python",
   "name": "python3"
  },
  "language_info": {
   "codemirror_mode": {
    "name": "ipython",
    "version": 3
   },
   "file_extension": ".py",
   "mimetype": "text/x-python",
   "name": "python",
   "nbconvert_exporter": "python",
   "pygments_lexer": "ipython3",
   "version": "3.7.4"
  }
 },
 "nbformat": 4,
 "nbformat_minor": 2
}
