{
 "cells": [
  {
   "cell_type": "code",
   "execution_count": 1,
   "metadata": {},
   "outputs": [
    {
     "data": {
      "text/plain": [
       "'GeForce RTX 2080 Ti'"
      ]
     },
     "execution_count": 1,
     "metadata": {},
     "output_type": "execute_result"
    }
   ],
   "source": [
    "import sys\n",
    "sys.path.append('../')\n",
    "from lib import mesh_sampling\n",
    "import numpy as np\n",
    "import json\n",
    "import os\n",
    "import copy\n",
    "from facemesh import FaceData\n",
    "import time\n",
    "import pickle\n",
    "import trimesh\n",
    "\n",
    "try:\n",
    "    import psbody.mesh\n",
    "    found = True\n",
    "except ImportError:\n",
    "    found = False\n",
    "if found:\n",
    "    from psbody.mesh import Mesh, MeshViewer, MeshViewers\n",
    "\n",
    "from autoencoder_dataset import autoencoder_dataset\n",
    "from torch.utils.data import DataLoader\n",
    "\n",
    "from spiral_utils import get_adj_trigs, generate_spirals\n",
    "from models import SpiralAutoencoder, SpiralAutoencoder_extra_conv\n",
    "\n",
    "from train_funcs import train_autoencoder, train_autoencoder_dataloader\n",
    "\n",
    "\n",
    "import torch\n",
    "from tensorboardX import SummaryWriter\n",
    "\n",
    "from sklearn.metrics.pairwise import euclidean_distances\n",
    "meshpackage = 'trimesh'\n",
    "root_dir = '/data/gb318/datasets/'\n",
    "\n",
    "name = 'sliced'\n",
    "dataset = 'COMA'    \n",
    "\n",
    "GPU = True\n",
    "device_idx = 4\n",
    "torch.cuda.get_device_name(device_idx)"
   ]
  },
  {
   "cell_type": "code",
   "execution_count": 2,
   "metadata": {},
   "outputs": [],
   "source": [
    "args = {}\n",
    "\n",
    "generative_model = 'autoencoder'\n",
    "dilation_flag = False\n",
    "hardcode_down_ref = False\n",
    "downsample_method = 'COMA_downsample' # choose'COMA_downsample' or 'meshlab_downsample'\n",
    "downsample_config = ''\n",
    "\n",
    "if dataset == 'COMA':\n",
    "    reference_mesh_file = os.path.join(root_dir, dataset,'preprocessed/templates/template.obj')\n",
    "    downsample_directory = os.path.join(root_dir, dataset,'preprocessed/templates',downsample_method,downsample_config)\n",
    "    ds_factors = [4, 4, 4, 4]\n",
    "    step_sizes = [1, 1, 1, 1, 1]\n",
    "    filter_sizes_enc = [[3, 16, 16, 16, 32],[[],[],[],[],[]]]\n",
    "    filter_sizes_dec = [[32, 32, 16, 16, 3],[[],[],[],[],[]]]\n",
    "    if dilation_flag:\n",
    "        dilation=[2, 2, 2, 1, 1] \n",
    "    else:\n",
    "        dilation = None\n",
    "\n",
    "args = {'generative_model': generative_model,\n",
    "        'name': name, 'data': os.path.join(root_dir, dataset, 'preprocessed',name),\n",
    "        'results_folder':  os.path.join(root_dir, dataset,'results/higher_order_'+ generative_model,\\\n",
    "                                        downsample_method, downsample_config,'2nd_order_full/2'),\n",
    "        'reference_mesh_file':reference_mesh_file, 'downsample_directory': downsample_directory,\n",
    "        'checkpoint_file': 'checkpoint',\n",
    "        'seed':2, 'loss':'l1',\n",
    "        'batch_size':16, 'num_epochs':300, 'eval_frequency':200, 'num_workers': 4,\n",
    "        'filter_sizes_enc': filter_sizes_enc, 'filter_sizes_dec': filter_sizes_dec,\n",
    "        'nz':16, \n",
    "        'ds_factors': ds_factors, 'step_sizes' : step_sizes, 'dilation': dilation,\n",
    "        'injection': True, 'residual': True, \n",
    "        \n",
    "        'lr':1e-3, \n",
    "        'regularization': 5e-5,         \n",
    "        'scheduler': True, 'decay_rate': 0.99,'decay_steps':1,  \n",
    "        'resume': False,\n",
    "        \n",
    "        'mode':'train', 'shuffle': True, 'nVal': 100, 'normalization': True}\n",
    "\n",
    "if generative_model == 'autoencoder':\n",
    "    args['results_folder'] = os.path.join(args['results_folder'],\\\n",
    "                                          'latent_'+str(args['nz']))\n",
    "    \n",
    "if not os.path.exists(os.path.join(args['results_folder'])):\n",
    "    os.makedirs(os.path.join(args['results_folder']))\n",
    "\n",
    "summary_path = os.path.join(args['results_folder'],'summaries',args['name'])\n",
    "if not os.path.exists(summary_path):\n",
    "    os.makedirs(summary_path)  \n",
    "    \n",
    "checkpoint_path = os.path.join(args['results_folder'],'checkpoints', args['name'])\n",
    "if not os.path.exists(checkpoint_path):\n",
    "    os.makedirs(checkpoint_path)\n",
    "    \n",
    "samples_path = os.path.join(args['results_folder'],'samples', args['name'])\n",
    "if not os.path.exists(samples_path):\n",
    "    os.makedirs(samples_path)\n",
    "    \n",
    "prediction_path = os.path.join(args['results_folder'],'predictions', args['name'])\n",
    "if not os.path.exists(prediction_path):\n",
    "    os.makedirs(prediction_path)\n",
    "\n",
    "if not os.path.exists(downsample_directory):\n",
    "    os.makedirs(downsample_directory)\n",
    "\n",
    "if hardcode_down_ref:\n",
    "    if dataset == 'COMA' and downsample_method == 'COMA_downsample':\n",
    "        reference_points = [[3567,4051,4597],\n",
    "                            [1010,1081,1170],\n",
    "                            [256, 276, 295],\n",
    "                            [11, 69, 74],\n",
    "                            [17, 17, 17]]\n",
    "    elif dataset == 'COMA' and downsample_method == 'meshlab_downsample' and downsample_config == 'preserve_topology=True_preserve_boundary=False':\n",
    "        reference_points = [[3567, 4051, 4597],\n",
    "                             [1105, 1214, 1241],\n",
    "                             [289, 310, 318],\n",
    "                             [70, 80, 85],\n",
    "                             [2, 19, 24]]\n",
    "    else:\n",
    "        raise NotImplementedError\n",
    "else:\n",
    "    if dataset == 'COMA':\n",
    "        reference_points = [[3567,4051,4597]]\n",
    "        "
   ]
  },
  {
   "cell_type": "code",
   "execution_count": 3,
   "metadata": {},
   "outputs": [
    {
     "name": "stdout",
     "output_type": "stream",
     "text": [
      "Loading data .. \n",
      "Loading Transform Matrices ..\n",
      "Calculating reference points for downsampled versions..\n"
     ]
    }
   ],
   "source": [
    "np.random.seed(args['seed'])\n",
    "print(\"Loading data .. \")\n",
    "if not os.path.exists(args['data']+'/mean.npy') or not os.path.exists(args['data']+'/std.npy'):\n",
    "    facedata = FaceData(nVal=args['nVal'], train_file=args['data']+'/train.npy',\n",
    "                             test_file=args['data']+'/test.npy', reference_mesh_file=args['reference_mesh_file'],\n",
    "                             pca_n_comp=args['nz'], normalization = args['normalization'],\\\n",
    "                             meshpackage = meshpackage, load_flag = True)\n",
    "    np.save(args['data']+'/mean.npy', facedata.mean)\n",
    "    np.save(args['data']+'/std.npy', facedata.std)\n",
    "else:\n",
    "    facedata = FaceData(nVal=args['nVal'], train_file=args['data']+'/train.npy',\\\n",
    "                        test_file=args['data']+'/test.npy', reference_mesh_file=args['reference_mesh_file'],\\\n",
    "                        pca_n_comp=args['nz'], normalization = args['normalization'],\\\n",
    "                        meshpackage = meshpackage, load_flag = False)\n",
    "    facedata.mean = np.load(args['data']+'/mean.npy')\n",
    "    facedata.std = np.load(args['data']+'/std.npy')\n",
    "    facedata.n_vertex = facedata.mean.shape[0]\n",
    "    facedata.n_features = facedata.mean.shape[1]\n",
    "\n",
    "if not os.path.exists(os.path.join(args['downsample_directory'],'downsampling_matrices.pkl')):\n",
    "    if facedata.meshpackage == 'trimesh':\n",
    "        raise NotImplementedError\n",
    "    print(\"Generating Transform Matrices ..\")\n",
    "\n",
    "\n",
    "    if downsample_method == 'COMA_downsample':\n",
    "        M,A,D,U,F = mesh_sampling.generate_transform_matrices(facedata.reference_mesh, args['ds_factors'])\n",
    "    elif downsample_method == 'meshlab_downsample':\n",
    "        M,A,D,U,F = mesh_sampling.generate_transform_matrices_given_downsamples(facedata.reference_mesh,                                                                                args['downsample_directory'],                                                                                len(args['ds_factors']))\n",
    "    else:\n",
    "        raise NotImplementedError(downsample_method)\n",
    "        \n",
    "    with open(os.path.join(args['downsample_directory'],'downsampling_matrices.pkl'), 'wb') as fp:\n",
    "        M_verts_faces = [(M[i].v, M[i].f) for i in range(len(M))]\n",
    "        pickle.dump({'M_verts_faces':M_verts_faces,'A':A,'D':D,'U':U,'F':F}, fp)\n",
    "else:\n",
    "    print(\"Loading Transform Matrices ..\")\n",
    "    with open(os.path.join(args['downsample_directory'],'downsampling_matrices.pkl'), 'rb') as fp:\n",
    "        downsampling_matrices = pickle.load(fp,encoding = 'latin1')\n",
    "            \n",
    "    M_verts_faces = downsampling_matrices['M_verts_faces']\n",
    "    if facedata.meshpackage == 'mpi-mesh':\n",
    "        M = [Mesh(v=M_verts_faces[i][0], f=M_verts_faces[i][1]) for i in range(len(M_verts_faces))]\n",
    "    elif facedata.meshpackage == 'trimesh':\n",
    "        M = [trimesh.base.Trimesh(vertices=M_verts_faces[i][0], faces=M_verts_faces[i][1], process = False)             for i in range(len(M_verts_faces))]\n",
    "    A = downsampling_matrices['A']\n",
    "    D = downsampling_matrices['D']\n",
    "    U = downsampling_matrices['U']\n",
    "    F = downsampling_matrices['F']\n",
    "        \n",
    "\n",
    "if not hardcode_down_ref:\n",
    "    print(\"Calculating reference points for downsampled versions..\")\n",
    "    for i in range(len(args['ds_factors'])):\n",
    "        if facedata.meshpackage == 'mpi-mesh':\n",
    "            dist = euclidean_distances(M[i+1].v, M[0].v[reference_points[0]])\n",
    "        elif facedata.meshpackage == 'trimesh':\n",
    "            dist = euclidean_distances(M[i+1].vertices, M[0].vertices[reference_points[0]])\n",
    "        reference_points.append(np.argmin(dist,axis=0).tolist())\n",
    "\n"
   ]
  },
  {
   "cell_type": "code",
   "execution_count": 4,
   "metadata": {
    "scrolled": true
   },
   "outputs": [
    {
     "name": "stdout",
     "output_type": "stream",
     "text": [
      "spiral generation for hierarchy 0 (5023 vertices) finished\n",
      "spiral generation for hierarchy 1 (1256 vertices) finished\n",
      "spiral generation for hierarchy 2 (314 vertices) finished\n",
      "spiral generation for hierarchy 3 (79 vertices) finished\n",
      "spiral generation for hierarchy 4 (20 vertices) finished\n",
      "spiral sizes for hierarchy 0:  9\n",
      "spiral sizes for hierarchy 1:  9\n",
      "spiral sizes for hierarchy 2:  9\n",
      "spiral sizes for hierarchy 3:  9\n",
      "spiral sizes for hierarchy 4:  8\n"
     ]
    }
   ],
   "source": [
    "if facedata.meshpackage == 'mpi-mesh':\n",
    "    sizes = [x.v.shape[0] for x in M]\n",
    "elif facedata.meshpackage == 'trimesh':\n",
    "    sizes = [x.vertices.shape[0] for x in M]\n",
    "Adj, Trigs = get_adj_trigs(A, F, facedata.reference_mesh, meshpackage = facedata.meshpackage)\n",
    "\n",
    "spirals_np, spiral_sizes,spirals = generate_spirals(args['step_sizes'], M, Adj, Trigs, \\\n",
    "                                                    reference_points = reference_points, \\\n",
    "                                                    dilation = args['dilation'], random = False, \\\n",
    "                                                    meshpackage = facedata.meshpackage, counter_clockwise = True)\n",
    "\n",
    "bU = []\n",
    "bD = []\n",
    "for i in range(len(D)):\n",
    "    d = np.zeros((1,D[i].shape[0]+1,D[i].shape[1]+1))\n",
    "    u = np.zeros((1,U[i].shape[0]+1,U[i].shape[1]+1))\n",
    "    d[0,:-1,:-1] = D[i].todense()\n",
    "    u[0,:-1,:-1] = U[i].todense()\n",
    "    d[0,-1,-1] = 1\n",
    "    u[0,-1,-1] = 1\n",
    "    bD.append(d)\n",
    "    bU.append(u)\n"
   ]
  },
  {
   "cell_type": "code",
   "execution_count": 5,
   "metadata": {},
   "outputs": [
    {
     "name": "stdout",
     "output_type": "stream",
     "text": [
      "cuda:4\n"
     ]
    }
   ],
   "source": [
    "# pytorch stuff\n",
    "\n",
    "torch.manual_seed(args['seed'])\n",
    "\n",
    "if GPU:\n",
    "    device = torch.device(\"cuda:\"+str(device_idx) if torch.cuda.is_available() else \"cpu\")\n",
    "else:\n",
    "    device = torch.device(\"cpu\")\n",
    "print(device)\n",
    "\n",
    "tspirals = [torch.from_numpy(s).long().to(device) for s in spirals_np]\n",
    "tD = [torch.from_numpy(s).float().to(device) for s in bD]\n",
    "tU = [torch.from_numpy(s).float().to(device) for s in bU]"
   ]
  },
  {
   "cell_type": "code",
   "execution_count": 6,
   "metadata": {},
   "outputs": [],
   "source": [
    "# Building model, optimizer, and loss function\n",
    "\n",
    "dataset_train = autoencoder_dataset(root_dir = args['data'], points_dataset = 'train',\n",
    "                                           facedata = facedata,\n",
    "                                           normalization = args['normalization'])\n",
    "\n",
    "dataloader_train = DataLoader(dataset_train, batch_size=args['batch_size'],\\\n",
    "                                     shuffle = args['shuffle'], num_workers = args['num_workers'])\n",
    "\n",
    "dataset_val = autoencoder_dataset(root_dir = args['data'], points_dataset = 'val', \n",
    "                                         facedata = facedata,\n",
    "                                         normalization = args['normalization'])\n",
    "\n",
    "dataloader_val = DataLoader(dataset_val, batch_size=args['batch_size'],\\\n",
    "                                     shuffle = False, num_workers = args['num_workers'])\n",
    "\n",
    "\n",
    "dataset_test = autoencoder_dataset(root_dir = args['data'], points_dataset = 'test',\n",
    "                                          facedata = facedata,\n",
    "                                          normalization = args['normalization'])\n",
    "\n",
    "dataloader_test = DataLoader(dataset_test, batch_size=args['batch_size'],\\\n",
    "                                     shuffle = False, num_workers = args['num_workers'])\n",
    "\n",
    "\n",
    "\n",
    "if 'autoencoder' in args['generative_model']:\n",
    "        model = SpiralAutoencoder_extra_conv(filters_enc = args['filter_sizes_enc'],   \n",
    "                                             filters_dec = args['filter_sizes_dec'],\n",
    "                                             latent_size=args['nz'],\n",
    "                                             sizes=sizes,\n",
    "                                             spiral_sizes=spiral_sizes,\n",
    "                                             spirals=tspirals,\n",
    "                                             D=tD, U=tU,device=device,\n",
    "                                             injection = args['injection'],\n",
    "                                             residual = args['residual']).to(device)\n",
    " \n",
    "    \n",
    "optim = torch.optim.Adam(model.parameters(),lr=args['lr'],weight_decay=args['regularization'])\n",
    "if args['scheduler']:\n",
    "    scheduler=torch.optim.lr_scheduler.StepLR(optim, args['decay_steps'],gamma=args['decay_rate'])\n",
    "else:\n",
    "    scheduler = None\n",
    "\n",
    "def loss_l1(outputs, targets):\n",
    "    L = torch.abs(outputs - targets).mean()\n",
    "    return L \n",
    "if args['loss']=='l1':\n",
    "    loss_fn = loss_l1\n"
   ]
  },
  {
   "cell_type": "code",
   "execution_count": 7,
   "metadata": {},
   "outputs": [
    {
     "name": "stdout",
     "output_type": "stream",
     "text": [
      "Total number of parameters is: 353219\n",
      "SpiralAutoencoder_extra_conv(\n",
      "  (conv): ModuleList(\n",
      "    (0): SpiralConv(\n",
      "      (conv): Linear(in_features=27, out_features=16, bias=False)\n",
      "      (proj): Linear(in_features=3, out_features=16, bias=False)\n",
      "      (normalizer2): BatchNorm1d(80384, eps=1e-05, momentum=0.1, affine=True, track_running_stats=True)\n",
      "      (activation): ELU(alpha=1.0)\n",
      "    )\n",
      "    (1): SpiralConv(\n",
      "      (conv): Linear(in_features=144, out_features=16, bias=False)\n",
      "      (proj): Linear(in_features=16, out_features=16, bias=False)\n",
      "      (normalizer2): BatchNorm1d(20112, eps=1e-05, momentum=0.1, affine=True, track_running_stats=True)\n",
      "      (activation): ELU(alpha=1.0)\n",
      "    )\n",
      "    (2): SpiralConv(\n",
      "      (conv): Linear(in_features=144, out_features=16, bias=False)\n",
      "      (proj): Linear(in_features=16, out_features=16, bias=False)\n",
      "      (normalizer2): BatchNorm1d(5040, eps=1e-05, momentum=0.1, affine=True, track_running_stats=True)\n",
      "      (activation): ELU(alpha=1.0)\n",
      "    )\n",
      "    (3): SpiralConv(\n",
      "      (conv): Linear(in_features=144, out_features=32, bias=False)\n",
      "      (proj): Linear(in_features=16, out_features=32, bias=False)\n",
      "      (normalizer2): BatchNorm1d(2560, eps=1e-05, momentum=0.1, affine=True, track_running_stats=True)\n",
      "      (activation): ELU(alpha=1.0)\n",
      "    )\n",
      "  )\n",
      "  (fc_latent_enc): Linear(in_features=672, out_features=16, bias=True)\n",
      "  (fc_latent_dec): Linear(in_features=16, out_features=672, bias=True)\n",
      "  (dconv): ModuleList(\n",
      "    (0): SpiralConv(\n",
      "      (conv): Linear(in_features=288, out_features=32, bias=False)\n",
      "      (proj): Linear(in_features=32, out_features=32, bias=False)\n",
      "      (normalizer2): BatchNorm1d(2560, eps=1e-05, momentum=0.1, affine=True, track_running_stats=True)\n",
      "      (activation): ELU(alpha=1.0)\n",
      "    )\n",
      "    (1): SpiralConv(\n",
      "      (conv): Linear(in_features=288, out_features=16, bias=False)\n",
      "      (proj): Linear(in_features=32, out_features=16, bias=False)\n",
      "      (normalizer2): BatchNorm1d(5040, eps=1e-05, momentum=0.1, affine=True, track_running_stats=True)\n",
      "      (activation): ELU(alpha=1.0)\n",
      "    )\n",
      "    (2): SpiralConv(\n",
      "      (conv): Linear(in_features=144, out_features=16, bias=False)\n",
      "      (proj): Linear(in_features=16, out_features=16, bias=False)\n",
      "      (normalizer2): BatchNorm1d(20112, eps=1e-05, momentum=0.1, affine=True, track_running_stats=True)\n",
      "      (activation): ELU(alpha=1.0)\n",
      "    )\n",
      "    (3): SpiralConv(\n",
      "      (conv): Linear(in_features=144, out_features=3, bias=False)\n",
      "      (proj): Linear(in_features=16, out_features=3, bias=False)\n",
      "      (normalizer2): BatchNorm1d(15072, eps=1e-05, momentum=0.1, affine=True, track_running_stats=True)\n",
      "    )\n",
      "  )\n",
      ")\n"
     ]
    }
   ],
   "source": [
    "params = sum(p.numel() for p in model.parameters() if p.requires_grad)\n",
    "print(\"Total number of parameters is: {}\".format(params)) \n",
    "print(model)\n",
    "# print(M[4].v.shape)"
   ]
  },
  {
   "cell_type": "code",
   "execution_count": null,
   "metadata": {},
   "outputs": [
    {
     "name": "stderr",
     "output_type": "stream",
     "text": [
      "100%|██████████| 1145/1145 [00:47<00:00, 24.36it/s]\n",
      "100%|██████████| 7/7 [00:00<00:00, 18.27it/s]\n",
      "  0%|          | 0/1145 [00:00<?, ?it/s]"
     ]
    },
    {
     "name": "stdout",
     "output_type": "stream",
     "text": [
      "epoch 0 | tr 0.5035288782009751 | val 0.26380921721458434\n"
     ]
    },
    {
     "name": "stderr",
     "output_type": "stream",
     "text": [
      "100%|██████████| 1145/1145 [00:44<00:00, 25.47it/s]\n",
      "100%|██████████| 7/7 [00:00<00:00, 18.49it/s]\n",
      "  0%|          | 0/1145 [00:00<?, ?it/s]"
     ]
    },
    {
     "name": "stdout",
     "output_type": "stream",
     "text": [
      "epoch 1 | tr 0.31343033903614276 | val 0.21851016998291015\n"
     ]
    },
    {
     "name": "stderr",
     "output_type": "stream",
     "text": [
      "100%|██████████| 1145/1145 [00:47<00:00, 24.33it/s]\n",
      "100%|██████████| 7/7 [00:00<00:00, 17.27it/s]\n",
      "  0%|          | 0/1145 [00:00<?, ?it/s]"
     ]
    },
    {
     "name": "stdout",
     "output_type": "stream",
     "text": [
      "epoch 2 | tr 0.23809787202184068 | val 0.1936693912744522\n"
     ]
    },
    {
     "name": "stderr",
     "output_type": "stream",
     "text": [
      "100%|██████████| 1145/1145 [00:45<00:00, 25.38it/s]\n",
      "100%|██████████| 7/7 [00:00<00:00, 16.15it/s]\n",
      "  0%|          | 0/1145 [00:00<?, ?it/s]"
     ]
    },
    {
     "name": "stdout",
     "output_type": "stream",
     "text": [
      "epoch 3 | tr 0.20914479553325235 | val 0.1745126360654831\n"
     ]
    },
    {
     "name": "stderr",
     "output_type": "stream",
     "text": [
      "100%|██████████| 1145/1145 [00:45<00:00, 25.05it/s]\n",
      "100%|██████████| 7/7 [00:00<00:00, 14.40it/s]\n",
      "  0%|          | 0/1145 [00:00<?, ?it/s]"
     ]
    },
    {
     "name": "stdout",
     "output_type": "stream",
     "text": [
      "epoch 4 | tr 0.19469272907952484 | val 0.16471346974372864\n"
     ]
    },
    {
     "name": "stderr",
     "output_type": "stream",
     "text": [
      "100%|██████████| 1145/1145 [00:45<00:00, 24.97it/s]\n",
      "100%|██████████| 7/7 [00:00<00:00, 16.49it/s]\n",
      "  0%|          | 0/1145 [00:00<?, ?it/s]"
     ]
    },
    {
     "name": "stdout",
     "output_type": "stream",
     "text": [
      "epoch 5 | tr 0.18664195554652827 | val 0.16488815903663634\n"
     ]
    },
    {
     "name": "stderr",
     "output_type": "stream",
     "text": [
      "100%|██████████| 1145/1145 [00:46<00:00, 24.43it/s]\n",
      "100%|██████████| 7/7 [00:00<00:00, 16.06it/s]\n",
      "  0%|          | 0/1145 [00:00<?, ?it/s]"
     ]
    },
    {
     "name": "stdout",
     "output_type": "stream",
     "text": [
      "epoch 6 | tr 0.1794172670430835 | val 0.15913183450698853\n"
     ]
    },
    {
     "name": "stderr",
     "output_type": "stream",
     "text": [
      "100%|██████████| 1145/1145 [00:46<00:00, 24.71it/s]\n",
      "100%|██████████| 7/7 [00:00<00:00, 14.18it/s]\n",
      "  0%|          | 0/1145 [00:00<?, ?it/s]"
     ]
    },
    {
     "name": "stdout",
     "output_type": "stream",
     "text": [
      "epoch 7 | tr 0.17527076530059504 | val 0.15096766173839568\n"
     ]
    },
    {
     "name": "stderr",
     "output_type": "stream",
     "text": [
      "100%|██████████| 1145/1145 [00:45<00:00, 25.00it/s]\n",
      "100%|██████████| 7/7 [00:00<00:00, 17.01it/s]\n",
      "  0%|          | 0/1145 [00:00<?, ?it/s]"
     ]
    },
    {
     "name": "stdout",
     "output_type": "stream",
     "text": [
      "epoch 8 | tr 0.17093114714917998 | val 0.1598162019252777\n"
     ]
    },
    {
     "name": "stderr",
     "output_type": "stream",
     "text": [
      "100%|██████████| 1145/1145 [00:45<00:00, 24.91it/s]\n",
      "100%|██████████| 7/7 [00:00<00:00, 16.96it/s]\n",
      "  0%|          | 0/1145 [00:00<?, ?it/s]"
     ]
    },
    {
     "name": "stdout",
     "output_type": "stream",
     "text": [
      "epoch 9 | tr 0.16773228636619142 | val 0.15798916518688202\n"
     ]
    },
    {
     "name": "stderr",
     "output_type": "stream",
     "text": [
      "100%|██████████| 1145/1145 [00:46<00:00, 24.54it/s]\n",
      "100%|██████████| 7/7 [00:00<00:00, 15.65it/s]\n",
      "  0%|          | 0/1145 [00:00<?, ?it/s]"
     ]
    },
    {
     "name": "stdout",
     "output_type": "stream",
     "text": [
      "epoch 10 | tr 0.16549905188383707 | val 0.14688412845134735\n"
     ]
    },
    {
     "name": "stderr",
     "output_type": "stream",
     "text": [
      "100%|██████████| 1145/1145 [00:46<00:00, 24.72it/s]\n",
      "100%|██████████| 7/7 [00:00<00:00, 16.21it/s]\n",
      "  0%|          | 0/1145 [00:00<?, ?it/s]"
     ]
    },
    {
     "name": "stdout",
     "output_type": "stream",
     "text": [
      "epoch 11 | tr 0.16326961548901828 | val 0.1454988467693329\n"
     ]
    },
    {
     "name": "stderr",
     "output_type": "stream",
     "text": [
      "100%|██████████| 1145/1145 [00:47<00:00, 24.23it/s]\n",
      "100%|██████████| 7/7 [00:00<00:00, 16.64it/s]\n",
      "  0%|          | 0/1145 [00:00<?, ?it/s]"
     ]
    },
    {
     "name": "stdout",
     "output_type": "stream",
     "text": [
      "epoch 12 | tr 0.16137971659843106 | val 0.14712394833564757\n"
     ]
    },
    {
     "name": "stderr",
     "output_type": "stream",
     "text": [
      "100%|██████████| 1145/1145 [00:45<00:00, 25.21it/s]\n",
      "100%|██████████| 7/7 [00:00<00:00, 16.54it/s]\n",
      "  0%|          | 0/1145 [00:00<?, ?it/s]"
     ]
    },
    {
     "name": "stdout",
     "output_type": "stream",
     "text": [
      "epoch 13 | tr 0.16048221132679127 | val 0.13981202363967896\n"
     ]
    },
    {
     "name": "stderr",
     "output_type": "stream",
     "text": [
      "100%|██████████| 1145/1145 [00:45<00:00, 25.07it/s]\n",
      "100%|██████████| 7/7 [00:00<00:00, 16.49it/s]\n",
      "  0%|          | 0/1145 [00:00<?, ?it/s]"
     ]
    },
    {
     "name": "stdout",
     "output_type": "stream",
     "text": [
      "epoch 14 | tr 0.158909485712261 | val 0.14761042833328247\n"
     ]
    },
    {
     "name": "stderr",
     "output_type": "stream",
     "text": [
      "100%|██████████| 1145/1145 [00:46<00:00, 24.48it/s]\n",
      "100%|██████████| 7/7 [00:00<00:00, 16.61it/s]\n",
      "  0%|          | 0/1145 [00:00<?, ?it/s]"
     ]
    },
    {
     "name": "stdout",
     "output_type": "stream",
     "text": [
      "epoch 15 | tr 0.15675522368314843 | val 0.14737168550491334\n"
     ]
    },
    {
     "name": "stderr",
     "output_type": "stream",
     "text": [
      "100%|██████████| 1145/1145 [00:46<00:00, 24.43it/s]\n",
      "100%|██████████| 7/7 [00:00<00:00, 16.43it/s]\n",
      "  0%|          | 0/1145 [00:00<?, ?it/s]"
     ]
    },
    {
     "name": "stdout",
     "output_type": "stream",
     "text": [
      "epoch 16 | tr 0.15622897257887533 | val 0.13974938809871673\n"
     ]
    },
    {
     "name": "stderr",
     "output_type": "stream",
     "text": [
      "100%|██████████| 1145/1145 [00:46<00:00, 24.73it/s]\n",
      "100%|██████████| 7/7 [00:00<00:00, 15.76it/s]\n",
      "  0%|          | 0/1145 [00:00<?, ?it/s]"
     ]
    },
    {
     "name": "stdout",
     "output_type": "stream",
     "text": [
      "epoch 17 | tr 0.15452536395703903 | val 0.14587724685668946\n"
     ]
    },
    {
     "name": "stderr",
     "output_type": "stream",
     "text": [
      "100%|██████████| 1145/1145 [00:47<00:00, 24.11it/s]\n",
      "100%|██████████| 7/7 [00:00<00:00, 14.84it/s]\n",
      "  0%|          | 0/1145 [00:00<?, ?it/s]"
     ]
    },
    {
     "name": "stdout",
     "output_type": "stream",
     "text": [
      "epoch 18 | tr 0.15357902567877393 | val 0.13752830803394317\n"
     ]
    },
    {
     "name": "stderr",
     "output_type": "stream",
     "text": [
      "100%|██████████| 1145/1145 [00:45<00:00, 25.03it/s]\n",
      "100%|██████████| 7/7 [00:00<00:00, 16.60it/s]\n",
      "  0%|          | 0/1145 [00:00<?, ?it/s]"
     ]
    },
    {
     "name": "stdout",
     "output_type": "stream",
     "text": [
      "epoch 19 | tr 0.15301584574471983 | val 0.14026464402675629\n"
     ]
    },
    {
     "name": "stderr",
     "output_type": "stream",
     "text": [
      "100%|██████████| 1145/1145 [00:46<00:00, 24.42it/s]\n",
      "100%|██████████| 7/7 [00:00<00:00, 16.34it/s]\n",
      "  0%|          | 0/1145 [00:00<?, ?it/s]"
     ]
    },
    {
     "name": "stdout",
     "output_type": "stream",
     "text": [
      "epoch 20 | tr 0.15241248985147854 | val 0.13800491511821747\n"
     ]
    },
    {
     "name": "stderr",
     "output_type": "stream",
     "text": [
      "100%|██████████| 1145/1145 [00:47<00:00, 24.29it/s]\n",
      "100%|██████████| 7/7 [00:00<00:00, 16.35it/s]\n",
      "  0%|          | 0/1145 [00:00<?, ?it/s]"
     ]
    },
    {
     "name": "stdout",
     "output_type": "stream",
     "text": [
      "epoch 21 | tr 0.15163618614203025 | val 0.13874420285224914\n"
     ]
    },
    {
     "name": "stderr",
     "output_type": "stream",
     "text": [
      "100%|██████████| 1145/1145 [00:46<00:00, 24.44it/s]\n",
      "100%|██████████| 7/7 [00:00<00:00, 15.42it/s]\n",
      "  0%|          | 0/1145 [00:00<?, ?it/s]"
     ]
    },
    {
     "name": "stdout",
     "output_type": "stream",
     "text": [
      "epoch 22 | tr 0.15087084437438514 | val 0.15497291028499605\n"
     ]
    },
    {
     "name": "stderr",
     "output_type": "stream",
     "text": [
      "100%|██████████| 1145/1145 [00:45<00:00, 25.05it/s]\n",
      "100%|██████████| 7/7 [00:00<00:00, 15.35it/s]\n",
      "  0%|          | 0/1145 [00:00<?, ?it/s]"
     ]
    },
    {
     "name": "stdout",
     "output_type": "stream",
     "text": [
      "epoch 23 | tr 0.14986890935845756 | val 0.13717043101787568\n"
     ]
    },
    {
     "name": "stderr",
     "output_type": "stream",
     "text": [
      "100%|██████████| 1145/1145 [00:47<00:00, 24.19it/s]\n",
      "100%|██████████| 7/7 [00:00<00:00, 16.45it/s]\n",
      "  0%|          | 0/1145 [00:00<?, ?it/s]"
     ]
    },
    {
     "name": "stdout",
     "output_type": "stream",
     "text": [
      "epoch 24 | tr 0.14968150044086362 | val 0.13836419582366943\n"
     ]
    },
    {
     "name": "stderr",
     "output_type": "stream",
     "text": [
      "100%|██████████| 1145/1145 [00:45<00:00, 25.16it/s]\n",
      "100%|██████████| 7/7 [00:00<00:00, 16.06it/s]\n",
      "  0%|          | 0/1145 [00:00<?, ?it/s]"
     ]
    },
    {
     "name": "stdout",
     "output_type": "stream",
     "text": [
      "epoch 25 | tr 0.149034585114421 | val 0.1377896958589554\n"
     ]
    },
    {
     "name": "stderr",
     "output_type": "stream",
     "text": [
      "100%|██████████| 1145/1145 [00:46<00:00, 24.43it/s]\n",
      "100%|██████████| 7/7 [00:00<00:00, 16.13it/s]\n",
      "  0%|          | 0/1145 [00:00<?, ?it/s]"
     ]
    },
    {
     "name": "stdout",
     "output_type": "stream",
     "text": [
      "epoch 26 | tr 0.14818578361081777 | val 0.13752787292003632\n"
     ]
    },
    {
     "name": "stderr",
     "output_type": "stream",
     "text": [
      "100%|██████████| 1145/1145 [00:46<00:00, 24.52it/s]\n",
      "100%|██████████| 7/7 [00:00<00:00, 17.03it/s]\n",
      "  0%|          | 0/1145 [00:00<?, ?it/s]"
     ]
    },
    {
     "name": "stdout",
     "output_type": "stream",
     "text": [
      "epoch 27 | tr 0.1478735236238984 | val 0.13501312136650084\n"
     ]
    },
    {
     "name": "stderr",
     "output_type": "stream",
     "text": [
      "100%|██████████| 1145/1145 [00:47<00:00, 23.95it/s]\n",
      "100%|██████████| 7/7 [00:00<00:00, 16.33it/s]\n",
      "  0%|          | 0/1145 [00:00<?, ?it/s]"
     ]
    },
    {
     "name": "stdout",
     "output_type": "stream",
     "text": [
      "epoch 28 | tr 0.14709157231903258 | val 0.1354766571521759\n"
     ]
    },
    {
     "name": "stderr",
     "output_type": "stream",
     "text": [
      "100%|██████████| 1145/1145 [00:45<00:00, 24.97it/s]\n",
      "100%|██████████| 7/7 [00:00<00:00, 16.45it/s]\n",
      "  0%|          | 0/1145 [00:00<?, ?it/s]"
     ]
    },
    {
     "name": "stdout",
     "output_type": "stream",
     "text": [
      "epoch 29 | tr 0.1463706710024216 | val 0.14163653135299684\n"
     ]
    },
    {
     "name": "stderr",
     "output_type": "stream",
     "text": [
      "100%|██████████| 1145/1145 [00:47<00:00, 24.21it/s]\n",
      "100%|██████████| 7/7 [00:00<00:00, 15.92it/s]\n",
      "  0%|          | 0/1145 [00:00<?, ?it/s]"
     ]
    },
    {
     "name": "stdout",
     "output_type": "stream",
     "text": [
      "epoch 30 | tr 0.14620121353365118 | val 0.13834937334060668\n"
     ]
    },
    {
     "name": "stderr",
     "output_type": "stream",
     "text": [
      "100%|██████████| 1145/1145 [00:45<00:00, 24.91it/s]\n",
      "100%|██████████| 7/7 [00:00<00:00, 17.33it/s]\n",
      "  0%|          | 0/1145 [00:00<?, ?it/s]"
     ]
    },
    {
     "name": "stdout",
     "output_type": "stream",
     "text": [
      "epoch 31 | tr 0.14570426281329033 | val 0.13713640987873077\n"
     ]
    },
    {
     "name": "stderr",
     "output_type": "stream",
     "text": [
      "100%|██████████| 1145/1145 [00:47<00:00, 24.28it/s]\n",
      "100%|██████████| 7/7 [00:00<00:00, 16.50it/s]\n",
      "  0%|          | 0/1145 [00:00<?, ?it/s]"
     ]
    },
    {
     "name": "stdout",
     "output_type": "stream",
     "text": [
      "epoch 32 | tr 0.14515750481315626 | val 0.13732102513313293\n"
     ]
    },
    {
     "name": "stderr",
     "output_type": "stream",
     "text": [
      "100%|██████████| 1145/1145 [00:47<00:00, 24.35it/s]\n",
      "100%|██████████| 7/7 [00:00<00:00, 17.24it/s]\n",
      "  0%|          | 0/1145 [00:00<?, ?it/s]"
     ]
    },
    {
     "name": "stdout",
     "output_type": "stream",
     "text": [
      "epoch 33 | tr 0.14461931104449147 | val 0.13228780448436736\n"
     ]
    },
    {
     "name": "stderr",
     "output_type": "stream",
     "text": [
      "100%|██████████| 1145/1145 [00:44<00:00, 25.56it/s]\n",
      "100%|██████████| 7/7 [00:00<00:00, 16.02it/s]\n",
      "  0%|          | 0/1145 [00:00<?, ?it/s]"
     ]
    },
    {
     "name": "stdout",
     "output_type": "stream",
     "text": [
      "epoch 34 | tr 0.1445435180328532 | val 0.13963309645652772\n"
     ]
    },
    {
     "name": "stderr",
     "output_type": "stream",
     "text": [
      "100%|██████████| 1145/1145 [00:45<00:00, 24.93it/s]\n",
      "100%|██████████| 7/7 [00:00<00:00, 16.14it/s]\n",
      "  0%|          | 0/1145 [00:00<?, ?it/s]"
     ]
    },
    {
     "name": "stdout",
     "output_type": "stream",
     "text": [
      "epoch 35 | tr 0.14399466082970366 | val 0.13109420061111451\n"
     ]
    },
    {
     "name": "stderr",
     "output_type": "stream",
     "text": [
      "100%|██████████| 1145/1145 [00:45<00:00, 25.03it/s]\n",
      "100%|██████████| 7/7 [00:00<00:00, 16.26it/s]\n",
      "  0%|          | 0/1145 [00:00<?, ?it/s]"
     ]
    },
    {
     "name": "stdout",
     "output_type": "stream",
     "text": [
      "epoch 36 | tr 0.14333054067868534 | val 0.13025368332862855\n"
     ]
    },
    {
     "name": "stderr",
     "output_type": "stream",
     "text": [
      "100%|██████████| 1145/1145 [00:46<00:00, 24.85it/s]\n",
      "100%|██████████| 7/7 [00:00<00:00, 16.78it/s]\n",
      "  0%|          | 0/1145 [00:00<?, ?it/s]"
     ]
    },
    {
     "name": "stdout",
     "output_type": "stream",
     "text": [
      "epoch 37 | tr 0.14332871368160477 | val 0.13113678455352784\n"
     ]
    },
    {
     "name": "stderr",
     "output_type": "stream",
     "text": [
      "100%|██████████| 1145/1145 [00:44<00:00, 25.83it/s]\n",
      "100%|██████████| 7/7 [00:00<00:00, 15.44it/s]\n",
      "  0%|          | 0/1145 [00:00<?, ?it/s]"
     ]
    },
    {
     "name": "stdout",
     "output_type": "stream",
     "text": [
      "epoch 38 | tr 0.1430107035493382 | val 0.13343021154403686\n"
     ]
    },
    {
     "name": "stderr",
     "output_type": "stream",
     "text": [
      "100%|██████████| 1145/1145 [00:46<00:00, 24.58it/s]\n",
      "100%|██████████| 7/7 [00:00<00:00, 16.00it/s]\n",
      "  0%|          | 0/1145 [00:00<?, ?it/s]"
     ]
    },
    {
     "name": "stdout",
     "output_type": "stream",
     "text": [
      "epoch 39 | tr 0.14278545331717385 | val 0.13443331360816957\n"
     ]
    },
    {
     "name": "stderr",
     "output_type": "stream",
     "text": [
      "100%|██████████| 1145/1145 [00:45<00:00, 25.07it/s]\n",
      "100%|██████████| 7/7 [00:00<00:00, 17.11it/s]\n",
      "  0%|          | 0/1145 [00:00<?, ?it/s]"
     ]
    },
    {
     "name": "stdout",
     "output_type": "stream",
     "text": [
      "epoch 40 | tr 0.14197703303696516 | val 0.134948291182518\n"
     ]
    },
    {
     "name": "stderr",
     "output_type": "stream",
     "text": [
      "100%|██████████| 1145/1145 [00:44<00:00, 25.54it/s]\n",
      "100%|██████████| 7/7 [00:00<00:00, 15.85it/s]\n",
      "  0%|          | 0/1145 [00:00<?, ?it/s]"
     ]
    },
    {
     "name": "stdout",
     "output_type": "stream",
     "text": [
      "epoch 41 | tr 0.1420193405635299 | val 0.1311897075176239\n"
     ]
    },
    {
     "name": "stderr",
     "output_type": "stream",
     "text": [
      "100%|██████████| 1145/1145 [00:45<00:00, 24.90it/s]\n",
      "100%|██████████| 7/7 [00:00<00:00, 15.88it/s]\n",
      "  0%|          | 0/1145 [00:00<?, ?it/s]"
     ]
    },
    {
     "name": "stdout",
     "output_type": "stream",
     "text": [
      "epoch 42 | tr 0.1412138808832903 | val 0.13066347539424897\n"
     ]
    },
    {
     "name": "stderr",
     "output_type": "stream",
     "text": [
      "100%|██████████| 1145/1145 [00:46<00:00, 24.78it/s]\n",
      "100%|██████████| 7/7 [00:00<00:00, 16.87it/s]\n",
      "  0%|          | 0/1145 [00:00<?, ?it/s]"
     ]
    },
    {
     "name": "stdout",
     "output_type": "stream",
     "text": [
      "epoch 43 | tr 0.14101142644752027 | val 0.13340335488319396\n"
     ]
    },
    {
     "name": "stderr",
     "output_type": "stream",
     "text": [
      "100%|██████████| 1145/1145 [00:46<00:00, 24.49it/s]\n",
      "100%|██████████| 7/7 [00:00<00:00, 16.89it/s]\n",
      "  0%|          | 0/1145 [00:00<?, ?it/s]"
     ]
    },
    {
     "name": "stdout",
     "output_type": "stream",
     "text": [
      "epoch 44 | tr 0.14063302894498428 | val 0.1344538313150406\n"
     ]
    },
    {
     "name": "stderr",
     "output_type": "stream",
     "text": [
      "100%|██████████| 1145/1145 [00:45<00:00, 24.92it/s]\n",
      "100%|██████████| 7/7 [00:00<00:00, 17.02it/s]\n",
      "  0%|          | 0/1145 [00:00<?, ?it/s]"
     ]
    },
    {
     "name": "stdout",
     "output_type": "stream",
     "text": [
      "epoch 45 | tr 0.14072688669495137 | val 0.12770897507667542\n"
     ]
    },
    {
     "name": "stderr",
     "output_type": "stream",
     "text": [
      "100%|██████████| 1145/1145 [00:46<00:00, 24.69it/s]\n",
      "100%|██████████| 7/7 [00:00<00:00, 16.24it/s]\n",
      "  0%|          | 0/1145 [00:00<?, ?it/s]"
     ]
    },
    {
     "name": "stdout",
     "output_type": "stream",
     "text": [
      "epoch 46 | tr 0.14023039828403186 | val 0.1347046500444412\n"
     ]
    },
    {
     "name": "stderr",
     "output_type": "stream",
     "text": [
      "100%|██████████| 1145/1145 [00:46<00:00, 24.59it/s]\n",
      "100%|██████████| 7/7 [00:00<00:00, 17.64it/s]\n",
      "  0%|          | 0/1145 [00:00<?, ?it/s]"
     ]
    },
    {
     "name": "stdout",
     "output_type": "stream",
     "text": [
      "epoch 47 | tr 0.13980885957665956 | val 0.1368931996822357\n"
     ]
    },
    {
     "name": "stderr",
     "output_type": "stream",
     "text": [
      "100%|██████████| 1145/1145 [00:46<00:00, 24.62it/s]\n",
      "100%|██████████| 7/7 [00:00<00:00, 16.60it/s]\n",
      "  0%|          | 0/1145 [00:00<?, ?it/s]"
     ]
    },
    {
     "name": "stdout",
     "output_type": "stream",
     "text": [
      "epoch 48 | tr 0.13951353689148685 | val 0.13281990289688111\n"
     ]
    },
    {
     "name": "stderr",
     "output_type": "stream",
     "text": [
      "100%|██████████| 1145/1145 [00:45<00:00, 25.02it/s]\n",
      "100%|██████████| 7/7 [00:00<00:00, 17.09it/s]\n",
      "  0%|          | 0/1145 [00:00<?, ?it/s]"
     ]
    },
    {
     "name": "stdout",
     "output_type": "stream",
     "text": [
      "epoch 49 | tr 0.1391353425263968 | val 0.12995742857456208\n"
     ]
    },
    {
     "name": "stderr",
     "output_type": "stream",
     "text": [
      "100%|██████████| 1145/1145 [00:45<00:00, 25.29it/s]\n",
      "100%|██████████| 7/7 [00:00<00:00, 16.04it/s]\n",
      "  0%|          | 0/1145 [00:00<?, ?it/s]"
     ]
    },
    {
     "name": "stdout",
     "output_type": "stream",
     "text": [
      "epoch 50 | tr 0.13846496037046602 | val 0.12566510617733\n"
     ]
    },
    {
     "name": "stderr",
     "output_type": "stream",
     "text": [
      "100%|██████████| 1145/1145 [00:44<00:00, 25.49it/s]\n",
      "100%|██████████| 7/7 [00:00<00:00, 14.25it/s]\n",
      "  0%|          | 0/1145 [00:00<?, ?it/s]"
     ]
    },
    {
     "name": "stdout",
     "output_type": "stream",
     "text": [
      "epoch 51 | tr 0.13838738787053811 | val 0.1282205206155777\n"
     ]
    },
    {
     "name": "stderr",
     "output_type": "stream",
     "text": [
      "100%|██████████| 1145/1145 [00:46<00:00, 24.60it/s]\n",
      "100%|██████████| 7/7 [00:00<00:00, 15.48it/s]\n",
      "  0%|          | 0/1145 [00:00<?, ?it/s]"
     ]
    },
    {
     "name": "stdout",
     "output_type": "stream",
     "text": [
      "epoch 52 | tr 0.13824137837353737 | val 0.13038669466972352\n"
     ]
    },
    {
     "name": "stderr",
     "output_type": "stream",
     "text": [
      "100%|██████████| 1145/1145 [00:46<00:00, 24.58it/s]\n",
      "100%|██████████| 7/7 [00:00<00:00, 16.34it/s]\n",
      "  0%|          | 0/1145 [00:00<?, ?it/s]"
     ]
    },
    {
     "name": "stdout",
     "output_type": "stream",
     "text": [
      "epoch 53 | tr 0.13819183979957375 | val 0.12891946852207184\n"
     ]
    },
    {
     "name": "stderr",
     "output_type": "stream",
     "text": [
      "100%|██████████| 1145/1145 [00:45<00:00, 25.41it/s]\n",
      "100%|██████████| 7/7 [00:00<00:00, 15.89it/s]\n",
      "  0%|          | 0/1145 [00:00<?, ?it/s]"
     ]
    },
    {
     "name": "stdout",
     "output_type": "stream",
     "text": [
      "epoch 54 | tr 0.13810533431345667 | val 0.13737862348556518\n"
     ]
    },
    {
     "name": "stderr",
     "output_type": "stream",
     "text": [
      "100%|██████████| 1145/1145 [00:44<00:00, 25.88it/s]\n",
      "100%|██████████| 7/7 [00:00<00:00, 16.94it/s]\n",
      "  0%|          | 0/1145 [00:00<?, ?it/s]"
     ]
    },
    {
     "name": "stdout",
     "output_type": "stream",
     "text": [
      "epoch 55 | tr 0.13762759639450087 | val 0.12196603119373321\n"
     ]
    },
    {
     "name": "stderr",
     "output_type": "stream",
     "text": [
      "100%|██████████| 1145/1145 [00:45<00:00, 25.19it/s]\n",
      "100%|██████████| 7/7 [00:00<00:00, 16.43it/s]\n",
      "  0%|          | 0/1145 [00:00<?, ?it/s]"
     ]
    },
    {
     "name": "stdout",
     "output_type": "stream",
     "text": [
      "epoch 56 | tr 0.1377226538518853 | val 0.1353371924161911\n"
     ]
    },
    {
     "name": "stderr",
     "output_type": "stream",
     "text": [
      "100%|██████████| 1145/1145 [00:46<00:00, 24.65it/s]\n",
      "100%|██████████| 7/7 [00:00<00:00, 14.63it/s]\n",
      "  0%|          | 0/1145 [00:00<?, ?it/s]"
     ]
    },
    {
     "name": "stdout",
     "output_type": "stream",
     "text": [
      "epoch 57 | tr 0.1373978543624896 | val 0.12793409585952759\n"
     ]
    },
    {
     "name": "stderr",
     "output_type": "stream",
     "text": [
      "100%|██████████| 1145/1145 [00:46<00:00, 24.57it/s]\n",
      "100%|██████████| 7/7 [00:00<00:00, 15.71it/s]\n",
      "  0%|          | 0/1145 [00:00<?, ?it/s]"
     ]
    },
    {
     "name": "stdout",
     "output_type": "stream",
     "text": [
      "epoch 58 | tr 0.13704692611774394 | val 0.12839694142341615\n"
     ]
    },
    {
     "name": "stderr",
     "output_type": "stream",
     "text": [
      "100%|██████████| 1145/1145 [00:47<00:00, 24.15it/s]\n",
      "100%|██████████| 7/7 [00:00<00:00, 16.57it/s]\n",
      "  0%|          | 0/1145 [00:00<?, ?it/s]"
     ]
    },
    {
     "name": "stdout",
     "output_type": "stream",
     "text": [
      "epoch 59 | tr 0.13665225235224096 | val 0.12586302638053895\n"
     ]
    },
    {
     "name": "stderr",
     "output_type": "stream",
     "text": [
      "100%|██████████| 1145/1145 [00:46<00:00, 24.48it/s]\n",
      "100%|██████████| 7/7 [00:00<00:00, 15.49it/s]\n",
      "  0%|          | 0/1145 [00:00<?, ?it/s]"
     ]
    },
    {
     "name": "stdout",
     "output_type": "stream",
     "text": [
      "epoch 60 | tr 0.1365861741467444 | val 0.12411457121372223\n"
     ]
    },
    {
     "name": "stderr",
     "output_type": "stream",
     "text": [
      "100%|██████████| 1145/1145 [00:46<00:00, 24.55it/s]\n",
      "100%|██████████| 7/7 [00:00<00:00, 15.12it/s]\n",
      "  0%|          | 0/1145 [00:00<?, ?it/s]"
     ]
    },
    {
     "name": "stdout",
     "output_type": "stream",
     "text": [
      "epoch 61 | tr 0.13644598450063194 | val 0.12761523067951203\n"
     ]
    },
    {
     "name": "stderr",
     "output_type": "stream",
     "text": [
      "100%|██████████| 1145/1145 [00:46<00:00, 24.60it/s]\n",
      "100%|██████████| 7/7 [00:00<00:00, 16.92it/s]\n",
      "  0%|          | 0/1145 [00:00<?, ?it/s]"
     ]
    },
    {
     "name": "stdout",
     "output_type": "stream",
     "text": [
      "epoch 62 | tr 0.13619775109739535 | val 0.12626253366470336\n"
     ]
    },
    {
     "name": "stderr",
     "output_type": "stream",
     "text": [
      "100%|██████████| 1145/1145 [00:46<00:00, 24.55it/s]\n",
      "100%|██████████| 7/7 [00:00<00:00, 15.99it/s]\n",
      "  0%|          | 0/1145 [00:00<?, ?it/s]"
     ]
    },
    {
     "name": "stdout",
     "output_type": "stream",
     "text": [
      "epoch 63 | tr 0.13596156894338934 | val 0.12975165069103242\n"
     ]
    },
    {
     "name": "stderr",
     "output_type": "stream",
     "text": [
      "100%|██████████| 1145/1145 [00:47<00:00, 24.12it/s]\n",
      "100%|██████████| 7/7 [00:00<00:00, 16.44it/s]\n",
      "  0%|          | 0/1145 [00:00<?, ?it/s]"
     ]
    },
    {
     "name": "stdout",
     "output_type": "stream",
     "text": [
      "epoch 64 | tr 0.1355360284240201 | val 0.12450049340724945\n"
     ]
    },
    {
     "name": "stderr",
     "output_type": "stream",
     "text": [
      "100%|██████████| 1145/1145 [00:46<00:00, 24.64it/s]\n",
      "100%|██████████| 7/7 [00:00<00:00, 16.47it/s]\n",
      "  0%|          | 0/1145 [00:00<?, ?it/s]"
     ]
    },
    {
     "name": "stdout",
     "output_type": "stream",
     "text": [
      "epoch 65 | tr 0.1354939798664565 | val 0.1257883143424988\n"
     ]
    },
    {
     "name": "stderr",
     "output_type": "stream",
     "text": [
      "100%|██████████| 1145/1145 [00:46<00:00, 24.40it/s]\n",
      "100%|██████████| 7/7 [00:00<00:00, 16.60it/s]\n",
      "  0%|          | 0/1145 [00:00<?, ?it/s]"
     ]
    },
    {
     "name": "stdout",
     "output_type": "stream",
     "text": [
      "epoch 66 | tr 0.13519556527983254 | val 0.12825772643089295\n"
     ]
    },
    {
     "name": "stderr",
     "output_type": "stream",
     "text": [
      "100%|██████████| 1145/1145 [00:44<00:00, 25.47it/s]\n",
      "100%|██████████| 7/7 [00:00<00:00, 14.56it/s]\n",
      "  0%|          | 0/1145 [00:00<?, ?it/s]"
     ]
    },
    {
     "name": "stdout",
     "output_type": "stream",
     "text": [
      "epoch 67 | tr 0.13523169674493887 | val 0.1270171982049942\n"
     ]
    },
    {
     "name": "stderr",
     "output_type": "stream",
     "text": [
      "100%|██████████| 1145/1145 [00:45<00:00, 25.13it/s]\n",
      "100%|██████████| 7/7 [00:00<00:00, 16.58it/s]\n",
      "  0%|          | 0/1145 [00:00<?, ?it/s]"
     ]
    },
    {
     "name": "stdout",
     "output_type": "stream",
     "text": [
      "epoch 68 | tr 0.1350133805254786 | val 0.1247467964887619\n"
     ]
    },
    {
     "name": "stderr",
     "output_type": "stream",
     "text": [
      "100%|██████████| 1145/1145 [00:46<00:00, 24.66it/s]\n",
      "100%|██████████| 7/7 [00:00<00:00, 16.16it/s]\n",
      "  0%|          | 0/1145 [00:00<?, ?it/s]"
     ]
    },
    {
     "name": "stdout",
     "output_type": "stream",
     "text": [
      "epoch 69 | tr 0.1345825900894483 | val 0.12398447662591934\n"
     ]
    },
    {
     "name": "stderr",
     "output_type": "stream",
     "text": [
      "100%|██████████| 1145/1145 [00:46<00:00, 24.67it/s]\n",
      "100%|██████████| 7/7 [00:00<00:00, 16.19it/s]\n",
      "  0%|          | 0/1145 [00:00<?, ?it/s]"
     ]
    },
    {
     "name": "stdout",
     "output_type": "stream",
     "text": [
      "epoch 70 | tr 0.13461636399396157 | val 0.12573427498340606\n"
     ]
    },
    {
     "name": "stderr",
     "output_type": "stream",
     "text": [
      "100%|██████████| 1145/1145 [00:46<00:00, 24.52it/s]\n",
      "100%|██████████| 7/7 [00:00<00:00, 16.02it/s]\n",
      "  0%|          | 0/1145 [00:00<?, ?it/s]"
     ]
    },
    {
     "name": "stdout",
     "output_type": "stream",
     "text": [
      "epoch 71 | tr 0.1346492669009915 | val 0.12031476110219956\n"
     ]
    },
    {
     "name": "stderr",
     "output_type": "stream",
     "text": [
      "100%|██████████| 1145/1145 [00:46<00:00, 24.86it/s]\n",
      "100%|██████████| 7/7 [00:00<00:00, 16.52it/s]\n",
      "  0%|          | 0/1145 [00:00<?, ?it/s]"
     ]
    },
    {
     "name": "stdout",
     "output_type": "stream",
     "text": [
      "epoch 72 | tr 0.13407520880684187 | val 0.1245068746805191\n"
     ]
    },
    {
     "name": "stderr",
     "output_type": "stream",
     "text": [
      "100%|██████████| 1145/1145 [00:45<00:00, 25.05it/s]\n",
      "100%|██████████| 7/7 [00:00<00:00, 16.25it/s]\n",
      "  0%|          | 0/1145 [00:00<?, ?it/s]"
     ]
    },
    {
     "name": "stdout",
     "output_type": "stream",
     "text": [
      "epoch 73 | tr 0.13451562693071534 | val 0.1272264987230301\n"
     ]
    },
    {
     "name": "stderr",
     "output_type": "stream",
     "text": [
      "100%|██████████| 1145/1145 [00:46<00:00, 24.77it/s]\n",
      "100%|██████████| 7/7 [00:00<00:00, 16.74it/s]\n",
      "  0%|          | 0/1145 [00:00<?, ?it/s]"
     ]
    },
    {
     "name": "stdout",
     "output_type": "stream",
     "text": [
      "epoch 74 | tr 0.13371335187229733 | val 0.12700519621372222\n"
     ]
    },
    {
     "name": "stderr",
     "output_type": "stream",
     "text": [
      "100%|██████████| 1145/1145 [00:45<00:00, 25.11it/s]\n",
      "100%|██████████| 7/7 [00:00<00:00, 15.07it/s]\n",
      "  0%|          | 0/1145 [00:00<?, ?it/s]"
     ]
    },
    {
     "name": "stdout",
     "output_type": "stream",
     "text": [
      "epoch 75 | tr 0.13399604593604242 | val 0.12927365720272063\n"
     ]
    },
    {
     "name": "stderr",
     "output_type": "stream",
     "text": [
      "100%|██████████| 1145/1145 [00:45<00:00, 25.19it/s]\n",
      "100%|██████████| 7/7 [00:00<00:00, 17.09it/s]\n",
      "  0%|          | 0/1145 [00:00<?, ?it/s]"
     ]
    },
    {
     "name": "stdout",
     "output_type": "stream",
     "text": [
      "epoch 76 | tr 0.13372253380835852 | val 0.12456593751907348\n"
     ]
    },
    {
     "name": "stderr",
     "output_type": "stream",
     "text": [
      "100%|██████████| 1145/1145 [00:45<00:00, 25.02it/s]\n",
      "100%|██████████| 7/7 [00:00<00:00, 15.71it/s]\n",
      "  0%|          | 0/1145 [00:00<?, ?it/s]"
     ]
    },
    {
     "name": "stdout",
     "output_type": "stream",
     "text": [
      "epoch 77 | tr 0.13348584688412762 | val 0.1210842987895012\n"
     ]
    },
    {
     "name": "stderr",
     "output_type": "stream",
     "text": [
      "100%|██████████| 1145/1145 [00:46<00:00, 24.83it/s]\n",
      "100%|██████████| 7/7 [00:00<00:00, 16.52it/s]\n",
      "  0%|          | 0/1145 [00:00<?, ?it/s]"
     ]
    },
    {
     "name": "stdout",
     "output_type": "stream",
     "text": [
      "epoch 78 | tr 0.1331664676365877 | val 0.12667088568210602\n"
     ]
    },
    {
     "name": "stderr",
     "output_type": "stream",
     "text": [
      "100%|██████████| 1145/1145 [00:46<00:00, 24.83it/s]\n",
      "100%|██████████| 7/7 [00:00<00:00, 16.41it/s]\n",
      "  0%|          | 0/1145 [00:00<?, ?it/s]"
     ]
    },
    {
     "name": "stdout",
     "output_type": "stream",
     "text": [
      "epoch 79 | tr 0.13299302288475762 | val 0.12516689479351042\n"
     ]
    },
    {
     "name": "stderr",
     "output_type": "stream",
     "text": [
      "100%|██████████| 1145/1145 [00:46<00:00, 24.80it/s]\n",
      "100%|██████████| 7/7 [00:00<00:00, 16.27it/s]\n",
      "  0%|          | 0/1145 [00:00<?, ?it/s]"
     ]
    },
    {
     "name": "stdout",
     "output_type": "stream",
     "text": [
      "epoch 80 | tr 0.13288771031318125 | val 0.12429268896579743\n"
     ]
    },
    {
     "name": "stderr",
     "output_type": "stream",
     "text": [
      "100%|██████████| 1145/1145 [00:45<00:00, 24.89it/s]\n",
      "100%|██████████| 7/7 [00:00<00:00, 14.50it/s]\n",
      "  0%|          | 0/1145 [00:00<?, ?it/s]"
     ]
    },
    {
     "name": "stdout",
     "output_type": "stream",
     "text": [
      "epoch 81 | tr 0.13280945095230315 | val 0.12443189203739166\n"
     ]
    },
    {
     "name": "stderr",
     "output_type": "stream",
     "text": [
      "100%|██████████| 1145/1145 [00:46<00:00, 24.67it/s]\n",
      "100%|██████████| 7/7 [00:00<00:00, 14.95it/s]\n",
      "  0%|          | 0/1145 [00:00<?, ?it/s]"
     ]
    },
    {
     "name": "stdout",
     "output_type": "stream",
     "text": [
      "epoch 82 | tr 0.1326349049985588 | val 0.12582765221595765\n"
     ]
    },
    {
     "name": "stderr",
     "output_type": "stream",
     "text": [
      "100%|██████████| 1145/1145 [00:46<00:00, 24.45it/s]\n",
      "100%|██████████| 7/7 [00:00<00:00, 16.99it/s]\n",
      "  0%|          | 0/1145 [00:00<?, ?it/s]"
     ]
    },
    {
     "name": "stdout",
     "output_type": "stream",
     "text": [
      "epoch 83 | tr 0.1328377332285132 | val 0.1267824113368988\n"
     ]
    },
    {
     "name": "stderr",
     "output_type": "stream",
     "text": [
      "100%|██████████| 1145/1145 [00:45<00:00, 25.20it/s]\n",
      "100%|██████████| 7/7 [00:00<00:00, 17.18it/s]\n",
      "  0%|          | 0/1145 [00:00<?, ?it/s]"
     ]
    },
    {
     "name": "stdout",
     "output_type": "stream",
     "text": [
      "epoch 84 | tr 0.13220798445389045 | val 0.12457554280757904\n"
     ]
    },
    {
     "name": "stderr",
     "output_type": "stream",
     "text": [
      "100%|██████████| 1145/1145 [00:47<00:00, 24.27it/s]\n",
      "100%|██████████| 7/7 [00:00<00:00, 15.79it/s]\n",
      "  0%|          | 0/1145 [00:00<?, ?it/s]"
     ]
    },
    {
     "name": "stdout",
     "output_type": "stream",
     "text": [
      "epoch 85 | tr 0.13215380157241072 | val 0.12761425852775574\n"
     ]
    },
    {
     "name": "stderr",
     "output_type": "stream",
     "text": [
      "100%|██████████| 1145/1145 [00:45<00:00, 24.91it/s]\n",
      "100%|██████████| 7/7 [00:00<00:00, 15.48it/s]\n",
      "  0%|          | 0/1145 [00:00<?, ?it/s]"
     ]
    },
    {
     "name": "stdout",
     "output_type": "stream",
     "text": [
      "epoch 86 | tr 0.1318528793839656 | val 0.12198777377605438\n"
     ]
    },
    {
     "name": "stderr",
     "output_type": "stream",
     "text": [
      "100%|██████████| 1145/1145 [00:46<00:00, 24.66it/s]\n",
      "100%|██████████| 7/7 [00:00<00:00, 16.18it/s]\n",
      "  0%|          | 0/1145 [00:00<?, ?it/s]"
     ]
    },
    {
     "name": "stdout",
     "output_type": "stream",
     "text": [
      "epoch 87 | tr 0.13198323508868476 | val 0.12279093205928802\n"
     ]
    },
    {
     "name": "stderr",
     "output_type": "stream",
     "text": [
      "100%|██████████| 1145/1145 [00:46<00:00, 24.47it/s]\n",
      "100%|██████████| 7/7 [00:00<00:00, 15.92it/s]\n",
      "  0%|          | 0/1145 [00:00<?, ?it/s]"
     ]
    },
    {
     "name": "stdout",
     "output_type": "stream",
     "text": [
      "epoch 88 | tr 0.13219492159806215 | val 0.12278902381658555\n"
     ]
    },
    {
     "name": "stderr",
     "output_type": "stream",
     "text": [
      "100%|██████████| 1145/1145 [00:43<00:00, 26.15it/s]\n",
      "100%|██████████| 7/7 [00:00<00:00, 13.87it/s]\n",
      "  0%|          | 0/1145 [00:00<?, ?it/s]"
     ]
    },
    {
     "name": "stdout",
     "output_type": "stream",
     "text": [
      "epoch 89 | tr 0.13136756681546533 | val 0.12245727360248565\n"
     ]
    },
    {
     "name": "stderr",
     "output_type": "stream",
     "text": [
      "100%|██████████| 1145/1145 [00:45<00:00, 25.33it/s]\n",
      "100%|██████████| 7/7 [00:00<00:00, 16.79it/s]\n",
      "  0%|          | 0/1145 [00:00<?, ?it/s]"
     ]
    },
    {
     "name": "stdout",
     "output_type": "stream",
     "text": [
      "epoch 90 | tr 0.13159535220785282 | val 0.12387277245521545\n"
     ]
    },
    {
     "name": "stderr",
     "output_type": "stream",
     "text": [
      "100%|██████████| 1145/1145 [00:46<00:00, 24.43it/s]\n",
      "100%|██████████| 7/7 [00:00<00:00, 15.97it/s]\n",
      "  0%|          | 0/1145 [00:00<?, ?it/s]"
     ]
    },
    {
     "name": "stdout",
     "output_type": "stream",
     "text": [
      "epoch 91 | tr 0.13148649773602925 | val 0.12205433934926986\n"
     ]
    },
    {
     "name": "stderr",
     "output_type": "stream",
     "text": [
      "100%|██████████| 1145/1145 [00:47<00:00, 24.13it/s]\n",
      "100%|██████████| 7/7 [00:00<00:00, 16.49it/s]\n",
      "  0%|          | 0/1145 [00:00<?, ?it/s]"
     ]
    },
    {
     "name": "stdout",
     "output_type": "stream",
     "text": [
      "epoch 92 | tr 0.13124687779097813 | val 0.1260453373193741\n"
     ]
    },
    {
     "name": "stderr",
     "output_type": "stream",
     "text": [
      "100%|██████████| 1145/1145 [00:47<00:00, 24.29it/s]\n",
      "100%|██████████| 7/7 [00:00<00:00, 15.32it/s]\n",
      "  0%|          | 0/1145 [00:00<?, ?it/s]"
     ]
    },
    {
     "name": "stdout",
     "output_type": "stream",
     "text": [
      "epoch 93 | tr 0.1309972121681049 | val 0.1261664378643036\n"
     ]
    },
    {
     "name": "stderr",
     "output_type": "stream",
     "text": [
      "100%|██████████| 1145/1145 [00:45<00:00, 25.19it/s]\n",
      "100%|██████████| 7/7 [00:00<00:00, 16.09it/s]\n",
      "  0%|          | 0/1145 [00:00<?, ?it/s]"
     ]
    },
    {
     "name": "stdout",
     "output_type": "stream",
     "text": [
      "epoch 94 | tr 0.13104426151265092 | val 0.12392704159021378\n"
     ]
    },
    {
     "name": "stderr",
     "output_type": "stream",
     "text": [
      "100%|██████████| 1145/1145 [00:45<00:00, 25.29it/s]\n",
      "100%|██████████| 7/7 [00:00<00:00, 15.35it/s]\n",
      "  0%|          | 0/1145 [00:00<?, ?it/s]"
     ]
    },
    {
     "name": "stdout",
     "output_type": "stream",
     "text": [
      "epoch 95 | tr 0.1312339607667897 | val 0.12669630527496337\n"
     ]
    },
    {
     "name": "stderr",
     "output_type": "stream",
     "text": [
      "100%|██████████| 1145/1145 [00:43<00:00, 26.61it/s]\n",
      "100%|██████████| 7/7 [00:00<00:00, 16.56it/s]\n",
      "  0%|          | 0/1145 [00:00<?, ?it/s]"
     ]
    },
    {
     "name": "stdout",
     "output_type": "stream",
     "text": [
      "epoch 96 | tr 0.1308231275621217 | val 0.12420583486557008\n"
     ]
    },
    {
     "name": "stderr",
     "output_type": "stream",
     "text": [
      "100%|██████████| 1145/1145 [00:44<00:00, 25.95it/s]\n",
      "100%|██████████| 7/7 [00:00<00:00, 16.28it/s]\n",
      "  0%|          | 0/1145 [00:00<?, ?it/s]"
     ]
    },
    {
     "name": "stdout",
     "output_type": "stream",
     "text": [
      "epoch 97 | tr 0.13056375334538173 | val 0.12186350524425507\n"
     ]
    },
    {
     "name": "stderr",
     "output_type": "stream",
     "text": [
      "100%|██████████| 1145/1145 [00:46<00:00, 24.45it/s]\n",
      "100%|██████████| 7/7 [00:00<00:00, 15.57it/s]\n",
      "  0%|          | 0/1145 [00:00<?, ?it/s]"
     ]
    },
    {
     "name": "stdout",
     "output_type": "stream",
     "text": [
      "epoch 98 | tr 0.1302519028169875 | val 0.12065043479204178\n"
     ]
    },
    {
     "name": "stderr",
     "output_type": "stream",
     "text": [
      "100%|██████████| 1145/1145 [00:46<00:00, 24.60it/s]\n",
      "100%|██████████| 7/7 [00:00<00:00, 15.30it/s]\n",
      "  0%|          | 0/1145 [00:00<?, ?it/s]"
     ]
    },
    {
     "name": "stdout",
     "output_type": "stream",
     "text": [
      "epoch 99 | tr 0.13034065846631412 | val 0.11953801244497299\n"
     ]
    },
    {
     "name": "stderr",
     "output_type": "stream",
     "text": [
      "100%|██████████| 1145/1145 [00:46<00:00, 24.42it/s]\n",
      "100%|██████████| 7/7 [00:00<00:00, 16.72it/s]\n",
      "  0%|          | 0/1145 [00:00<?, ?it/s]"
     ]
    },
    {
     "name": "stdout",
     "output_type": "stream",
     "text": [
      "epoch 100 | tr 0.1302699394456975 | val 0.12563765823841094\n"
     ]
    },
    {
     "name": "stderr",
     "output_type": "stream",
     "text": [
      "100%|██████████| 1145/1145 [00:46<00:00, 24.79it/s]\n",
      "100%|██████████| 7/7 [00:00<00:00, 16.48it/s]\n",
      "  0%|          | 0/1145 [00:00<?, ?it/s]"
     ]
    },
    {
     "name": "stdout",
     "output_type": "stream",
     "text": [
      "epoch 101 | tr 0.12986117940179448 | val 0.12706119537353516\n"
     ]
    },
    {
     "name": "stderr",
     "output_type": "stream",
     "text": [
      "100%|██████████| 1145/1145 [00:47<00:00, 24.24it/s]\n",
      "100%|██████████| 7/7 [00:00<00:00, 15.81it/s]\n",
      "  0%|          | 0/1145 [00:00<?, ?it/s]"
     ]
    },
    {
     "name": "stdout",
     "output_type": "stream",
     "text": [
      "epoch 102 | tr 0.12993994182066745 | val 0.12064200907945632\n"
     ]
    },
    {
     "name": "stderr",
     "output_type": "stream",
     "text": [
      "100%|██████████| 1145/1145 [00:47<00:00, 24.33it/s]\n",
      "100%|██████████| 7/7 [00:00<00:00, 16.19it/s]\n",
      "  0%|          | 0/1145 [00:00<?, ?it/s]"
     ]
    },
    {
     "name": "stdout",
     "output_type": "stream",
     "text": [
      "epoch 103 | tr 0.12984263283810002 | val 0.12053255945444107\n"
     ]
    },
    {
     "name": "stderr",
     "output_type": "stream",
     "text": [
      "100%|██████████| 1145/1145 [00:46<00:00, 24.75it/s]\n",
      "100%|██████████| 7/7 [00:00<00:00, 16.67it/s]\n",
      "  0%|          | 0/1145 [00:00<?, ?it/s]"
     ]
    },
    {
     "name": "stdout",
     "output_type": "stream",
     "text": [
      "epoch 104 | tr 0.12967348295972544 | val 0.11977070540189744\n"
     ]
    },
    {
     "name": "stderr",
     "output_type": "stream",
     "text": [
      "100%|██████████| 1145/1145 [00:46<00:00, 24.45it/s]\n",
      "100%|██████████| 7/7 [00:00<00:00, 16.60it/s]\n",
      "  0%|          | 0/1145 [00:00<?, ?it/s]"
     ]
    },
    {
     "name": "stdout",
     "output_type": "stream",
     "text": [
      "epoch 105 | tr 0.12956671823480237 | val 0.12160937130451202\n"
     ]
    },
    {
     "name": "stderr",
     "output_type": "stream",
     "text": [
      "100%|██████████| 1145/1145 [00:46<00:00, 24.44it/s]\n",
      "100%|██████████| 7/7 [00:00<00:00, 16.72it/s]\n",
      "  0%|          | 0/1145 [00:00<?, ?it/s]"
     ]
    },
    {
     "name": "stdout",
     "output_type": "stream",
     "text": [
      "epoch 106 | tr 0.12965402741380772 | val 0.12186956107616424\n"
     ]
    },
    {
     "name": "stderr",
     "output_type": "stream",
     "text": [
      "100%|██████████| 1145/1145 [00:43<00:00, 26.07it/s]\n",
      "100%|██████████| 7/7 [00:00<00:00, 17.01it/s]\n",
      "  0%|          | 0/1145 [00:00<?, ?it/s]"
     ]
    },
    {
     "name": "stdout",
     "output_type": "stream",
     "text": [
      "epoch 107 | tr 0.12910561078222207 | val 0.12146333277225495\n"
     ]
    },
    {
     "name": "stderr",
     "output_type": "stream",
     "text": [
      "100%|██████████| 1145/1145 [00:46<00:00, 24.67it/s]\n",
      "100%|██████████| 7/7 [00:00<00:00, 17.25it/s]\n",
      "  0%|          | 0/1145 [00:00<?, ?it/s]"
     ]
    },
    {
     "name": "stdout",
     "output_type": "stream",
     "text": [
      "epoch 108 | tr 0.12943474213640252 | val 0.12004948496818542\n"
     ]
    },
    {
     "name": "stderr",
     "output_type": "stream",
     "text": [
      "100%|██████████| 1145/1145 [00:46<00:00, 24.76it/s]\n",
      "100%|██████████| 7/7 [00:00<00:00, 14.26it/s]\n",
      "  0%|          | 0/1145 [00:00<?, ?it/s]"
     ]
    },
    {
     "name": "stdout",
     "output_type": "stream",
     "text": [
      "epoch 109 | tr 0.1291008152972796 | val 0.11953512459993362\n"
     ]
    },
    {
     "name": "stderr",
     "output_type": "stream",
     "text": [
      "100%|██████████| 1145/1145 [00:44<00:00, 25.85it/s]\n",
      "100%|██████████| 7/7 [00:00<00:00, 16.23it/s]\n",
      "  0%|          | 0/1145 [00:00<?, ?it/s]"
     ]
    },
    {
     "name": "stdout",
     "output_type": "stream",
     "text": [
      "epoch 110 | tr 0.1290529482007645 | val 0.11995633155107498\n"
     ]
    },
    {
     "name": "stderr",
     "output_type": "stream",
     "text": [
      "100%|██████████| 1145/1145 [00:46<00:00, 24.44it/s]\n",
      "100%|██████████| 7/7 [00:00<00:00, 13.66it/s]\n",
      "  0%|          | 0/1145 [00:00<?, ?it/s]"
     ]
    },
    {
     "name": "stdout",
     "output_type": "stream",
     "text": [
      "epoch 111 | tr 0.12893985658599286 | val 0.11928421884775162\n"
     ]
    },
    {
     "name": "stderr",
     "output_type": "stream",
     "text": [
      "100%|██████████| 1145/1145 [00:45<00:00, 25.04it/s]\n",
      "100%|██████████| 7/7 [00:00<00:00, 16.45it/s]\n",
      "  0%|          | 0/1145 [00:00<?, ?it/s]"
     ]
    },
    {
     "name": "stdout",
     "output_type": "stream",
     "text": [
      "epoch 112 | tr 0.12875414273955604 | val 0.11882980287075043\n"
     ]
    },
    {
     "name": "stderr",
     "output_type": "stream",
     "text": [
      "100%|██████████| 1145/1145 [00:46<00:00, 24.68it/s]\n",
      "100%|██████████| 7/7 [00:00<00:00, 15.57it/s]\n",
      "  0%|          | 0/1145 [00:00<?, ?it/s]"
     ]
    },
    {
     "name": "stdout",
     "output_type": "stream",
     "text": [
      "epoch 113 | tr 0.12853895286507466 | val 0.11844442337751389\n"
     ]
    },
    {
     "name": "stderr",
     "output_type": "stream",
     "text": [
      "100%|██████████| 1145/1145 [00:47<00:00, 24.16it/s]\n",
      "100%|██████████| 7/7 [00:00<00:00, 16.27it/s]\n",
      "  0%|          | 0/1145 [00:00<?, ?it/s]"
     ]
    },
    {
     "name": "stdout",
     "output_type": "stream",
     "text": [
      "epoch 114 | tr 0.1285390081380906 | val 0.11881664484739303\n"
     ]
    },
    {
     "name": "stderr",
     "output_type": "stream",
     "text": [
      "100%|██████████| 1145/1145 [00:46<00:00, 24.59it/s]\n",
      "100%|██████████| 7/7 [00:00<00:00, 15.49it/s]\n",
      "  0%|          | 0/1145 [00:00<?, ?it/s]"
     ]
    },
    {
     "name": "stdout",
     "output_type": "stream",
     "text": [
      "epoch 115 | tr 0.12854391873826623 | val 0.12411029070615769\n"
     ]
    },
    {
     "name": "stderr",
     "output_type": "stream",
     "text": [
      "100%|██████████| 1145/1145 [00:46<00:00, 24.62it/s]\n",
      "100%|██████████| 7/7 [00:00<00:00, 16.62it/s]\n",
      "  0%|          | 0/1145 [00:00<?, ?it/s]"
     ]
    },
    {
     "name": "stdout",
     "output_type": "stream",
     "text": [
      "epoch 116 | tr 0.12875145990243872 | val 0.12213652551174164\n"
     ]
    },
    {
     "name": "stderr",
     "output_type": "stream",
     "text": [
      "100%|██████████| 1145/1145 [00:46<00:00, 24.59it/s]\n",
      "100%|██████████| 7/7 [00:00<00:00, 15.83it/s]\n",
      "  0%|          | 0/1145 [00:00<?, ?it/s]"
     ]
    },
    {
     "name": "stdout",
     "output_type": "stream",
     "text": [
      "epoch 117 | tr 0.1280939912848091 | val 0.11729636788368225\n"
     ]
    },
    {
     "name": "stderr",
     "output_type": "stream",
     "text": [
      "100%|██████████| 1145/1145 [00:46<00:00, 24.52it/s]\n",
      "100%|██████████| 7/7 [00:00<00:00, 15.89it/s]\n",
      "  0%|          | 0/1145 [00:00<?, ?it/s]"
     ]
    },
    {
     "name": "stdout",
     "output_type": "stream",
     "text": [
      "epoch 118 | tr 0.12808244366838475 | val 0.12042134135961532\n"
     ]
    },
    {
     "name": "stderr",
     "output_type": "stream",
     "text": [
      "100%|██████████| 1145/1145 [00:45<00:00, 25.40it/s]\n",
      "100%|██████████| 7/7 [00:00<00:00, 15.90it/s]\n",
      "  0%|          | 0/1145 [00:00<?, ?it/s]"
     ]
    },
    {
     "name": "stdout",
     "output_type": "stream",
     "text": [
      "epoch 119 | tr 0.12807540848399654 | val 0.12110929518938064\n"
     ]
    },
    {
     "name": "stderr",
     "output_type": "stream",
     "text": [
      "100%|██████████| 1145/1145 [00:46<00:00, 24.52it/s]\n",
      "100%|██████████| 7/7 [00:00<00:00, 16.65it/s]\n",
      "  0%|          | 0/1145 [00:00<?, ?it/s]"
     ]
    },
    {
     "name": "stdout",
     "output_type": "stream",
     "text": [
      "epoch 120 | tr 0.1279738098993153 | val 0.1261858469247818\n"
     ]
    },
    {
     "name": "stderr",
     "output_type": "stream",
     "text": [
      "100%|██████████| 1145/1145 [00:46<00:00, 24.37it/s]\n",
      "100%|██████████| 7/7 [00:00<00:00, 15.40it/s]\n",
      "  0%|          | 0/1145 [00:00<?, ?it/s]"
     ]
    },
    {
     "name": "stdout",
     "output_type": "stream",
     "text": [
      "epoch 121 | tr 0.12771013102959713 | val 0.12154595732688904\n"
     ]
    },
    {
     "name": "stderr",
     "output_type": "stream",
     "text": [
      "100%|██████████| 1145/1145 [00:46<00:00, 24.52it/s]\n",
      "100%|██████████| 7/7 [00:00<00:00, 15.69it/s]\n",
      "  0%|          | 0/1145 [00:00<?, ?it/s]"
     ]
    },
    {
     "name": "stdout",
     "output_type": "stream",
     "text": [
      "epoch 122 | tr 0.1279504851015285 | val 0.1190271982550621\n"
     ]
    },
    {
     "name": "stderr",
     "output_type": "stream",
     "text": [
      "100%|██████████| 1145/1145 [00:46<00:00, 24.85it/s]\n",
      "100%|██████████| 7/7 [00:00<00:00, 16.92it/s]\n"
     ]
    },
    {
     "name": "stdout",
     "output_type": "stream",
     "text": [
      "epoch 123 | tr 0.12756393544097236 | val 0.11862306922674179\n"
     ]
    },
    {
     "name": "stderr",
     "output_type": "stream",
     "text": [
      "100%|██████████| 1145/1145 [00:44<00:00, 25.79it/s]\n",
      "100%|██████████| 7/7 [00:00<00:00, 15.66it/s]\n",
      "  0%|          | 0/1145 [00:00<?, ?it/s]"
     ]
    },
    {
     "name": "stdout",
     "output_type": "stream",
     "text": [
      "epoch 124 | tr 0.12781017585966453 | val 0.12167785942554474\n"
     ]
    },
    {
     "name": "stderr",
     "output_type": "stream",
     "text": [
      "100%|██████████| 1145/1145 [00:46<00:00, 24.53it/s]\n",
      "100%|██████████| 7/7 [00:00<00:00, 16.68it/s]\n",
      "  0%|          | 0/1145 [00:00<?, ?it/s]"
     ]
    },
    {
     "name": "stdout",
     "output_type": "stream",
     "text": [
      "epoch 125 | tr 0.1275477718784612 | val 0.11959394007921219\n"
     ]
    },
    {
     "name": "stderr",
     "output_type": "stream",
     "text": [
      "100%|██████████| 1145/1145 [00:46<00:00, 24.53it/s]\n",
      "100%|██████████| 7/7 [00:00<00:00, 16.09it/s]\n",
      "  0%|          | 0/1145 [00:00<?, ?it/s]"
     ]
    },
    {
     "name": "stdout",
     "output_type": "stream",
     "text": [
      "epoch 126 | tr 0.1275913225881981 | val 0.11752586126327515\n"
     ]
    },
    {
     "name": "stderr",
     "output_type": "stream",
     "text": [
      "100%|██████████| 1145/1145 [00:47<00:00, 24.09it/s]\n",
      "100%|██████████| 7/7 [00:00<00:00, 16.12it/s]\n",
      "  0%|          | 0/1145 [00:00<?, ?it/s]"
     ]
    },
    {
     "name": "stdout",
     "output_type": "stream",
     "text": [
      "epoch 127 | tr 0.12726696852921074 | val 0.11706370025873185\n"
     ]
    },
    {
     "name": "stderr",
     "output_type": "stream",
     "text": [
      "100%|██████████| 1145/1145 [00:44<00:00, 25.51it/s]\n",
      "100%|██████████| 7/7 [00:00<00:00, 15.71it/s]\n",
      "  0%|          | 0/1145 [00:00<?, ?it/s]"
     ]
    },
    {
     "name": "stdout",
     "output_type": "stream",
     "text": [
      "epoch 128 | tr 0.12716871124740314 | val 0.11691320776939391\n"
     ]
    },
    {
     "name": "stderr",
     "output_type": "stream",
     "text": [
      "100%|██████████| 1145/1145 [00:45<00:00, 24.99it/s]\n",
      "100%|██████████| 7/7 [00:00<00:00, 16.11it/s]\n",
      "  0%|          | 0/1145 [00:00<?, ?it/s]"
     ]
    },
    {
     "name": "stdout",
     "output_type": "stream",
     "text": [
      "epoch 129 | tr 0.12701262414227604 | val 0.11940683245658874\n"
     ]
    },
    {
     "name": "stderr",
     "output_type": "stream",
     "text": [
      "100%|██████████| 1145/1145 [00:47<00:00, 24.25it/s]\n",
      "100%|██████████| 7/7 [00:00<00:00, 15.75it/s]\n",
      "  0%|          | 0/1145 [00:00<?, ?it/s]"
     ]
    },
    {
     "name": "stdout",
     "output_type": "stream",
     "text": [
      "epoch 130 | tr 0.12689608188232632 | val 0.12094082593917847\n"
     ]
    },
    {
     "name": "stderr",
     "output_type": "stream",
     "text": [
      "100%|██████████| 1145/1145 [00:46<00:00, 24.53it/s]\n",
      "100%|██████████| 7/7 [00:00<00:00, 17.37it/s]\n",
      "  0%|          | 0/1145 [00:00<?, ?it/s]"
     ]
    },
    {
     "name": "stdout",
     "output_type": "stream",
     "text": [
      "epoch 131 | tr 0.12701239966236436 | val 0.12291130453348159\n"
     ]
    },
    {
     "name": "stderr",
     "output_type": "stream",
     "text": [
      "100%|██████████| 1145/1145 [00:46<00:00, 24.67it/s]\n",
      "100%|██████████| 7/7 [00:00<00:00, 16.02it/s]\n",
      "  0%|          | 0/1145 [00:00<?, ?it/s]"
     ]
    },
    {
     "name": "stdout",
     "output_type": "stream",
     "text": [
      "epoch 132 | tr 0.12663018493550807 | val 0.1184353706240654\n"
     ]
    },
    {
     "name": "stderr",
     "output_type": "stream",
     "text": [
      "100%|██████████| 1145/1145 [00:46<00:00, 24.81it/s]\n",
      "100%|██████████| 7/7 [00:00<00:00, 16.52it/s]\n",
      "  0%|          | 0/1145 [00:00<?, ?it/s]"
     ]
    },
    {
     "name": "stdout",
     "output_type": "stream",
     "text": [
      "epoch 133 | tr 0.12689549490268393 | val 0.12384595334529877\n"
     ]
    },
    {
     "name": "stderr",
     "output_type": "stream",
     "text": [
      "100%|██████████| 1145/1145 [00:45<00:00, 25.04it/s]\n",
      "100%|██████████| 7/7 [00:00<00:00, 16.57it/s]\n",
      "  0%|          | 0/1145 [00:00<?, ?it/s]"
     ]
    },
    {
     "name": "stdout",
     "output_type": "stream",
     "text": [
      "epoch 134 | tr 0.12650762684287317 | val 0.11619222670793533\n"
     ]
    },
    {
     "name": "stderr",
     "output_type": "stream",
     "text": [
      "100%|██████████| 1145/1145 [00:47<00:00, 24.09it/s]\n",
      "100%|██████████| 7/7 [00:00<00:00, 17.07it/s]\n",
      "  0%|          | 0/1145 [00:00<?, ?it/s]"
     ]
    },
    {
     "name": "stdout",
     "output_type": "stream",
     "text": [
      "epoch 135 | tr 0.12643808320250108 | val 0.12024191051721572\n"
     ]
    },
    {
     "name": "stderr",
     "output_type": "stream",
     "text": [
      "100%|██████████| 1145/1145 [00:47<00:00, 24.35it/s]\n",
      "100%|██████████| 7/7 [00:00<00:00, 16.22it/s]\n",
      "  0%|          | 0/1145 [00:00<?, ?it/s]"
     ]
    },
    {
     "name": "stdout",
     "output_type": "stream",
     "text": [
      "epoch 136 | tr 0.1264271305756526 | val 0.11741450488567352\n"
     ]
    },
    {
     "name": "stderr",
     "output_type": "stream",
     "text": [
      "100%|██████████| 1145/1145 [00:47<00:00, 24.01it/s]\n",
      "100%|██████████| 7/7 [00:00<00:00, 16.27it/s]\n",
      "  0%|          | 0/1145 [00:00<?, ?it/s]"
     ]
    },
    {
     "name": "stdout",
     "output_type": "stream",
     "text": [
      "epoch 137 | tr 0.12611398953916986 | val 0.12006981283426285\n"
     ]
    },
    {
     "name": "stderr",
     "output_type": "stream",
     "text": [
      "100%|██████████| 1145/1145 [00:47<00:00, 24.34it/s]\n",
      "100%|██████████| 7/7 [00:00<00:00, 15.50it/s]\n",
      "  0%|          | 0/1145 [00:00<?, ?it/s]"
     ]
    },
    {
     "name": "stdout",
     "output_type": "stream",
     "text": [
      "epoch 138 | tr 0.12614046707688348 | val 0.12027666211128235\n"
     ]
    },
    {
     "name": "stderr",
     "output_type": "stream",
     "text": [
      "100%|██████████| 1145/1145 [00:46<00:00, 24.49it/s]\n",
      "100%|██████████| 7/7 [00:00<00:00, 16.49it/s]\n",
      "  0%|          | 0/1145 [00:00<?, ?it/s]"
     ]
    },
    {
     "name": "stdout",
     "output_type": "stream",
     "text": [
      "epoch 139 | tr 0.1260550210710565 | val 0.11719263821840287\n"
     ]
    },
    {
     "name": "stderr",
     "output_type": "stream",
     "text": [
      "100%|██████████| 1145/1145 [00:45<00:00, 24.97it/s]\n",
      "100%|██████████| 7/7 [00:00<00:00, 16.40it/s]\n",
      "  0%|          | 0/1145 [00:00<?, ?it/s]"
     ]
    },
    {
     "name": "stdout",
     "output_type": "stream",
     "text": [
      "epoch 140 | tr 0.12604432460424062 | val 0.12107661068439483\n"
     ]
    },
    {
     "name": "stderr",
     "output_type": "stream",
     "text": [
      "100%|██████████| 1145/1145 [00:46<00:00, 24.45it/s]\n",
      "100%|██████████| 7/7 [00:00<00:00, 16.63it/s]\n",
      "  0%|          | 0/1145 [00:00<?, ?it/s]"
     ]
    },
    {
     "name": "stdout",
     "output_type": "stream",
     "text": [
      "epoch 141 | tr 0.12604048773219212 | val 0.11745648205280304\n"
     ]
    },
    {
     "name": "stderr",
     "output_type": "stream",
     "text": [
      "100%|██████████| 1145/1145 [00:44<00:00, 25.64it/s]\n",
      "100%|██████████| 7/7 [00:00<00:00, 16.11it/s]\n",
      "  0%|          | 0/1145 [00:00<?, ?it/s]"
     ]
    },
    {
     "name": "stdout",
     "output_type": "stream",
     "text": [
      "epoch 142 | tr 0.12572800251684518 | val 0.11650724768638611\n"
     ]
    },
    {
     "name": "stderr",
     "output_type": "stream",
     "text": [
      "100%|██████████| 1145/1145 [00:45<00:00, 25.07it/s]\n",
      "100%|██████████| 7/7 [00:00<00:00, 16.33it/s]\n",
      "  0%|          | 0/1145 [00:00<?, ?it/s]"
     ]
    },
    {
     "name": "stdout",
     "output_type": "stream",
     "text": [
      "epoch 143 | tr 0.12596979880923623 | val 0.11744825184345245\n"
     ]
    },
    {
     "name": "stderr",
     "output_type": "stream",
     "text": [
      "100%|██████████| 1145/1145 [00:47<00:00, 24.31it/s]\n",
      "100%|██████████| 7/7 [00:00<00:00, 16.23it/s]\n",
      "  0%|          | 0/1145 [00:00<?, ?it/s]"
     ]
    },
    {
     "name": "stdout",
     "output_type": "stream",
     "text": [
      "epoch 144 | tr 0.1258510920175138 | val 0.11906501978635788\n"
     ]
    },
    {
     "name": "stderr",
     "output_type": "stream",
     "text": [
      "100%|██████████| 1145/1145 [00:43<00:00, 26.63it/s]\n",
      "100%|██████████| 7/7 [00:00<00:00, 16.38it/s]\n",
      "  0%|          | 0/1145 [00:00<?, ?it/s]"
     ]
    },
    {
     "name": "stdout",
     "output_type": "stream",
     "text": [
      "epoch 145 | tr 0.1255754378859443 | val 0.11811564475297928\n"
     ]
    },
    {
     "name": "stderr",
     "output_type": "stream",
     "text": [
      "100%|██████████| 1145/1145 [00:46<00:00, 24.76it/s]\n",
      "100%|██████████| 7/7 [00:00<00:00, 15.04it/s]\n",
      "  0%|          | 0/1145 [00:00<?, ?it/s]"
     ]
    },
    {
     "name": "stdout",
     "output_type": "stream",
     "text": [
      "epoch 146 | tr 0.12540903637847256 | val 0.11597336918115615\n"
     ]
    },
    {
     "name": "stderr",
     "output_type": "stream",
     "text": [
      "100%|██████████| 1145/1145 [00:45<00:00, 25.40it/s]\n",
      "100%|██████████| 7/7 [00:00<00:00, 17.12it/s]\n",
      "  0%|          | 0/1145 [00:00<?, ?it/s]"
     ]
    },
    {
     "name": "stdout",
     "output_type": "stream",
     "text": [
      "epoch 147 | tr 0.12534766718887613 | val 0.12010583639144898\n"
     ]
    },
    {
     "name": "stderr",
     "output_type": "stream",
     "text": [
      "100%|██████████| 1145/1145 [00:45<00:00, 25.15it/s]\n",
      "100%|██████████| 7/7 [00:00<00:00, 14.63it/s]\n",
      "  0%|          | 0/1145 [00:00<?, ?it/s]"
     ]
    },
    {
     "name": "stdout",
     "output_type": "stream",
     "text": [
      "epoch 148 | tr 0.12550253011947313 | val 0.11953347265720367\n"
     ]
    },
    {
     "name": "stderr",
     "output_type": "stream",
     "text": [
      "100%|██████████| 1145/1145 [00:45<00:00, 25.20it/s]\n",
      "100%|██████████| 7/7 [00:00<00:00, 15.97it/s]\n",
      "  0%|          | 0/1145 [00:00<?, ?it/s]"
     ]
    },
    {
     "name": "stdout",
     "output_type": "stream",
     "text": [
      "epoch 149 | tr 0.12514282410103475 | val 0.11658491283655166\n"
     ]
    },
    {
     "name": "stderr",
     "output_type": "stream",
     "text": [
      "100%|██████████| 1145/1145 [00:44<00:00, 25.53it/s]\n",
      "100%|██████████| 7/7 [00:00<00:00, 14.48it/s]\n",
      "  0%|          | 0/1145 [00:00<?, ?it/s]"
     ]
    },
    {
     "name": "stdout",
     "output_type": "stream",
     "text": [
      "epoch 150 | tr 0.12517364448759682 | val 0.1195158389210701\n"
     ]
    },
    {
     "name": "stderr",
     "output_type": "stream",
     "text": [
      "100%|██████████| 1145/1145 [00:47<00:00, 24.31it/s]\n",
      "100%|██████████| 7/7 [00:00<00:00, 17.19it/s]\n",
      "  0%|          | 0/1145 [00:00<?, ?it/s]"
     ]
    },
    {
     "name": "stdout",
     "output_type": "stream",
     "text": [
      "epoch 151 | tr 0.12509489540044252 | val 0.11817175120115281\n"
     ]
    },
    {
     "name": "stderr",
     "output_type": "stream",
     "text": [
      "100%|██████████| 1145/1145 [00:45<00:00, 25.06it/s]\n",
      "100%|██████████| 7/7 [00:00<00:00, 15.85it/s]\n",
      "  0%|          | 0/1145 [00:00<?, ?it/s]"
     ]
    },
    {
     "name": "stdout",
     "output_type": "stream",
     "text": [
      "epoch 152 | tr 0.12493373607632374 | val 0.11862177610397338\n"
     ]
    },
    {
     "name": "stderr",
     "output_type": "stream",
     "text": [
      "100%|██████████| 1145/1145 [00:46<00:00, 24.73it/s]\n",
      "100%|██████████| 7/7 [00:00<00:00, 16.78it/s]\n",
      "  0%|          | 0/1145 [00:00<?, ?it/s]"
     ]
    },
    {
     "name": "stdout",
     "output_type": "stream",
     "text": [
      "epoch 153 | tr 0.12497766485003999 | val 0.11810606062412261\n"
     ]
    },
    {
     "name": "stderr",
     "output_type": "stream",
     "text": [
      "100%|██████████| 1145/1145 [00:45<00:00, 24.97it/s]\n",
      "100%|██████████| 7/7 [00:00<00:00, 16.57it/s]\n",
      "  0%|          | 0/1145 [00:00<?, ?it/s]"
     ]
    },
    {
     "name": "stdout",
     "output_type": "stream",
     "text": [
      "epoch 154 | tr 0.1250251966513085 | val 0.11562207162380218\n"
     ]
    },
    {
     "name": "stderr",
     "output_type": "stream",
     "text": [
      "100%|██████████| 1145/1145 [00:46<00:00, 24.41it/s]\n",
      "100%|██████████| 7/7 [00:00<00:00, 16.98it/s]\n",
      "  0%|          | 0/1145 [00:00<?, ?it/s]"
     ]
    },
    {
     "name": "stdout",
     "output_type": "stream",
     "text": [
      "epoch 155 | tr 0.12450655363042466 | val 0.11577256977558135\n"
     ]
    },
    {
     "name": "stderr",
     "output_type": "stream",
     "text": [
      "100%|██████████| 1145/1145 [00:45<00:00, 25.07it/s]\n",
      "100%|██████████| 7/7 [00:00<00:00, 14.55it/s]\n",
      "  0%|          | 0/1145 [00:00<?, ?it/s]"
     ]
    },
    {
     "name": "stdout",
     "output_type": "stream",
     "text": [
      "epoch 156 | tr 0.12459555289360008 | val 0.12524979829788208\n"
     ]
    },
    {
     "name": "stderr",
     "output_type": "stream",
     "text": [
      "100%|██████████| 1145/1145 [00:47<00:00, 24.23it/s]\n",
      "100%|██████████| 7/7 [00:00<00:00, 15.21it/s]\n",
      "  0%|          | 0/1145 [00:00<?, ?it/s]"
     ]
    },
    {
     "name": "stdout",
     "output_type": "stream",
     "text": [
      "epoch 157 | tr 0.12472228427101542 | val 0.1164698076248169\n"
     ]
    },
    {
     "name": "stderr",
     "output_type": "stream",
     "text": [
      "100%|██████████| 1145/1145 [00:46<00:00, 24.46it/s]\n",
      "100%|██████████| 7/7 [00:00<00:00, 15.05it/s]\n",
      "  0%|          | 0/1145 [00:00<?, ?it/s]"
     ]
    },
    {
     "name": "stdout",
     "output_type": "stream",
     "text": [
      "epoch 158 | tr 0.12436184437140525 | val 0.11689911127090453\n"
     ]
    },
    {
     "name": "stderr",
     "output_type": "stream",
     "text": [
      "100%|██████████| 1145/1145 [00:46<00:00, 24.72it/s]\n",
      "100%|██████████| 7/7 [00:00<00:00, 16.18it/s]\n",
      "  0%|          | 0/1145 [00:00<?, ?it/s]"
     ]
    },
    {
     "name": "stdout",
     "output_type": "stream",
     "text": [
      "epoch 159 | tr 0.12431793421091944 | val 0.1157441309094429\n"
     ]
    },
    {
     "name": "stderr",
     "output_type": "stream",
     "text": [
      "100%|██████████| 1145/1145 [00:47<00:00, 24.28it/s]\n",
      "100%|██████████| 7/7 [00:00<00:00, 16.08it/s]\n"
     ]
    },
    {
     "name": "stdout",
     "output_type": "stream",
     "text": [
      "epoch 160 | tr 0.12443764437597175 | val 0.11656757473945617\n"
     ]
    },
    {
     "name": "stderr",
     "output_type": "stream",
     "text": [
      "100%|██████████| 1145/1145 [00:45<00:00, 24.95it/s]\n",
      "100%|██████████| 7/7 [00:00<00:00, 15.14it/s]\n",
      "  0%|          | 0/1145 [00:00<?, ?it/s]"
     ]
    },
    {
     "name": "stdout",
     "output_type": "stream",
     "text": [
      "epoch 161 | tr 0.1242074850386295 | val 0.11742448568344116\n"
     ]
    },
    {
     "name": "stderr",
     "output_type": "stream",
     "text": [
      "100%|██████████| 1145/1145 [00:46<00:00, 24.44it/s]\n",
      "100%|██████████| 7/7 [00:00<00:00, 15.62it/s]\n",
      "  0%|          | 0/1145 [00:00<?, ?it/s]"
     ]
    },
    {
     "name": "stdout",
     "output_type": "stream",
     "text": [
      "epoch 162 | tr 0.12418508755519617 | val 0.11962240874767303\n"
     ]
    },
    {
     "name": "stderr",
     "output_type": "stream",
     "text": [
      "100%|██████████| 1145/1145 [00:45<00:00, 25.12it/s]\n",
      "100%|██████████| 7/7 [00:00<00:00, 16.20it/s]\n",
      "  0%|          | 0/1145 [00:00<?, ?it/s]"
     ]
    },
    {
     "name": "stdout",
     "output_type": "stream",
     "text": [
      "epoch 163 | tr 0.12392557750723253 | val 0.11373781561851501\n"
     ]
    },
    {
     "name": "stderr",
     "output_type": "stream",
     "text": [
      "100%|██████████| 1145/1145 [00:48<00:00, 23.84it/s]\n",
      "100%|██████████| 7/7 [00:00<00:00, 17.26it/s]\n",
      "  0%|          | 0/1145 [00:00<?, ?it/s]"
     ]
    },
    {
     "name": "stdout",
     "output_type": "stream",
     "text": [
      "epoch 164 | tr 0.12394851149470956 | val 0.1178664180636406\n"
     ]
    },
    {
     "name": "stderr",
     "output_type": "stream",
     "text": [
      "100%|██████████| 1145/1145 [00:46<00:00, 24.69it/s]\n",
      "100%|██████████| 7/7 [00:00<00:00, 15.40it/s]\n",
      "  0%|          | 0/1145 [00:00<?, ?it/s]"
     ]
    },
    {
     "name": "stdout",
     "output_type": "stream",
     "text": [
      "epoch 165 | tr 0.12392980655197104 | val 0.12103694558143616\n"
     ]
    },
    {
     "name": "stderr",
     "output_type": "stream",
     "text": [
      "100%|██████████| 1145/1145 [00:46<00:00, 24.61it/s]\n",
      "100%|██████████| 7/7 [00:00<00:00, 15.70it/s]\n",
      "  0%|          | 0/1145 [00:00<?, ?it/s]"
     ]
    },
    {
     "name": "stdout",
     "output_type": "stream",
     "text": [
      "epoch 166 | tr 0.12395796467299153 | val 0.11556975603103638\n"
     ]
    },
    {
     "name": "stderr",
     "output_type": "stream",
     "text": [
      "100%|██████████| 1145/1145 [00:46<00:00, 24.63it/s]\n",
      "100%|██████████| 7/7 [00:00<00:00, 16.66it/s]\n",
      "  0%|          | 0/1145 [00:00<?, ?it/s]"
     ]
    },
    {
     "name": "stdout",
     "output_type": "stream",
     "text": [
      "epoch 167 | tr 0.12385746775113134 | val 0.11544043391942978\n"
     ]
    },
    {
     "name": "stderr",
     "output_type": "stream",
     "text": [
      "100%|██████████| 1145/1145 [00:47<00:00, 23.99it/s]\n",
      "100%|██████████| 7/7 [00:00<00:00, 16.54it/s]\n",
      "  0%|          | 0/1145 [00:00<?, ?it/s]"
     ]
    },
    {
     "name": "stdout",
     "output_type": "stream",
     "text": [
      "epoch 168 | tr 0.12375957672709231 | val 0.11644140928983689\n"
     ]
    },
    {
     "name": "stderr",
     "output_type": "stream",
     "text": [
      "100%|██████████| 1145/1145 [00:48<00:00, 23.80it/s]\n",
      "100%|██████████| 7/7 [00:00<00:00, 15.65it/s]\n",
      "  0%|          | 0/1145 [00:00<?, ?it/s]"
     ]
    },
    {
     "name": "stdout",
     "output_type": "stream",
     "text": [
      "epoch 169 | tr 0.12330699100004269 | val 0.11892705261707306\n"
     ]
    },
    {
     "name": "stderr",
     "output_type": "stream",
     "text": [
      "100%|██████████| 1145/1145 [00:46<00:00, 24.41it/s]\n",
      "100%|██████████| 7/7 [00:00<00:00, 15.97it/s]\n",
      "  0%|          | 0/1145 [00:00<?, ?it/s]"
     ]
    },
    {
     "name": "stdout",
     "output_type": "stream",
     "text": [
      "epoch 170 | tr 0.1236670981733616 | val 0.1165144419670105\n"
     ]
    },
    {
     "name": "stderr",
     "output_type": "stream",
     "text": [
      "100%|██████████| 1145/1145 [00:47<00:00, 24.32it/s]\n",
      "100%|██████████| 7/7 [00:00<00:00, 16.34it/s]\n",
      "  0%|          | 0/1145 [00:00<?, ?it/s]"
     ]
    },
    {
     "name": "stdout",
     "output_type": "stream",
     "text": [
      "epoch 171 | tr 0.12342027111714764 | val 0.11713610142469406\n"
     ]
    },
    {
     "name": "stderr",
     "output_type": "stream",
     "text": [
      "100%|██████████| 1145/1145 [00:47<00:00, 24.35it/s]\n",
      "100%|██████████| 7/7 [00:00<00:00, 15.11it/s]\n",
      "  0%|          | 0/1145 [00:00<?, ?it/s]"
     ]
    },
    {
     "name": "stdout",
     "output_type": "stream",
     "text": [
      "epoch 172 | tr 0.12355308194825014 | val 0.11915079295635224\n"
     ]
    },
    {
     "name": "stderr",
     "output_type": "stream",
     "text": [
      "100%|██████████| 1145/1145 [00:47<00:00, 24.34it/s]\n",
      "100%|██████████| 7/7 [00:00<00:00, 15.92it/s]\n",
      "  0%|          | 0/1145 [00:00<?, ?it/s]"
     ]
    },
    {
     "name": "stdout",
     "output_type": "stream",
     "text": [
      "epoch 173 | tr 0.1231071247897967 | val 0.1158797037601471\n"
     ]
    },
    {
     "name": "stderr",
     "output_type": "stream",
     "text": [
      "100%|██████████| 1145/1145 [00:46<00:00, 24.55it/s]\n",
      "100%|██████████| 7/7 [00:00<00:00, 16.97it/s]\n",
      "  0%|          | 0/1145 [00:00<?, ?it/s]"
     ]
    },
    {
     "name": "stdout",
     "output_type": "stream",
     "text": [
      "epoch 174 | tr 0.12321885614700406 | val 0.115691539645195\n"
     ]
    },
    {
     "name": "stderr",
     "output_type": "stream",
     "text": [
      "100%|██████████| 1145/1145 [00:46<00:00, 24.38it/s]\n",
      "100%|██████████| 7/7 [00:00<00:00, 16.30it/s]\n",
      "  0%|          | 0/1145 [00:00<?, ?it/s]"
     ]
    },
    {
     "name": "stdout",
     "output_type": "stream",
     "text": [
      "epoch 175 | tr 0.12322534558277068 | val 0.12007906138896943\n"
     ]
    },
    {
     "name": "stderr",
     "output_type": "stream",
     "text": [
      "100%|██████████| 1145/1145 [00:46<00:00, 24.40it/s]\n",
      "100%|██████████| 7/7 [00:00<00:00, 15.60it/s]\n",
      "  0%|          | 0/1145 [00:00<?, ?it/s]"
     ]
    },
    {
     "name": "stdout",
     "output_type": "stream",
     "text": [
      "epoch 176 | tr 0.12307963535950349 | val 0.11623785018920899\n"
     ]
    },
    {
     "name": "stderr",
     "output_type": "stream",
     "text": [
      "100%|██████████| 1145/1145 [00:45<00:00, 24.97it/s]\n",
      "100%|██████████| 7/7 [00:00<00:00, 17.13it/s]\n",
      "  0%|          | 0/1145 [00:00<?, ?it/s]"
     ]
    },
    {
     "name": "stdout",
     "output_type": "stream",
     "text": [
      "epoch 177 | tr 0.12306148704571572 | val 0.11621165603399276\n"
     ]
    },
    {
     "name": "stderr",
     "output_type": "stream",
     "text": [
      "100%|██████████| 1145/1145 [00:46<00:00, 24.44it/s]\n",
      "100%|██████████| 7/7 [00:00<00:00, 15.66it/s]\n",
      "  0%|          | 0/1145 [00:00<?, ?it/s]"
     ]
    },
    {
     "name": "stdout",
     "output_type": "stream",
     "text": [
      "epoch 178 | tr 0.1228658459960617 | val 0.11624708473682403\n"
     ]
    },
    {
     "name": "stderr",
     "output_type": "stream",
     "text": [
      "100%|██████████| 1145/1145 [00:47<00:00, 24.31it/s]\n",
      "100%|██████████| 7/7 [00:00<00:00, 16.47it/s]\n",
      "  0%|          | 0/1145 [00:00<?, ?it/s]"
     ]
    },
    {
     "name": "stdout",
     "output_type": "stream",
     "text": [
      "epoch 179 | tr 0.12286742521445347 | val 0.11663565844297409\n"
     ]
    },
    {
     "name": "stderr",
     "output_type": "stream",
     "text": [
      "100%|██████████| 1145/1145 [00:45<00:00, 25.10it/s]\n",
      "100%|██████████| 7/7 [00:00<00:00, 16.08it/s]\n",
      "  0%|          | 0/1145 [00:00<?, ?it/s]"
     ]
    },
    {
     "name": "stdout",
     "output_type": "stream",
     "text": [
      "epoch 180 | tr 0.12296272836159787 | val 0.11547076851129531\n"
     ]
    },
    {
     "name": "stderr",
     "output_type": "stream",
     "text": [
      "100%|██████████| 1145/1145 [00:46<00:00, 24.85it/s]\n",
      "100%|██████████| 7/7 [00:00<00:00, 15.80it/s]\n",
      "  0%|          | 0/1145 [00:00<?, ?it/s]"
     ]
    },
    {
     "name": "stdout",
     "output_type": "stream",
     "text": [
      "epoch 181 | tr 0.12292272971117721 | val 0.11640678286552429\n"
     ]
    },
    {
     "name": "stderr",
     "output_type": "stream",
     "text": [
      "100%|██████████| 1145/1145 [00:46<00:00, 24.85it/s]\n",
      "100%|██████████| 7/7 [00:00<00:00, 16.78it/s]\n",
      "  0%|          | 0/1145 [00:00<?, ?it/s]"
     ]
    },
    {
     "name": "stdout",
     "output_type": "stream",
     "text": [
      "epoch 182 | tr 0.12275907903413384 | val 0.11478813499212265\n"
     ]
    },
    {
     "name": "stderr",
     "output_type": "stream",
     "text": [
      "100%|██████████| 1145/1145 [00:45<00:00, 25.29it/s]\n",
      "100%|██████████| 7/7 [00:00<00:00, 16.61it/s]\n",
      "  0%|          | 0/1145 [00:00<?, ?it/s]"
     ]
    },
    {
     "name": "stdout",
     "output_type": "stream",
     "text": [
      "epoch 183 | tr 0.12265779542981553 | val 0.11747330993413925\n"
     ]
    },
    {
     "name": "stderr",
     "output_type": "stream",
     "text": [
      "100%|██████████| 1145/1145 [00:47<00:00, 24.31it/s]\n",
      "100%|██████████| 7/7 [00:00<00:00, 17.03it/s]\n",
      "  0%|          | 0/1145 [00:00<?, ?it/s]"
     ]
    },
    {
     "name": "stdout",
     "output_type": "stream",
     "text": [
      "epoch 184 | tr 0.12264635164556105 | val 0.11379078328609467\n"
     ]
    },
    {
     "name": "stderr",
     "output_type": "stream",
     "text": [
      "100%|██████████| 1145/1145 [00:46<00:00, 24.71it/s]\n",
      "100%|██████████| 7/7 [00:00<00:00, 16.39it/s]\n",
      "  0%|          | 0/1145 [00:00<?, ?it/s]"
     ]
    },
    {
     "name": "stdout",
     "output_type": "stream",
     "text": [
      "epoch 185 | tr 0.12230084126369244 | val 0.11778219789266586\n"
     ]
    },
    {
     "name": "stderr",
     "output_type": "stream",
     "text": [
      "100%|██████████| 1145/1145 [00:46<00:00, 24.65it/s]\n",
      "100%|██████████| 7/7 [00:00<00:00, 15.66it/s]\n",
      "  0%|          | 0/1145 [00:00<?, ?it/s]"
     ]
    },
    {
     "name": "stdout",
     "output_type": "stream",
     "text": [
      "epoch 186 | tr 0.12243266158129328 | val 0.11598576843738556\n"
     ]
    },
    {
     "name": "stderr",
     "output_type": "stream",
     "text": [
      "100%|██████████| 1145/1145 [00:45<00:00, 24.96it/s]\n",
      "100%|██████████| 7/7 [00:00<00:00, 16.99it/s]\n",
      "  0%|          | 0/1145 [00:00<?, ?it/s]"
     ]
    },
    {
     "name": "stdout",
     "output_type": "stream",
     "text": [
      "epoch 187 | tr 0.12225897099325445 | val 0.11765431046485901\n"
     ]
    },
    {
     "name": "stderr",
     "output_type": "stream",
     "text": [
      "100%|██████████| 1145/1145 [00:46<00:00, 24.56it/s]\n",
      "100%|██████████| 7/7 [00:00<00:00, 15.95it/s]\n",
      "  0%|          | 0/1145 [00:00<?, ?it/s]"
     ]
    },
    {
     "name": "stdout",
     "output_type": "stream",
     "text": [
      "epoch 188 | tr 0.12233909479490629 | val 0.11409466177225112\n"
     ]
    },
    {
     "name": "stderr",
     "output_type": "stream",
     "text": [
      "100%|██████████| 1145/1145 [00:46<00:00, 24.43it/s]\n",
      "100%|██████████| 7/7 [00:00<00:00, 16.62it/s]\n",
      "  0%|          | 0/1145 [00:00<?, ?it/s]"
     ]
    },
    {
     "name": "stdout",
     "output_type": "stream",
     "text": [
      "epoch 189 | tr 0.1221427186302497 | val 0.11577294409275055\n"
     ]
    },
    {
     "name": "stderr",
     "output_type": "stream",
     "text": [
      "100%|██████████| 1145/1145 [00:44<00:00, 25.46it/s]\n",
      "100%|██████████| 7/7 [00:00<00:00, 16.14it/s]\n"
     ]
    },
    {
     "name": "stdout",
     "output_type": "stream",
     "text": [
      "epoch 190 | tr 0.12222651727751829 | val 0.11472032070159913\n"
     ]
    },
    {
     "name": "stderr",
     "output_type": "stream",
     "text": [
      "100%|██████████| 1145/1145 [00:45<00:00, 25.17it/s]\n",
      "100%|██████████| 7/7 [00:00<00:00, 15.72it/s]\n",
      "  0%|          | 0/1145 [00:00<?, ?it/s]"
     ]
    },
    {
     "name": "stdout",
     "output_type": "stream",
     "text": [
      "epoch 191 | tr 0.12215318136321955 | val 0.1145637008547783\n"
     ]
    },
    {
     "name": "stderr",
     "output_type": "stream",
     "text": [
      "100%|██████████| 1145/1145 [00:46<00:00, 24.44it/s]\n",
      "100%|██████████| 7/7 [00:00<00:00, 16.07it/s]\n",
      "  0%|          | 0/1145 [00:00<?, ?it/s]"
     ]
    },
    {
     "name": "stdout",
     "output_type": "stream",
     "text": [
      "epoch 192 | tr 0.12202620103633895 | val 0.11420761883258819\n"
     ]
    },
    {
     "name": "stderr",
     "output_type": "stream",
     "text": [
      "100%|██████████| 1145/1145 [00:45<00:00, 25.01it/s]\n",
      "100%|██████████| 7/7 [00:00<00:00, 16.29it/s]\n",
      "  0%|          | 0/1145 [00:00<?, ?it/s]"
     ]
    },
    {
     "name": "stdout",
     "output_type": "stream",
     "text": [
      "epoch 193 | tr 0.12184771638391059 | val 0.11363264232873917\n"
     ]
    },
    {
     "name": "stderr",
     "output_type": "stream",
     "text": [
      "100%|██████████| 1145/1145 [00:45<00:00, 24.95it/s]\n",
      "100%|██████████| 7/7 [00:00<00:00, 16.99it/s]\n",
      "  0%|          | 0/1145 [00:00<?, ?it/s]"
     ]
    },
    {
     "name": "stdout",
     "output_type": "stream",
     "text": [
      "epoch 194 | tr 0.12212713532619648 | val 0.11452496528625489\n"
     ]
    },
    {
     "name": "stderr",
     "output_type": "stream",
     "text": [
      "100%|██████████| 1145/1145 [00:47<00:00, 24.24it/s]\n",
      "100%|██████████| 7/7 [00:00<00:00, 16.41it/s]\n",
      "  0%|          | 0/1145 [00:00<?, ?it/s]"
     ]
    },
    {
     "name": "stdout",
     "output_type": "stream",
     "text": [
      "epoch 195 | tr 0.12172506908038715 | val 0.11450995713472366\n"
     ]
    },
    {
     "name": "stderr",
     "output_type": "stream",
     "text": [
      "100%|██████████| 1145/1145 [00:47<00:00, 24.03it/s]\n",
      "100%|██████████| 7/7 [00:00<00:00, 16.67it/s]\n",
      "  0%|          | 0/1145 [00:00<?, ?it/s]"
     ]
    },
    {
     "name": "stdout",
     "output_type": "stream",
     "text": [
      "epoch 196 | tr 0.12170874441244418 | val 0.11335049629211426\n"
     ]
    },
    {
     "name": "stderr",
     "output_type": "stream",
     "text": [
      "100%|██████████| 1145/1145 [00:47<00:00, 24.25it/s]\n",
      "100%|██████████| 7/7 [00:00<00:00, 16.37it/s]\n",
      "  0%|          | 0/1145 [00:00<?, ?it/s]"
     ]
    },
    {
     "name": "stdout",
     "output_type": "stream",
     "text": [
      "epoch 197 | tr 0.12167675107953459 | val 0.11401998400688171\n"
     ]
    },
    {
     "name": "stderr",
     "output_type": "stream",
     "text": [
      "100%|██████████| 1145/1145 [00:45<00:00, 25.42it/s]\n",
      "100%|██████████| 7/7 [00:00<00:00, 16.73it/s]\n"
     ]
    },
    {
     "name": "stdout",
     "output_type": "stream",
     "text": [
      "epoch 198 | tr 0.12172317524327954 | val 0.1170950961112976\n"
     ]
    },
    {
     "name": "stderr",
     "output_type": "stream",
     "text": [
      "100%|██████████| 1145/1145 [00:45<00:00, 25.07it/s]\n",
      "100%|██████████| 7/7 [00:00<00:00, 16.21it/s]\n",
      "  0%|          | 0/1145 [00:00<?, ?it/s]"
     ]
    },
    {
     "name": "stdout",
     "output_type": "stream",
     "text": [
      "epoch 199 | tr 0.12151338342936222 | val 0.11616611987352371\n"
     ]
    },
    {
     "name": "stderr",
     "output_type": "stream",
     "text": [
      "100%|██████████| 1145/1145 [00:44<00:00, 25.69it/s]\n",
      "100%|██████████| 7/7 [00:00<00:00, 17.36it/s]\n",
      "  0%|          | 0/1145 [00:00<?, ?it/s]"
     ]
    },
    {
     "name": "stdout",
     "output_type": "stream",
     "text": [
      "epoch 200 | tr 0.12176480789775898 | val 0.11448420315980912\n"
     ]
    },
    {
     "name": "stderr",
     "output_type": "stream",
     "text": [
      "100%|██████████| 1145/1145 [00:46<00:00, 24.82it/s]\n",
      "100%|██████████| 7/7 [00:00<00:00, 14.57it/s]\n",
      "  0%|          | 0/1145 [00:00<?, ?it/s]"
     ]
    },
    {
     "name": "stdout",
     "output_type": "stream",
     "text": [
      "epoch 201 | tr 0.1213381198164937 | val 0.11471679359674454\n"
     ]
    },
    {
     "name": "stderr",
     "output_type": "stream",
     "text": [
      "100%|██████████| 1145/1145 [00:42<00:00, 26.99it/s]\n",
      "100%|██████████| 7/7 [00:00<00:00, 16.17it/s]\n",
      "  0%|          | 0/1145 [00:00<?, ?it/s]"
     ]
    },
    {
     "name": "stdout",
     "output_type": "stream",
     "text": [
      "epoch 202 | tr 0.12134088471535937 | val 0.11470782577991485\n"
     ]
    },
    {
     "name": "stderr",
     "output_type": "stream",
     "text": [
      "100%|██████████| 1145/1145 [00:44<00:00, 25.62it/s]\n",
      "100%|██████████| 7/7 [00:00<00:00, 15.73it/s]\n",
      "  0%|          | 0/1145 [00:00<?, ?it/s]"
     ]
    },
    {
     "name": "stdout",
     "output_type": "stream",
     "text": [
      "epoch 203 | tr 0.12145366022007861 | val 0.11235436916351318\n"
     ]
    },
    {
     "name": "stderr",
     "output_type": "stream",
     "text": [
      "100%|██████████| 1145/1145 [00:47<00:00, 24.10it/s]\n",
      "100%|██████████| 7/7 [00:00<00:00, 15.59it/s]\n",
      "  0%|          | 0/1145 [00:00<?, ?it/s]"
     ]
    },
    {
     "name": "stdout",
     "output_type": "stream",
     "text": [
      "epoch 204 | tr 0.12107937840565351 | val 0.11419104635715485\n"
     ]
    },
    {
     "name": "stderr",
     "output_type": "stream",
     "text": [
      "100%|██████████| 1145/1145 [00:44<00:00, 25.63it/s]\n",
      "100%|██████████| 7/7 [00:00<00:00, 16.89it/s]\n",
      "  0%|          | 0/1145 [00:00<?, ?it/s]"
     ]
    },
    {
     "name": "stdout",
     "output_type": "stream",
     "text": [
      "epoch 205 | tr 0.12109779501966919 | val 0.1164468052983284\n"
     ]
    },
    {
     "name": "stderr",
     "output_type": "stream",
     "text": [
      "100%|██████████| 1145/1145 [00:45<00:00, 25.23it/s]\n",
      "100%|██████████| 7/7 [00:00<00:00, 16.46it/s]\n",
      "  0%|          | 0/1145 [00:00<?, ?it/s]"
     ]
    },
    {
     "name": "stdout",
     "output_type": "stream",
     "text": [
      "epoch 206 | tr 0.12092776738926911 | val 0.11398651778697967\n"
     ]
    },
    {
     "name": "stderr",
     "output_type": "stream",
     "text": [
      "100%|██████████| 1145/1145 [00:45<00:00, 25.27it/s]\n",
      "100%|██████████| 7/7 [00:00<00:00, 16.30it/s]\n",
      "  0%|          | 0/1145 [00:00<?, ?it/s]"
     ]
    },
    {
     "name": "stdout",
     "output_type": "stream",
     "text": [
      "epoch 207 | tr 0.12122214233130013 | val 0.11353156954050064\n"
     ]
    },
    {
     "name": "stderr",
     "output_type": "stream",
     "text": [
      "100%|██████████| 1145/1145 [00:47<00:00, 24.04it/s]\n",
      "100%|██████████| 7/7 [00:00<00:00, 16.45it/s]\n",
      "  0%|          | 0/1145 [00:00<?, ?it/s]"
     ]
    },
    {
     "name": "stdout",
     "output_type": "stream",
     "text": [
      "epoch 208 | tr 0.1209577444087538 | val 0.11441300332546234\n"
     ]
    },
    {
     "name": "stderr",
     "output_type": "stream",
     "text": [
      "100%|██████████| 1145/1145 [00:48<00:00, 23.81it/s]\n",
      "100%|██████████| 7/7 [00:00<00:00, 17.22it/s]\n",
      "  0%|          | 0/1145 [00:00<?, ?it/s]"
     ]
    },
    {
     "name": "stdout",
     "output_type": "stream",
     "text": [
      "epoch 209 | tr 0.12113054943091225 | val 0.11312227100133895\n"
     ]
    },
    {
     "name": "stderr",
     "output_type": "stream",
     "text": [
      "100%|██████████| 1145/1145 [00:45<00:00, 25.40it/s]\n",
      "100%|██████████| 7/7 [00:00<00:00, 16.42it/s]\n",
      "  0%|          | 0/1145 [00:00<?, ?it/s]"
     ]
    },
    {
     "name": "stdout",
     "output_type": "stream",
     "text": [
      "epoch 210 | tr 0.12090394960306006 | val 0.11227966248989105\n"
     ]
    },
    {
     "name": "stderr",
     "output_type": "stream",
     "text": [
      "100%|██████████| 1145/1145 [00:45<00:00, 24.98it/s]\n",
      "100%|██████████| 7/7 [00:00<00:00, 16.00it/s]\n",
      "  0%|          | 0/1145 [00:00<?, ?it/s]"
     ]
    },
    {
     "name": "stdout",
     "output_type": "stream",
     "text": [
      "epoch 211 | tr 0.12105631429967482 | val 0.11291802197694778\n"
     ]
    },
    {
     "name": "stderr",
     "output_type": "stream",
     "text": [
      "100%|██████████| 1145/1145 [00:47<00:00, 24.05it/s]\n",
      "100%|██████████| 7/7 [00:00<00:00, 16.55it/s]\n",
      "  0%|          | 0/1145 [00:00<?, ?it/s]"
     ]
    },
    {
     "name": "stdout",
     "output_type": "stream",
     "text": [
      "epoch 212 | tr 0.12086475093101759 | val 0.1124822723865509\n"
     ]
    },
    {
     "name": "stderr",
     "output_type": "stream",
     "text": [
      "100%|██████████| 1145/1145 [00:46<00:00, 24.48it/s]\n",
      "100%|██████████| 7/7 [00:00<00:00, 16.56it/s]\n",
      "  0%|          | 0/1145 [00:00<?, ?it/s]"
     ]
    },
    {
     "name": "stdout",
     "output_type": "stream",
     "text": [
      "epoch 213 | tr 0.12084460645474732 | val 0.11387888044118881\n"
     ]
    },
    {
     "name": "stderr",
     "output_type": "stream",
     "text": [
      "100%|██████████| 1145/1145 [00:46<00:00, 24.65it/s]\n",
      "100%|██████████| 7/7 [00:00<00:00, 16.77it/s]\n",
      "  0%|          | 0/1145 [00:00<?, ?it/s]"
     ]
    },
    {
     "name": "stdout",
     "output_type": "stream",
     "text": [
      "epoch 214 | tr 0.1206615731579796 | val 0.11179750084877015\n"
     ]
    },
    {
     "name": "stderr",
     "output_type": "stream",
     "text": [
      "100%|██████████| 1145/1145 [00:45<00:00, 24.90it/s]\n",
      "100%|██████████| 7/7 [00:00<00:00, 16.94it/s]\n",
      "  0%|          | 0/1145 [00:00<?, ?it/s]"
     ]
    },
    {
     "name": "stdout",
     "output_type": "stream",
     "text": [
      "epoch 215 | tr 0.1206014347489727 | val 0.11410869926214218\n"
     ]
    },
    {
     "name": "stderr",
     "output_type": "stream",
     "text": [
      "100%|██████████| 1145/1145 [00:46<00:00, 24.54it/s]\n",
      "100%|██████████| 7/7 [00:00<00:00, 15.52it/s]\n",
      "  0%|          | 0/1145 [00:00<?, ?it/s]"
     ]
    },
    {
     "name": "stdout",
     "output_type": "stream",
     "text": [
      "epoch 216 | tr 0.1206920272692806 | val 0.11242123663425446\n"
     ]
    },
    {
     "name": "stderr",
     "output_type": "stream",
     "text": [
      "100%|██████████| 1145/1145 [00:47<00:00, 24.30it/s]\n",
      "100%|██████████| 7/7 [00:00<00:00, 15.99it/s]\n",
      "  0%|          | 0/1145 [00:00<?, ?it/s]"
     ]
    },
    {
     "name": "stdout",
     "output_type": "stream",
     "text": [
      "epoch 217 | tr 0.12040302862634172 | val 0.11225751340389252\n"
     ]
    },
    {
     "name": "stderr",
     "output_type": "stream",
     "text": [
      "100%|██████████| 1145/1145 [00:47<00:00, 24.17it/s]\n",
      "100%|██████████| 7/7 [00:00<00:00, 15.31it/s]\n",
      "  0%|          | 0/1145 [00:00<?, ?it/s]"
     ]
    },
    {
     "name": "stdout",
     "output_type": "stream",
     "text": [
      "epoch 218 | tr 0.1204131929508461 | val 0.11277376383543014\n"
     ]
    },
    {
     "name": "stderr",
     "output_type": "stream",
     "text": [
      "100%|██████████| 1145/1145 [00:45<00:00, 25.31it/s]\n",
      "100%|██████████| 7/7 [00:00<00:00, 17.04it/s]\n",
      "  0%|          | 0/1145 [00:00<?, ?it/s]"
     ]
    },
    {
     "name": "stdout",
     "output_type": "stream",
     "text": [
      "epoch 219 | tr 0.12045958431698474 | val 0.11471624135971069\n"
     ]
    },
    {
     "name": "stderr",
     "output_type": "stream",
     "text": [
      "100%|██████████| 1145/1145 [00:46<00:00, 24.56it/s]\n",
      "100%|██████████| 7/7 [00:00<00:00, 16.73it/s]\n",
      "  0%|          | 0/1145 [00:00<?, ?it/s]"
     ]
    },
    {
     "name": "stdout",
     "output_type": "stream",
     "text": [
      "epoch 220 | tr 0.1201665589027056 | val 0.11346892386674881\n"
     ]
    },
    {
     "name": "stderr",
     "output_type": "stream",
     "text": [
      "100%|██████████| 1145/1145 [00:46<00:00, 24.79it/s]\n",
      "100%|██████████| 7/7 [00:00<00:00, 16.41it/s]\n",
      "  0%|          | 0/1145 [00:00<?, ?it/s]"
     ]
    },
    {
     "name": "stdout",
     "output_type": "stream",
     "text": [
      "epoch 221 | tr 0.12049788881358701 | val 0.115324946641922\n"
     ]
    },
    {
     "name": "stderr",
     "output_type": "stream",
     "text": [
      "100%|██████████| 1145/1145 [00:45<00:00, 24.90it/s]\n",
      "100%|██████████| 7/7 [00:00<00:00, 16.15it/s]\n",
      "  0%|          | 0/1145 [00:00<?, ?it/s]"
     ]
    },
    {
     "name": "stdout",
     "output_type": "stream",
     "text": [
      "epoch 222 | tr 0.12029375292110599 | val 0.11441626608371734\n"
     ]
    },
    {
     "name": "stderr",
     "output_type": "stream",
     "text": [
      "100%|██████████| 1145/1145 [00:44<00:00, 25.46it/s]\n",
      "100%|██████████| 7/7 [00:00<00:00, 15.59it/s]\n",
      "  0%|          | 0/1145 [00:00<?, ?it/s]"
     ]
    },
    {
     "name": "stdout",
     "output_type": "stream",
     "text": [
      "epoch 223 | tr 0.1202617913606614 | val 0.113598972260952\n"
     ]
    },
    {
     "name": "stderr",
     "output_type": "stream",
     "text": [
      "100%|██████████| 1145/1145 [00:46<00:00, 24.65it/s]\n",
      "100%|██████████| 7/7 [00:00<00:00, 16.97it/s]\n",
      "  0%|          | 0/1145 [00:00<?, ?it/s]"
     ]
    },
    {
     "name": "stdout",
     "output_type": "stream",
     "text": [
      "epoch 224 | tr 0.12016171920000124 | val 0.11261371225118637\n"
     ]
    },
    {
     "name": "stderr",
     "output_type": "stream",
     "text": [
      "100%|██████████| 1145/1145 [00:46<00:00, 24.55it/s]\n",
      "100%|██████████| 7/7 [00:00<00:00, 16.26it/s]\n",
      "  0%|          | 0/1145 [00:00<?, ?it/s]"
     ]
    },
    {
     "name": "stdout",
     "output_type": "stream",
     "text": [
      "epoch 225 | tr 0.12013818425922942 | val 0.1131522649526596\n"
     ]
    },
    {
     "name": "stderr",
     "output_type": "stream",
     "text": [
      "100%|██████████| 1145/1145 [00:47<00:00, 24.23it/s]\n",
      "100%|██████████| 7/7 [00:00<00:00, 16.40it/s]\n",
      "  0%|          | 0/1145 [00:00<?, ?it/s]"
     ]
    },
    {
     "name": "stdout",
     "output_type": "stream",
     "text": [
      "epoch 226 | tr 0.12013125082133672 | val 0.11272347956895828\n"
     ]
    },
    {
     "name": "stderr",
     "output_type": "stream",
     "text": [
      "100%|██████████| 1145/1145 [00:47<00:00, 23.98it/s]\n",
      "100%|██████████| 7/7 [00:00<00:00, 16.81it/s]\n",
      "  0%|          | 0/1145 [00:00<?, ?it/s]"
     ]
    },
    {
     "name": "stdout",
     "output_type": "stream",
     "text": [
      "epoch 227 | tr 0.12008239028885363 | val 0.1128645247220993\n"
     ]
    },
    {
     "name": "stderr",
     "output_type": "stream",
     "text": [
      "100%|██████████| 1145/1145 [00:45<00:00, 25.43it/s]\n",
      "100%|██████████| 7/7 [00:00<00:00, 16.49it/s]\n",
      "  0%|          | 0/1145 [00:00<?, ?it/s]"
     ]
    },
    {
     "name": "stdout",
     "output_type": "stream",
     "text": [
      "epoch 228 | tr 0.119908303013435 | val 0.11218060135841369\n"
     ]
    },
    {
     "name": "stderr",
     "output_type": "stream",
     "text": [
      "100%|██████████| 1145/1145 [00:47<00:00, 24.09it/s]\n",
      "100%|██████████| 7/7 [00:00<00:00, 16.46it/s]\n",
      "  0%|          | 0/1145 [00:00<?, ?it/s]"
     ]
    },
    {
     "name": "stdout",
     "output_type": "stream",
     "text": [
      "epoch 229 | tr 0.1198372601014553 | val 0.1141120371222496\n"
     ]
    },
    {
     "name": "stderr",
     "output_type": "stream",
     "text": [
      "100%|██████████| 1145/1145 [00:46<00:00, 24.59it/s]\n",
      "100%|██████████| 7/7 [00:00<00:00, 17.04it/s]\n",
      "  0%|          | 0/1145 [00:00<?, ?it/s]"
     ]
    },
    {
     "name": "stdout",
     "output_type": "stream",
     "text": [
      "epoch 230 | tr 0.11982625824585659 | val 0.11118884563446045\n"
     ]
    },
    {
     "name": "stderr",
     "output_type": "stream",
     "text": [
      "100%|██████████| 1145/1145 [00:43<00:00, 26.07it/s]\n",
      "100%|██████████| 7/7 [00:00<00:00, 16.57it/s]\n",
      "  0%|          | 0/1145 [00:00<?, ?it/s]"
     ]
    },
    {
     "name": "stdout",
     "output_type": "stream",
     "text": [
      "epoch 231 | tr 0.11981094793367998 | val 0.1112603622674942\n"
     ]
    },
    {
     "name": "stderr",
     "output_type": "stream",
     "text": [
      "100%|██████████| 1145/1145 [00:46<00:00, 24.87it/s]\n",
      "100%|██████████| 7/7 [00:00<00:00, 17.10it/s]\n",
      "  0%|          | 0/1145 [00:00<?, ?it/s]"
     ]
    },
    {
     "name": "stdout",
     "output_type": "stream",
     "text": [
      "epoch 232 | tr 0.1196574960397203 | val 0.11214932888746261\n"
     ]
    },
    {
     "name": "stderr",
     "output_type": "stream",
     "text": [
      "100%|██████████| 1145/1145 [00:46<00:00, 24.88it/s]\n",
      "100%|██████████| 7/7 [00:00<00:00, 16.75it/s]\n",
      "  0%|          | 0/1145 [00:00<?, ?it/s]"
     ]
    },
    {
     "name": "stdout",
     "output_type": "stream",
     "text": [
      "epoch 233 | tr 0.11971012091672456 | val 0.11232023984193802\n"
     ]
    },
    {
     "name": "stderr",
     "output_type": "stream",
     "text": [
      "100%|██████████| 1145/1145 [00:47<00:00, 24.08it/s]\n",
      "100%|██████████| 7/7 [00:00<00:00, 15.46it/s]\n",
      "  0%|          | 0/1145 [00:00<?, ?it/s]"
     ]
    },
    {
     "name": "stdout",
     "output_type": "stream",
     "text": [
      "epoch 234 | tr 0.11967604703959174 | val 0.11174891859292985\n"
     ]
    },
    {
     "name": "stderr",
     "output_type": "stream",
     "text": [
      "100%|██████████| 1145/1145 [00:46<00:00, 24.83it/s]\n",
      "100%|██████████| 7/7 [00:00<00:00, 16.47it/s]\n",
      "  0%|          | 0/1145 [00:00<?, ?it/s]"
     ]
    },
    {
     "name": "stdout",
     "output_type": "stream",
     "text": [
      "epoch 235 | tr 0.11954337819951041 | val 0.11436688035726547\n"
     ]
    },
    {
     "name": "stderr",
     "output_type": "stream",
     "text": [
      "100%|██████████| 1145/1145 [00:46<00:00, 24.59it/s]\n",
      "100%|██████████| 7/7 [00:00<00:00, 15.66it/s]\n",
      "  0%|          | 0/1145 [00:00<?, ?it/s]"
     ]
    },
    {
     "name": "stdout",
     "output_type": "stream",
     "text": [
      "epoch 236 | tr 0.1194319676379021 | val 0.11161649733781814\n"
     ]
    },
    {
     "name": "stderr",
     "output_type": "stream",
     "text": [
      "100%|██████████| 1145/1145 [00:45<00:00, 25.36it/s]\n",
      "100%|██████████| 7/7 [00:00<00:00, 17.41it/s]\n",
      "  0%|          | 0/1145 [00:00<?, ?it/s]"
     ]
    },
    {
     "name": "stdout",
     "output_type": "stream",
     "text": [
      "epoch 237 | tr 0.11953771344680718 | val 0.11441471338272095\n"
     ]
    },
    {
     "name": "stderr",
     "output_type": "stream",
     "text": [
      "100%|██████████| 1145/1145 [00:45<00:00, 25.00it/s]\n",
      "100%|██████████| 7/7 [00:00<00:00, 14.66it/s]\n",
      "  0%|          | 0/1145 [00:00<?, ?it/s]"
     ]
    },
    {
     "name": "stdout",
     "output_type": "stream",
     "text": [
      "epoch 238 | tr 0.11944354489514843 | val 0.11319719165563584\n"
     ]
    },
    {
     "name": "stderr",
     "output_type": "stream",
     "text": [
      "100%|██████████| 1145/1145 [00:47<00:00, 24.18it/s]\n",
      "100%|██████████| 7/7 [00:00<00:00, 16.89it/s]\n",
      "  0%|          | 0/1145 [00:00<?, ?it/s]"
     ]
    },
    {
     "name": "stdout",
     "output_type": "stream",
     "text": [
      "epoch 239 | tr 0.1192396330981511 | val 0.11218126356601715\n"
     ]
    },
    {
     "name": "stderr",
     "output_type": "stream",
     "text": [
      "100%|██████████| 1145/1145 [00:45<00:00, 24.96it/s]\n",
      "100%|██████████| 7/7 [00:00<00:00, 16.89it/s]\n",
      "  0%|          | 0/1145 [00:00<?, ?it/s]"
     ]
    },
    {
     "name": "stdout",
     "output_type": "stream",
     "text": [
      "epoch 240 | tr 0.11923932533608478 | val 0.11400063127279282\n"
     ]
    },
    {
     "name": "stderr",
     "output_type": "stream",
     "text": [
      "100%|██████████| 1145/1145 [00:45<00:00, 25.20it/s]\n",
      "100%|██████████| 7/7 [00:00<00:00, 16.13it/s]\n",
      "  0%|          | 0/1145 [00:00<?, ?it/s]"
     ]
    },
    {
     "name": "stdout",
     "output_type": "stream",
     "text": [
      "epoch 241 | tr 0.1191686432506587 | val 0.11235982239246368\n"
     ]
    },
    {
     "name": "stderr",
     "output_type": "stream",
     "text": [
      "100%|██████████| 1145/1145 [00:45<00:00, 25.10it/s]\n",
      "100%|██████████| 7/7 [00:00<00:00, 16.76it/s]\n",
      "  0%|          | 0/1145 [00:00<?, ?it/s]"
     ]
    },
    {
     "name": "stdout",
     "output_type": "stream",
     "text": [
      "epoch 242 | tr 0.11940679748731008 | val 0.11083257585763931\n"
     ]
    },
    {
     "name": "stderr",
     "output_type": "stream",
     "text": [
      "100%|██████████| 1145/1145 [00:45<00:00, 24.93it/s]\n",
      "100%|██████████| 7/7 [00:00<00:00, 16.06it/s]\n",
      "  0%|          | 0/1145 [00:00<?, ?it/s]"
     ]
    },
    {
     "name": "stdout",
     "output_type": "stream",
     "text": [
      "epoch 243 | tr 0.11928522221921019 | val 0.11319297432899475\n"
     ]
    },
    {
     "name": "stderr",
     "output_type": "stream",
     "text": [
      "100%|██████████| 1145/1145 [00:42<00:00, 26.82it/s]\n",
      "100%|██████████| 7/7 [00:00<00:00, 15.79it/s]\n",
      "  0%|          | 0/1145 [00:00<?, ?it/s]"
     ]
    },
    {
     "name": "stdout",
     "output_type": "stream",
     "text": [
      "epoch 244 | tr 0.11925322677947249 | val 0.1109555858373642\n"
     ]
    },
    {
     "name": "stderr",
     "output_type": "stream",
     "text": [
      "100%|██████████| 1145/1145 [00:46<00:00, 24.71it/s]\n",
      "100%|██████████| 7/7 [00:00<00:00, 16.43it/s]\n",
      "  0%|          | 0/1145 [00:00<?, ?it/s]"
     ]
    },
    {
     "name": "stdout",
     "output_type": "stream",
     "text": [
      "epoch 245 | tr 0.11906444570779345 | val 0.11119039177894592\n"
     ]
    },
    {
     "name": "stderr",
     "output_type": "stream",
     "text": [
      "100%|██████████| 1145/1145 [00:45<00:00, 25.30it/s]\n",
      "100%|██████████| 7/7 [00:00<00:00, 16.16it/s]\n",
      "  0%|          | 0/1145 [00:00<?, ?it/s]"
     ]
    },
    {
     "name": "stdout",
     "output_type": "stream",
     "text": [
      "epoch 246 | tr 0.11916277609763495 | val 0.11104318290948868\n"
     ]
    },
    {
     "name": "stderr",
     "output_type": "stream",
     "text": [
      "100%|██████████| 1145/1145 [00:45<00:00, 25.05it/s]\n",
      "100%|██████████| 7/7 [00:00<00:00, 17.51it/s]\n",
      "  0%|          | 0/1145 [00:00<?, ?it/s]"
     ]
    },
    {
     "name": "stdout",
     "output_type": "stream",
     "text": [
      "epoch 247 | tr 0.1190208976959681 | val 0.11421572327613831\n"
     ]
    },
    {
     "name": "stderr",
     "output_type": "stream",
     "text": [
      "100%|██████████| 1145/1145 [00:43<00:00, 26.52it/s]\n",
      "100%|██████████| 7/7 [00:00<00:00, 16.24it/s]\n",
      "  0%|          | 0/1145 [00:00<?, ?it/s]"
     ]
    },
    {
     "name": "stdout",
     "output_type": "stream",
     "text": [
      "epoch 248 | tr 0.11885554952159984 | val 0.11190977931022644\n"
     ]
    },
    {
     "name": "stderr",
     "output_type": "stream",
     "text": [
      "100%|██████████| 1145/1145 [00:46<00:00, 24.42it/s]\n",
      "100%|██████████| 7/7 [00:00<00:00, 16.75it/s]\n",
      "  0%|          | 0/1145 [00:00<?, ?it/s]"
     ]
    },
    {
     "name": "stdout",
     "output_type": "stream",
     "text": [
      "epoch 249 | tr 0.11891528561593338 | val 0.11161578685045243\n"
     ]
    },
    {
     "name": "stderr",
     "output_type": "stream",
     "text": [
      "100%|██████████| 1145/1145 [00:47<00:00, 24.20it/s]\n",
      "100%|██████████| 7/7 [00:00<00:00, 15.02it/s]\n",
      "  0%|          | 0/1145 [00:00<?, ?it/s]"
     ]
    },
    {
     "name": "stdout",
     "output_type": "stream",
     "text": [
      "epoch 250 | tr 0.11889850952823469 | val 0.11207429617643357\n"
     ]
    },
    {
     "name": "stderr",
     "output_type": "stream",
     "text": [
      "100%|██████████| 1145/1145 [00:46<00:00, 24.70it/s]\n",
      "100%|██████████| 7/7 [00:00<00:00, 15.52it/s]\n",
      "  0%|          | 0/1145 [00:00<?, ?it/s]"
     ]
    },
    {
     "name": "stdout",
     "output_type": "stream",
     "text": [
      "epoch 251 | tr 0.11878141796421295 | val 0.11010808199644088\n"
     ]
    },
    {
     "name": "stderr",
     "output_type": "stream",
     "text": [
      "100%|██████████| 1145/1145 [00:46<00:00, 24.86it/s]\n",
      "100%|██████████| 7/7 [00:00<00:00, 17.38it/s]\n",
      "  0%|          | 0/1145 [00:00<?, ?it/s]"
     ]
    },
    {
     "name": "stdout",
     "output_type": "stream",
     "text": [
      "epoch 252 | tr 0.1188542185350744 | val 0.11224948942661285\n"
     ]
    },
    {
     "name": "stderr",
     "output_type": "stream",
     "text": [
      "100%|██████████| 1145/1145 [00:44<00:00, 25.71it/s]\n",
      "100%|██████████| 7/7 [00:00<00:00, 17.57it/s]\n",
      "  0%|          | 0/1145 [00:00<?, ?it/s]"
     ]
    },
    {
     "name": "stdout",
     "output_type": "stream",
     "text": [
      "epoch 253 | tr 0.1186957258191097 | val 0.11378168702125549\n"
     ]
    },
    {
     "name": "stderr",
     "output_type": "stream",
     "text": [
      "100%|██████████| 1145/1145 [00:46<00:00, 24.39it/s]\n",
      "100%|██████████| 7/7 [00:00<00:00, 16.54it/s]\n",
      "  0%|          | 0/1145 [00:00<?, ?it/s]"
     ]
    },
    {
     "name": "stdout",
     "output_type": "stream",
     "text": [
      "epoch 254 | tr 0.11880115616070974 | val 0.11166383564472199\n"
     ]
    },
    {
     "name": "stderr",
     "output_type": "stream",
     "text": [
      "  7%|▋         | 85/1145 [00:03<00:45, 23.11it/s]"
     ]
    }
   ],
   "source": [
    "if args['mode'] == 'train':\n",
    "    writer = SummaryWriter(summary_path)\n",
    "    with open(os.path.join(args['results_folder'],'checkpoints', args['name'] +'_params.json'),'w') as fp:\n",
    "        saveparams = copy.deepcopy(args)\n",
    "        json.dump(saveparams, fp)\n",
    "        \n",
    "    if args['resume']:\n",
    "            print('loading checkpoint from file %s'%(os.path.join(checkpoint_path,args['checkpoint_file'])))\n",
    "            checkpoint_dict = torch.load(os.path.join(checkpoint_path,args['checkpoint_file']+'.pth.tar'),map_location=device)\n",
    "            start_epoch = checkpoint_dict['epoch'] + 1\n",
    "            model.load_state_dict(checkpoint_dict['autoencoder_state_dict'])\n",
    "            optim.load_state_dict(checkpoint_dict['optimizer_state_dict'])\n",
    "            scheduler.load_state_dict(checkpoint_dict['scheduler_state_dict'])\n",
    "            print('Resuming from epoch %s'%(str(start_epoch)))     \n",
    "    else:\n",
    "        start_epoch = 0\n",
    "        \n",
    "    if args['generative_model'] == 'autoencoder':\n",
    "        train_autoencoder_dataloader(dataloader_train, dataloader_val,\n",
    "                          device, model, optim, loss_fn,\n",
    "                          bsize = args['batch_size'],\n",
    "                          start_epoch = start_epoch,\n",
    "                          n_epochs = args['num_epochs'],\n",
    "                          eval_freq = args['eval_frequency'],\n",
    "                          scheduler = scheduler,\n",
    "                          writer = writer,\n",
    "                          save_recons=True,\n",
    "                          facedata=facedata,\n",
    "                          metadata_dir=checkpoint_path, samples_dir=samples_path,\n",
    "                          checkpoint_path = args['checkpoint_file'])"
   ]
  },
  {
   "cell_type": "code",
   "execution_count": null,
   "metadata": {},
   "outputs": [],
   "source": []
  }
 ],
 "metadata": {
  "kernelspec": {
   "display_name": "Python 3",
   "language": "python",
   "name": "python3"
  },
  "language_info": {
   "codemirror_mode": {
    "name": "ipython",
    "version": 3
   },
   "file_extension": ".py",
   "mimetype": "text/x-python",
   "name": "python",
   "nbconvert_exporter": "python",
   "pygments_lexer": "ipython3",
   "version": "3.7.4"
  }
 },
 "nbformat": 4,
 "nbformat_minor": 2
}
